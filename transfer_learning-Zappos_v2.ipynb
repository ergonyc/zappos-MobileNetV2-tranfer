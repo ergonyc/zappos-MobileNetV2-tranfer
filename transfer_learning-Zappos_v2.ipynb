{
 "cells": [
  {
   "cell_type": "markdown",
   "metadata": {
    "colab_type": "text",
    "id": "hRTa3Ee15WsJ"
   },
   "source": [
    "# Transfer learning with a pretrained ConvNet"
   ]
  },
  {
   "cell_type": "markdown",
   "metadata": {
    "colab_type": "text",
    "id": "2X4KyhORdSeO"
   },
   "source": [
    "Lets try two ways to customize a pretrained model:\n",
    "\n",
    "1. Feature Extraction: Use the representations learned by a previous network to extract meaningful features from new samples. Simply add a new classifier, which will be trained from scratch, on top of the pretrained model so that you can repurpose the feature maps learned previously for the dataset.\n",
    "We will not (re)train the entire model. The base convolutional network already contains features that are generically useful for classifying pictures. However, the final, classification part of the pretrained model is specific to the original classification task, and subsequently specific to the set of classes on which the model was trained.\n",
    "\n",
    "1. Fine-Tuning: Unfreeze a few of the top layers of a frozen model base and jointly train both the newly-added classifier layers and the last layers of the base model. This allows us to \"fine-tune\" the higher-order feature representations in the base model in order to make them more relevant for the specific task.\n",
    "\n",
    "General machine learning workflow:\n",
    "\n",
    "1. Examine and understand the data\n",
    "1. Build an input pipeline, in this case using Keras ImageDataGenerator\n",
    "1. Compose the model\n",
    "   * Load in the pretrained base model (and pretrained weights)\n",
    "   * Stack the classification layers on top\n",
    "1. Train the model\n",
    "1. Evaluate model\n"
   ]
  },
  {
   "cell_type": "markdown",
   "metadata": {
    "colab_type": "text",
    "id": "hoQQiZDB6URn"
   },
   "source": [
    "## Setup"
   ]
  },
  {
   "cell_type": "code",
   "execution_count": 1,
   "metadata": {
    "colab": {},
    "colab_type": "code",
    "id": "iBMcobPHdD8O"
   },
   "outputs": [],
   "source": [
    "from __future__ import absolute_import, division, print_function, unicode_literals\n",
    "import os\n",
    "import numpy as np\n",
    "import matplotlib.pyplot as plt"
   ]
  },
  {
   "cell_type": "code",
   "execution_count": 6,
   "metadata": {
    "colab": {},
    "colab_type": "code",
    "id": "TqOt6Sv7AsMi"
   },
   "outputs": [],
   "source": [
    "import tensorflow as tf\n",
    "keras = tf.keras\n",
    "\n",
    "\n",
    "#warnings.filterwarnings('ignore')\n",
    "#logging.getLogger(\"tensorflow\").setLevel(logging.ERROR)\n"
   ]
  },
  {
   "cell_type": "code",
   "execution_count": 7,
   "metadata": {
    "colab": {},
    "colab_type": "code",
    "id": "KT6CcaqgQewg"
   },
   "outputs": [],
   "source": [
    "AUTOTUNE = tf.data.experimental.AUTOTUNE"
   ]
  },
  {
   "cell_type": "code",
   "execution_count": 8,
   "metadata": {
    "colab": {},
    "colab_type": "code",
    "id": "KT6CcaqgQewg"
   },
   "outputs": [
    {
     "name": "stdout",
     "output_type": "stream",
     "text": [
      "TF version: 2.0.0\n"
     ]
    }
   ],
   "source": [
    "print(\"TF version:\", tf.__version__)"
   ]
  },
  {
   "cell_type": "code",
   "execution_count": 9,
   "metadata": {
    "colab": {},
    "colab_type": "code",
    "id": "gIksPgtT8B6B"
   },
   "outputs": [],
   "source": [
    "import IPython.display as display\n",
    "from PIL import Image\n"
   ]
  },
  {
   "cell_type": "code",
   "execution_count": 10,
   "metadata": {
    "colab": {},
    "colab_type": "code",
    "id": "ZJ20R66fzktl"
   },
   "outputs": [
    {
     "data": {
      "text/plain": [
       "'2.0.0'"
      ]
     },
     "execution_count": 10,
     "metadata": {},
     "output_type": "execute_result"
    }
   ],
   "source": [
    "from datetime import datetime\n",
    "#from keras.preprocessing import image\n",
    "#from PIL import Image\n",
    "# from sklearn.preprocessing import MultiLabelBinarizer\n",
    "# from sklearn.model_selection import train_test_split\n",
    "# from sklearn.calibration import calibration_curve\n",
    "#from tensorflow.keras import layers\n",
    "\n",
    "tf.__version__"
   ]
  },
  {
   "cell_type": "markdown",
   "metadata": {
    "colab_type": "text",
    "id": "wO0InzL66URu"
   },
   "source": [
    "### Retrieve the images\n",
    "\n",
    "Before you start any training, you will need a set of images to teach the network about the new classes you want to recognize. You can use an archive of creative-commons licensed flower photos from Google.\n",
    "\n",
    "Note: all images are licensed CC-BY, creators are listed in the `LICENSE.txt` file."
   ]
  },
  {
   "cell_type": "code",
   "execution_count": 11,
   "metadata": {
    "colab": {},
    "colab_type": "code",
    "id": "rN-Pc6Zd6awg"
   },
   "outputs": [],
   "source": [
    "import pathlib\n",
    "data_dir = 'data'\n",
    "data_dir = pathlib.Path(data_dir)"
   ]
  },
  {
   "cell_type": "markdown",
   "metadata": {
    "colab_type": "text",
    "id": "rFkFK74oO--g"
   },
   "source": [
    "After downloading (218MB), you should now have a copy of the flower photos available.\n",
    "\n",
    "The directory contains 5 sub-directories, one per class:"
   ]
  },
  {
   "cell_type": "code",
   "execution_count": 12,
   "metadata": {
    "colab": {},
    "colab_type": "code",
    "id": "QhewYCxhXQBX"
   },
   "outputs": [
    {
     "data": {
      "text/plain": [
       "34278"
      ]
     },
     "execution_count": 12,
     "metadata": {},
     "output_type": "execute_result"
    }
   ],
   "source": [
    "image_count = len(list(data_dir.glob('*/*.jpg')))\n",
    "image_count"
   ]
  },
  {
   "cell_type": "code",
   "execution_count": 13,
   "metadata": {
    "colab": {},
    "colab_type": "code",
    "id": "QhewYCxhXQBX"
   },
   "outputs": [
    {
     "name": "stdout",
     "output_type": "stream",
     "text": [
      "/home/ec2-user/Projects/zappos-MobileNetV2-tranfer\n"
     ]
    },
    {
     "data": {
      "text/plain": [
       "PosixPath('data')"
      ]
     },
     "execution_count": 13,
     "metadata": {},
     "output_type": "execute_result"
    }
   ],
   "source": [
    "print(os.getcwd())\n",
    "data_dir"
   ]
  },
  {
   "cell_type": "code",
   "execution_count": 14,
   "metadata": {
    "colab": {},
    "colab_type": "code",
    "id": "sJ1HKKdR4A7c"
   },
   "outputs": [
    {
     "data": {
      "text/plain": [
       "array(['Boots', 'Shoes', 'Sneakers'], dtype='<U8')"
      ]
     },
     "execution_count": 14,
     "metadata": {},
     "output_type": "execute_result"
    }
   ],
   "source": [
    "CLASS_NAMES = np.array([item.name for item in data_dir.glob('*') if item.name != \"LICENSE.txt\"])\n",
    "CLASS_NAMES"
   ]
  },
  {
   "cell_type": "markdown",
   "metadata": {
    "colab_type": "text",
    "id": "IVxsk4OW61TY"
   },
   "source": [
    "Each directory contains images of that type of flower. Here are some roses:"
   ]
  },
  {
   "cell_type": "code",
   "execution_count": 15,
   "metadata": {
    "colab": {},
    "colab_type": "code",
    "id": "crs7ZjEp60Ot"
   },
   "outputs": [
    {
     "data": {
      "image/png": "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\n",
      "text/plain": [
       "<PIL.JpegImagePlugin.JpegImageFile image mode=RGB size=136x136 at 0x7F6FB5511400>"
      ]
     },
     "metadata": {},
     "output_type": "display_data"
    },
    {
     "data": {
      "image/png": "iVBORw0KGgoAAAANSUhEUgAAAIgAAACICAIAAACz2DQFAAA56UlEQVR4nO29d5hV1bk//q61dj/9zJnKNHqvioANVCygoGBHwK4xmqvXa2JM02gsiZporCEajV0QaSLSi4gIKEWqDDAFps/pZbe11u+PPXM4oOQbkxvv6G8+zzzznLPPPnv2Xp/1lvWWNYhzDl3ofMD/1zfQhW9GFzGdFF3EdFJ0EdNJ0UVMJ0UXMZ0UXcR0UnQR00nRRUwnRRcxnRRdxHRSdBHTSdFFTCdFFzGdFF3EdFJ0EdNJ0UVMJ0UXMZ0UXcR0UnQR00nRRUwnRRcxnRRdxHRSdBHTSdFFTCdFFzGdFF3EdFJ0EdNJ0UVMJ0UXMZ0UXcR0UnQR00nRRUwnRRcxnRRdxHRSdBHTSdFFTCdFFzGdFF3EdFJ0EdNJ0UVMJ0UXMZ0UXcR0UnQR00nRRUwnRRcxnRRdxHRSCP/XN/DvomO3NRuBBUABGAAGEAEIcAE4cOacQzFmzjykjHLOCSEIEAcOAAgQAACgjpn6r89XagMhAAhsmyGECEEAQCklhGQyGUHAoig6ZzJuY4RPRMEPTGKckUUAYFuU2owzQBgwAUwIYMQoNUyTYEEgIgLMOEOAEKCMrkM7N/Bvjgnu+LZpmoyx7OuGhgZVVR1WbNtmjGGETcs84ZN833f4c+4eAQOwAFiHxAgAInCgFjDGEQaEKCAbgFOGRFFECFm2wTmXRCnnYv+uuAAAZ2CaVBAxIciyaDwe1zRFVVXnU11Py7KMEIpGo26PJhDhRBLzvScmywyAnaPKCGNCVgQQAkCs41M599uM2Y5a6zjw76oQy+SiiI6KHwAApNNpANA0jXOaSqU0TcMYAzjy9EMlhnUoofahd0BsGwjGCAEAUMZtW+dgcqDMVkkHsmrHtm1B+MYBYt+aKg6WxSmzFEUCAF03AZiiKACQTqc1TQEAzrlhGPFEtCC/4AdNDACgrNA4EIAD52BTAASC4HxkAVDL0CQJA4Cu25RSl0sGANsGQfzG68K/QAxjQBlljDU2Nm7atOnjj9fu27fP7/dTSseMGXXWWWf1799fVdX/H0gMZIlpH00OmHOwLA4AkoQAGAfzcP2hhsY6Pe4qLy8vLy9ztBdjgBCgo1ov96L/aOBOhGgk6fe7W9vCDz/88CuvvBKLxTRN0XUdY1xaWppMxgVBqKysvP3226dPn5bRM6ri+eYL8e87KOeUc3b0DeOUcU4Ztym3Obc5b2yrf+Wt50eP6w8SAODevfv+6Y/PpFMmZzyVNOOxDGe8/efoRa2On2+H6kOHb73ldllWFUWrrOyRn1+oaVooFPJ6vaFQCABOPnlEfn5eaWnJlzu3/oPrf/8lhkIiaYsSUlTCOTUtXZQUBAQAmlrb8kN5ANac+W9t2/GZz69EY23rPvxq69atlPK77777oQcfRgiLIlAKts1kGQOATW3bNkWJEEw4MATtbptlWRhjx00wDEMQBEKIYRiUUk3TAGDLli3z58//28uvMcYosyiljDlUU+friqJEo9GTTx7R0tISjUbPHHv6wgULKW0XUmeho6qqYRiyLH/vF5iAwOMWAAGllDJDliQOLBaPeryB/FCgsfXwJxtWB0Oum2+7bn/VzrrD1ZvXHArmefWM+dprr/bu3XvG9GsBCGMgipgx4BwEQRAEx2XinHPbtizLEgRBkiToWILIcrtr57zYuHHjSy+9tHr16mQyySjmnFNmM8acdQznDCGEMTZNEwAMw7AsyzTN/fv3vz/v/alTrkin044/bds2ACCE4IdhYygFQjhgaloZQRQRIAagm+ac92ffd99PG+sjw0aXjR13CkP6rL8utpqhqCiQTunRaKZf3z5btmxTFZVzcEwO58ABbFunzEIIRFEkuN2PcsAYcxaJpmlKkrRz585nnnnmww8/NE0TIRQOh1XFwznnQJ3z228RQBRF0zQzmczAgf1jsVgymbSpeeqpp360ZEUmk3FkLh6Pe71eSilC6Hu/8uccAGxANgebCAgB5WC1RhoffuT+++//ZTQZAQSCzC6cfO6AQT29fmAcRAlC+f7uPYr27vtqwYK5pmUyxgGAUuAcMAZJUlRFVWSFYJLJZAAAIaTrepaVeDy+efPm6dOnn3LKKa+99hpjzDTNRCIRDAZt26aU5uix9nnvSI+qyowxhJDL5eKcb9myZfXq1Q4rnHPHqyaE/BBsjG1agoQAqG1nsIARwMGag8tXrbz/tw801ye1IPzi13eeNHKAyaIVlUUNjbUP3fnahg37/T4QBTWRyJSVdv9q30GAdjfXtpkkO5PVtmxL1zOa6stZfkJra+ucOXPee++9Tz/91Ov1KoqSyWSSyaRt2wghzjnBMgAAYggh1O7tMQAwTZMQoqpyIBCIx+OKohhmJp1OX3bpVa+++qpDpyzLjiD+EIgBsG3LFEQEQA071djc0Nzc3NTa4vK4lyz7cNTok/r0L69r+IqjNKAMkeHw58Kvf3V/NMqHDe1XV9t45HD0yx3bBw0ako2GWjY1TV0UiSQJABxABIB0Or1r166FCxcuWrRo//79lNJAIJBOpxljiqIIguCoKdu2BaIghBDm6KgPzjjnpmlqmuZyqYSQVColyzIRkGmaoqDu27dPkiRKqaIojuWHH0B0GYDaVEcEA9j19YdrD9ealq6qyurVK+bNm/vJxtX33vdfbr/Q1NJW1r0wlY5OvPDCgwerkgn9pJNGPfPnF6PR+Esvz3rk4T9wjlyaCgCiSAhRMQYAls6k21rjixYtmjdv3r59+2KxmK7rkiQFAgFd1y2r3fUCAMfGKIpiWwAAWXHJzntRFGVZFgSBMebIBGNcFMVIOLJjx46RI0c6zoUsy04Y4ntPjJFOK5rKwdq+/cu2aIvb66qpPTRv4YKPlq3TU1C1t+1537M/+e8be/fr3dB4MJTvq66uCgT9U6ack4hn3G4NANav/9jR8sDBNBkRECE4Ho/Omz/3vffmfLphC2OMECJJkqO7dF2PRqOO+yvLsq7rzlASQiilAOS4O8x6DZRSx6kTRVHXddOyCCGapu3bt2/UqFEYY8dddpj+zxNznKZEXz+DHfOad9wSsgG4ZVsYiZiI6RRFiKgqUADLZpIIFkuLGCEpsGt384033vjZxjWnjzvpnnvv+p+7/xQLY1ke6dMAS01L5+3rO+Cj//7vO+2Ef/8XTY8/+Icvt21fvPS8eMwKFZZyYce23Tvi6SMezWdQs7q6bv36T5d8uHzzpq2JRFpRFEVRnDF1CHAMuzPQmUwGY4wxdia7QwBGMiCbMRuQCUAR5ggjxAVJkv2+kGlalqmbpkGpKckEYx4zWgNFCsIZDoIoYw4QjydDecH/vI3Jvfw3sALHEgPAMLUBEBABADmODUEYgAOjgBBw7OS2uE0zjJtvvjH7F7/4VWtLS2GJ95oZk0efNsI0yF13PNTaYEuaBkKYEd024aNVz674aNsfH39VQkRPGu++/5aA0RdfbPnD40+KIvrJj2/XdWPb1h3bvtieSOg+b8DjDtg2Tad1QaScc0dlOZS0E4DxcUPXrruogjDFhCNsOeFTzjmj2O/L54zYNpVlSZQIpQbjlm2bml9asmRpn+69EYiMI9sGWZSSCf0/LzHfTEYuHC/oKD0YZ2NfjrIGxgEAYnHdF1QAoLa2pqK8CBFzxrSr3p+3FBiMOqP81tumnTyqVyLT3NaanPX3e6+beW8w4Kqu1SUJTj8nf/fOQ0889pIslEpKs27AmrXLr7l6GgeWl+draorNmvVXTXVzjny+YDAgUooM3bBtSgjSdT03UtL+TDkmhHOOOoAxpgyB4xxzCkARBkIIwYKmaeG2OEIYY2xZlk11xizGbYTkbdu+6Nu9TzIdJ0RWZTcAuFxK57ExHSsqBOhoMJgBcAYACCMQA0HSHG4IBf0V5b5DR7bvP7jrimvOP+3MwdXVB2/50YyW8P59BzYobjtQEFIEfOc9Vzz0y3dEN9z8o9Nvve2WZEzq3af3gb1Jj4+6PGDTFMLWZ5s+SSaTqoLLy3ocPlxPbQBmc44sy9IzJuOMYCLJOJcSAHDcYsc/hg6SHHDOMQFKOaU24yYhIIuiLKmiKDuWQ1FkSmkyFcOECQKSZfHMsafX1tY6ikWRFQAwDEuWxO+AmGM11f8rim4znRCMwGJgUWZwxAkiGEhja21BqCgUlNsSNU3NtUcaDwkS7T+o24qPNsybP69nz57DR1YUFZaZvAUAUun4lVddsmXLlimXTjjtzEFtkWpJLJgwaeSfd76VSIGRglS67amnH//kk02iIAiCuGvn3pKS8kg4lognAUBVVI/HgwkghDKZ1HH+lSMizluMsfOps5xkjAFHAAxhLomSM/SSKBEiptNpJ/PvxNncHtmmuqpKl102VdfNlJ5ya24AlEgmvG5fPJ78Dlb+LOcHjn39DeBUQSABqBhUgjURuTHIAFJBqNSgFEBoC0d37d5TWdmdUnrzzTfPfntpWz2/957H3/z7UswKwS5sa8IVJSfv3H745BFjzzh93N59XwJO2dDcu78XFKAcZtxw+r333TVgYB89BQght9tbUFDUUN9i2zzgD4by8gVBSCRjkUhbPB7NFQjIUWKOG5blzPG4HNcAY6yqqsfj8Xg8kiQxxgzDcM60bduyDU1TJEnIZFKyIn7++ecrV660bRMAGNhOek0UvwuJ4Tl2xuHjH80GEQPYAAhzLCMkAwBjkEinVFV95KEnt3zxWfeepZMmn7duzee/uf8XTY0gMsXjCxKBz3phUWlp6ZTLz8/3CU8/MfepJ14hMh45clQgWMpYpKa2auDgwedd1KNbYf60q68CoGPGnDJkxOKmhrieMY0Uc7s9qaQRSSdEgciy6HK5KLUotY4zLdDBDcbYCVNmzYxTSiCJLkEgooSIwBFilHJKGaVUUzXLbLdGREDpTBIQPfnkER98sGjLZ1W33HjTsEGBRCLm84SSybjb7f1ubMzRvDwAdORrvzlr2xFGBITbs4qRWLqlpfmGG274YttWM5NAEhNEPuKkgf5gsLktLIDu9rrC4ZggwKOPvFBUXPLSrLc3ra8CVEST9rtvrLvrZ5Obo7tLSwYQ8F94wVUjhpdpmnvnrh3dy/rPnDnznjsfKSouRBSlkjrGglsTMQHbNg09jRAVBIHS9nR1roUHAMdJc/w0jLGzfhRF0aX5GaOUGTbVKTU55wAYI4FS7jjWjJsYI8PIFBSEpkydnHg7tuWzqpUrlw8bNMLn8elmxu12w3dYvnS8c2aapqPTnGA4AOi6DgAgQDiWFGQQJNvmqX2Htv3qgduGjOixccsa04z1H178yutPTr3q7LKertfe+tNP7jqbIWhoaDMsWlQi/c9Pry0sCsYTUWC8pKQnIM87b364f2+b390TrMLVy/beeesja9euTSRSHrevubm5saE5kKdmMgZjjFLuxOmd5aSiKJIkAWI5BQIYcrSWY/xVVQ0EAvn5+Xl5eS6XSxTFVCqVTqedRQ8AxhgLgiCKovNFWZZlWc5kUrpueDyu8vLS6dOnAYJFixZx4ABMkaTm5mb4TsL+9ok+0A2d2tzlcjlv4/G4pmkmb1ZF0YLMpi2f6HYqEmlZt25dIpX8/PPPx48fP2Xq5GQmmsq0uTwklQ6XdCtM1Jc+9ODDmqbd9uObevct4Yh9vvmr++55uqnWyisqb2veN+Dkbg89+tP1H29+6cWFiUYerIj//Oe3njpm7CfrNr83e/GhA42MitRAtsUp5bZpMW4DUCIgQQAiIGqjrwMAnDAzQijLWXsChgvcKcdBNgDHGCOEERBRVJOJtMfrymQSHMxkOj7xwjMfefRBG/i99963cf2mdes+yQ8V5/mLEBCA7yIk83WhZA4riqyADBzsZDLpcXu8XhcAYDC27tlYXVeVSsf9Aa1339Le/acxxh5/PBoMKRkrGgxpZnNzNNbqC6oUMg2HU717Dr/iyinllcGqQ5uwaA4YUvrjOy955s+zDb0GBLZ7T51Jw7P++nqqFWRvSbgx/vdXZjceSW7ZtH3H9q801ZVKGj5XgBCgNhcIYgwjBIIIokgEQbBtBsf6xO12gpCsjcnGAiilAiHZ6oOsTQKOAQBjbBiGbdtEZJYFnFNdTxNZGTt2LLe5x+PK8+dljJQmezmn3310+WidA2W2aZqqItvURpgTRBKpxIp1i1vbmv0BraAgT5KxYRnLly9/+eU321rB5tCvn3v6jKvPPuc0SYOv9u9cuXLZ28/WW7aOsP6zX9xw1YyxO/asyy/I0+SilSu2/+aXL8+4ftRV08/z57nrqmM/uuGRdFwN5UF9bSZUJJkZmk5Rn88XbosFvHmcIYwFkQiCIGACTkgYOvIoDnLHymHFoSR3vUmwDIgB2AhzhBxuEAIRI8m2bZualGUYz8Titi8Azz736HkTJ365Y5fPHZAlrXtlb5fiRyBEIvHvKiRzjIlhACwSDQf8vuxbAIjEIvPnz7vvl38YNLjfyJEjRo0+KZ1J/OWvs9at2qS6BSLKjIEoirHW6JRpF4w4aeBzzz/V1Ew9tBcARyQpqJHrbj535o0X7d6zo7iwF+e+BfMXnXvBKLdfrz1SRZDfI/e9645Hwo2pVCrl8XgQx+mUrqoqAErFU4qiECJKgugEdhljjvubE70/hhhHRJysl6PNHIWGEHGeCGEOwBFCwAkATiUNSZIs29BcAhFs3YxGY2zxhy8JivqrX/360osvnzH9+pC/OBJLIi4E/KHvauX/NXoC/gAAS+tJTVEot7dt/+Ldd999/PG/uL2elctWfLZpfTozs0//Pnl5eYUl/nA0SU3bzFiImENGDptwweSKyqJPh3/64bwNcb1B1hTMLAvMJ3+/OGNGp06dumXjwTffXLx1a/WmTZvu+80Npd16tLWk0un07x5+4Pqr7g36uzHGRBEbOovHE3l5eaomyZLEOafMsDKG4wIAYM45Qvzresx5hKyH5hDTcRw5nziBPsY4ZxQAeTwejLGVMOLxWDJlAAbA0NTU8KsHHqo5aPrdK6+deaMNZsDnQyDFYrHvNogJ2eovBsAB7FQm4VK1xR8tuueeu/fta5Qk4DJMnjxy0uSJ3XuWm6bu8Xii0eRLf3tt3dqNo0eN6Teg/4SJ5yLEWtrqSsuKt23b8udH3t+944gnAIYJQOChh2/wuAt+fMNjQEVR83AS7jfY8+sH/0uRPZmE63e/fa7hoM45j8Za3S5NECCeiLrdqtetAYBt27ZJbZsyCgAYYwEjgYOVNRXZ0c9d7eced5zj9gdEjHPGGGcUGMOGbsmyjAkQwbZpqqDI86MfX3/DjdOvveFH78/5tG9f34pl6woKii0TXLIXQPzPE8OO1WMdxOhGhoO1YMG8lpbmgsKgZVmNjfWrV6++eHqf0WNOTiTjTS31AEwURZ8vL5Ux//byG5dfdlXf/v2am5uSqTAmlIMpSkjM9Hv+uVl79nx16603nzl2zJH6xu4VQ9etOPDIwy831B3WAjydOtJziPyzn927btXud978SGRet0fT9ZRppHx+NxG4YaQVSWDM5hwB44wh4BghgkBECDF+tCA/d6yczHyWMCfY7Kw1nQfkQDlnlDJqc84JoyAIguZSDDMeT8SCIfLhR3OLikMfLFl+y42/dbvh1VdenDrpSgYEGOEcH0dMbgXiccg6V2kAAiAAFwGOrust2xBFAsA5IADBMBi1kaYiAwMCEDgQBtwExgHLQHFyV9WWN2b/raJHt6FDh4mgRRuSC+cu3bThc7VbxZjRQ3r3K+jePV8U8Jdb9y5funHtyo2xcNxXIN5594wRo3vILhZNtAUDBb5AyGjB8xcs7tat/KzxZyfTkZZIndsjMoQbjySffOTvuz6rBeqWXO7u3fNkLVNdc1DVIJ0Et6IkY4IkevxebzhaJ6uQSqQlUdWUQtsUMglDUpAkc92IIlHJXfnjDjgLz6xay4afZeLYJ2ZZ1HG1JUkSRRETlkhEMKEer5JMxXv3KX3m2af8fq8t4v59xodCcMvNN10z7dr+vYekM7pL9f2TxOS6vBkAAThpT7J1EMO4zbgtEMIBUYYIJsCBUkhyjgGBAYSCSwMAaGhqW7Z6wc79mwed1Ku8snTFilWfrNl0cFft4UPh/EB+c6oFBOg5wD9p8tnpZOatvy9JtkEwWIhASOkRXU+PnzTglttmFncraW2NLly09P3XFiMM0Va49zc/Om/CmRm7BWEDi1gSfYlW/NSTr+3fc+SKy6ece+6on913U01tlBqgSJCMgkQKPO5gOhXlKJmXr1pmOpkwgKsi8XKbCyKXFMp4xrTVo9L+NTOTS4kzkkYqTggRBIkQkTPEGDi5HN1IDhjQZ3/VbkCMA3CAL7auEAQCqnTTTTebGfOaadfu2rn3z398kTIuYOkbjf83hgOyB4VjTugweBhhavNINCJKskvzmKbNOZYlrCATARFEgXCo2lP90dLFb777t42ffyF6YPiooutvnOnyQDR+JJYOExFiiRZww7CTCiZedObEiWe3NoVbGptWLt0Wbm5yewsUxW3R9IoPdicSL0+6ePIbr8/Zu61WxMTjDahq5g+Pvrhn7/4f33kN5UwUBUWRbA3KK/MvunDCeeeOM83Gnn39+w5GkQ6BvDI7ZXm0bprmjYYTgiSGw7HCIn8mY1GLctANK5PMpFUKkgwIaZCzIsnmibOLyuNSNYpLZYxRRqmNMBawIEiSCACBkK+67nBhSTfDTFJq1DekFy9ZOmXKxTZFP73nvvJu5Vu/2DFj+vUUGLWB4+PXMf9EiJ7bAAAIO4umLD3JZNztVjuuhSybGobldrnDsEMAYc/Or97629vvz57b2EhdPqjoTabfcPmwUQN8AXdjQ6tXyws3JBfNWdZ0pPWSWyf16llsWOFYrMnnDgY95du2HHnhz2/t+LwmWKR5fHjazCmXXHoRA/T2m++/9c7c1n0WECFUUNDaUo9d0LOv54GH7o4m25Z+tGLh23vdPsgk4aKLxt1118yGli/nvPe3tQupJAT0lCwJedTmlCc1l9EaOVBS6lckNZRXLEuu1tbW1nCdaSQNCxSpICslWVaykf+vZ888HtEyqWXZlHLgGGMBAHNOE4lEWXlxXV01wgwQeH3C2rWr3G73408/HQgEZ0ybEfDntbZGKit6iFgBQMKxZPwzobMODXaM0DC3W0ukEy7NBcCisajPl6cJ8uKlCz/89I/dist7lPYaf/7osvLArh07+g7qfs11lx5q3E9xuuZIlSyoHq90aF+rxZK9elf06duds6RNU6oGab1NQMKoU/v27X3/yy+9dtIpQ4eN6ImVdFtiq2nRq68dc8qZpU/ct2Dn7v3JdAMgkGTo3rMEEzZv3twVCxqAg2UiavI1qzYdqTt02x1XXnPVbSGlYfGiNapbE7jYFG3x+SUsIEkSk8lkqLKgd+/eecEiXdfjiZbaw3v3H9htpo+mYY4jJpePLJqbGyVJUWRN0zRBkBgF07QtCwKBgM8bSAbikkxqa5tKS4Mrlq9dtXoFklx33XlvRXH5J59+OnfuvMcffxIAtbS0Iafk+VsQcwwlR21SJB7xe/0M7EwmJavqe3Nnz5492+vznDNldEGgIOjOtzNs04ZN8+bO0a3UWeefes5FZ5g8JSpiS0PbsiXrVn24vqHaxhw8PeDWW66acNFpGKdbW1p8WkEszOe9t3TLli3DT+7/y9/c3hj+qqHloMfndmlem+Ei8fQ77/qf6urDF06+cMzpJ/XqVxKOHHH7vEuXbPjz42/F68HlKzaNjJWJSh54+JHbFDH0wG8et3RXcUHfWDiOiWWxCEcJameCwfziwp5BX7HfF/AHXJFY/Z6922qq48c8fU7OP+so5/jKoGmAMeYcUZubJrXM9kIBjHE40goAXq+quZRf/vLeyRdPkmXZFyravHnzu2+9W1NTM2P6zDPOGJsXCImiiDi3cijJISZLwHFx4WM6uJzliJOSh8bmxqKCApObj/3+0c82fTJp0oUTJlxQdaQlFCjYsOrTV2a9tn9PFefcpEkb6zaC3z56d9pIP/vMrFQjUySXwNwCUtJazIxFh4wpu+uumxGw92cv2vr5/sPVcaAQLCbDT664/e5rKnrk79i5o6ioGAuKYoaaWyJr13wy/dqZgZB2oHo3RzpHOBTsvmT+ptdf+ejg3kZgvHefosuvPnfy5LPWbZj/wnOvH9oLXq/H487j1OAohbBp2QY1CWI+grwuxVdUHJJkHok2NzY3ZfnIikj7LMY4u4JxLDxjjKM0pdQ0bMNgjIEkCj5fwOPxnXTSSZdccknfvr379eujqBLGKBoNz31/zutvzU0kEsMGD7n55lsDgUC3bt08LncmY3yT8T9hXUtOmgsBAAWwARgHDoAsSt1ubdXHaz5auvjTjR/v2r3js03r33zn5Zm33vLXWavfe2cJS0JJYcgwDD2tF3fzXHLFhX37l8qaGotfNueNBW11qYBXFYCZKQwM+zylwLxbNm9ZNPdzsHFeXi9GIRUNr/zgYFXV0zfees3lV1yzY8fu6toj7/zt6a2fNyMBUml++VWTNa8vGk9yjMLh1ksvm3zKSeOfeOz5884957TTBnr8VjxRf+ElYwSRPvH7t+prE6JMGTcViad1qmlAsCghl23IzS3RpuY2VSUI28KxOf+slNi2nT3uxG+c+j9EzFAoVFHevWfP3v369R8yeNjQocOLiooAIJFIiaK4fv26hoYjq1avWLJkSUVF+RVX3zBhwoQ8f8Dr9UYiEVGQAUBVZcS5ldEzquLE3rFp2giIKKJs95tlWZxTQcQYIQ7c1AXLMt0eAcDKmPFEKrpz585kMh2NJD9atvzjjz8+XNuq+SGdgFPHll98yaQBY4plLG/fsnv96g3rV+/DANffeOH4iWORyuKZiEXNbsWVLfWJRXOWvf7SOk2Ecy+bOuWS80MFsqoikSjLP/zk7deX7d1+OJRf3hpuFGXLshPdeoQefvSR+3/zSM2+amDg8imyLIfbYv2Hd3vt7WfaItWySyBYQZb3o8UbN3267bFHf0tZi8UaI9EaX56CufdQVezeex49cogChqHDQ5ylY7H04RooKSyUSehIXWu3bt0YNw4fqfZ4FU3TEEJOBawkSQghpzFDUZTW1tZUKiVJEiGkoqJi7NixV1x58aBBgwryiyijBAsAeMeOnStWrFq5cmVdXd2BAwcYY6NGjbzsssvGjTuzpKSEgswYk0URIcQY1TRNFjHjgDi3GGdOig0AI4QYBUIAYbAsypgpyQLqSNTbzBaQDxDYNLV67UcvzHp642fre/fuPXXKFT169V+3dsPWrVv3H9g7+tThF006d/iIAaaVbjJ2xiKJIX1GECq/9fe3QqHQJZde9MXOTTqL+/O9bZFwKmkO6DUioBR+tHBNKFDSd0z3VLLZsMKMpZlFKksGHakxf/+7l9Ys/8wX8haVeGbccMXJp4wQRGnf3ppf/vrB6CG9sFu3aDQqaRiJaW8efX7WI5yY6z/e+MwfP9DbADjkd4PHn/jZsJNL05kmjHw1h1qHDBi3ccPuB+5/+Cd33Np/YLmsMmbZT/zhuWUf7ne7lJ6Vfffv3z90WL8+fbtv+6LKMAynQYlzblmWkwdz8nv5+fnjxo0bOXLkGWecMWzYMEVRAKzWttbNmzcvXbrs43WfNDW1BAKB4uJuY8eOHThw4NChQ0OhkLM+dbpkNE/Qtm0RE0CMUqqqiiITSjmy7IxABMbAsmh7P46jmxA4/XKc24ybHGxJEBDwdFpbsHDOc88/2RKpG3fWmLPPObN79+4WxQS5NM3z5c7d8+bPGXnKkLPHj4knmsKRJjUvVFneY/MnW+e88f6GNVtTKbh46ugbfjSzpDL/sy8+LasoryjvueqjT+a9u2zd0i/69e7z49+N6de3wrDaKE0JWEpFkN/dq3vpiKf+9ELvvj0GDKrIK3IRibe0tgnEVV3b+NhP39mza58n4MmYadug3hJ4/I93rly7bPbbeyQCsgACkiJhc+Ag5cmnfuELcAGVKlIAscDbb37Qs0evc849/Uj9bgZx3Uiqovven/5uw8c1oghGBnwBeP2NZ9cuP7RixYrt27erqhoMBjVN69mz59ChQ3v06HH22WeXlZWl02m32805//TTT9euXTt/4dz6+npJUkaPHj1+/HmDBw8uLy/PDxVGIhGnqDMej+u67nK5gsGgqsoZAyzLIoAYt23bUlVZVSTbtpFuJGVJBifa6aTcOQCAbZuShAEogMXATKYjtbXVNbWHZKGCCOztd18SZeva66+SJHyksUmW3AerGv4y65WDB6qjUVtSYcQpxeecO/qCCeds+LRt8aKl6xZvAAb5eUWxaNSieqjEe9aEM6+cfrlJzb++8Mqq+Rtc3jyWETMpC7xt1//45EsvP8/nE0zdKgpVtjRYr740d83q9ZdeMenmH11Z17R7x67Nw08akUqaZRU97Kby226/Y/OGg0NGll01/ZLTxw3XzTa3z/XA/Y+tWFzLEkAUsUf3sv17Dpb1gpdefhThgh3bvnrxubervqxV3Npjj//mzLOGNDbtFSWGQAx6iy+bOuPgAeO00yvHnT3qzLGjJ51zr2ma/fr1u+WWW6ZNm1ZYWAgdFUwtLS3z589ftmxZXV3doUOHMMajRo2acunUXr169e3b1+12p1KpVDIjiqLL5bJt20lRS5IkigQAbBtisZjL4zNNiyBOqW1ZhqZpmirbtolsqhMsMsYwFgAgHk+63W6MwTAygCyEaSodrTt8sKGxBhPu93v/8vziFSsX19S2AgEiwk23nj5+/Hl/fvovH6864vGD3++LRmMpE5gFZb3g3p9ft2Vb8tW/vgcJKC0vNpNmKpnAAk8YVt+hBQ8//tCzLzy7ZsGX/kIt31N6aG99eUnPpFTfXNvSd7j7pz+7zaVqb7wyZ/263bFmAACkwNXTR913/+31TVWJVCI/v6g1HO9bNPLgobrdu/dccdVV4VhjUm9RNF7f1CiR4PzZ6956bSm3XJloGBArqkBPPHn/nPeXLHj3M6AQKipvrT888rQhf/rzr4N5JGNEBaIU5lcuX7J21cp1d951u0UTXp+ybysaMmRIRUUF57y+vr6qqmrjxo1btmxpa2vbs2eP1+s966yzRowY0adPnx49eni93oxuO8X8lmXIsux2uy3LcrLmgiAghBz/DWMsCBLG2LSpZVkEAWO2TU2XS9UUlXEb2bZJCNF102lnMk1bkoR0Oq1pUn1jzTPP/vGll58fPKTPTTdf++XObY89NgdRQAQUDUpK4eQx/adMnZwfKlqx7JN1677Yv+9w0xETROg3yDvzuktHnToQYTOSlg7sPbBq6dplH+xmOuQXwMChPcedd+rIU4e5/GrGzOzZXfXzu18wWyA/Xww3W1TSwEiPGT/g2msvX79u7RsvrQEG3UoqI5GYrPFIOHrOpD5PPPVgMpVKpfRQQcmy95fMnvN+XV3rsy88OWR4v01frCmryE8b6aC/VEElP7/n8RULVw8eMfzKKydMuuQ0yqJrPt7y61/+SUCaZUjl5eV7v9xx/uQRTz51fyoZNQ3Y/Nmu3Ttrrp9xU1lZqc+vKCqWoLyqqsrpjNm9e7eqqgMGDOjdu3d+fv75558/cuRIAEilUk5jJsaYcYFzjjHCGJxAGULcqXVyGqAsy7Isi3PuFGmkdMO2bREjDpRSy+VSVVlhnCHLMgRByGQMVVWdpnfG+Jw5b/9l1vO7dm+NRNOnjOo5bfqlw4YPbGlt2LNn1xuvrkulw+dNOO3Kqyf489Xm5nrbhuLingR8K5Z/snDBh5ddOfXs8WMam6samr8KBLUMyF6X3yv7Ppy/bNMnm087bczYc04LFHgONx+MpcNEIiXFlQ01bQvfXfbmSxsUGYaeNvSO26/v3a/Y7caWzl6Z9e4rLy1ItPDS8l6tkUbVZUfC6cGnFNz/2wd37fzqD088lWpgkgZmGkLdtBf++mSPPvnVdTuLSwssEwfdlYgF3nxtzs03zcxkGg7UbKqoDHh93Z/641//8vx8ZhMzSQFA9sADD/5o7NgzWhoTh2viY8+4sKy4h8ulVB34avWaZW+/Mae5uTkUCk2aNGnSpEmVlZWiKGbzlUeOHMlkMiUlJfF4PJlM9urVK5akTvUeIYgxZlNLEARVlR1nGgBEUXSKZnRdNwxDkhRKLZEgAEappWmaIkmU0fYWGafmI51O27Z94MD+559/fveeL88ce/rki88fOLgXwqZuJEpLSwYP6WemC4q7BU87Y0jaaK6pqfJ4NUkSM5lULBJPJBJOyWEkEjEtPRgMpDJtii/PMsECEIhaWFDat88gnze/rraGCRgjRVW0hvrWkuLK2++4K+gqO/WUsd1PCsgSPdKwq64hlh8svGbmhXnBot/d/8Lh2ipvnj/SEh9wUtnECRMVKfDi839PtbDCgtJEMu0KyK31DXf91y8ffPS/zxp/yoGa3Yrs/mjpwueeec3nzht/3vD8fOTx02jiYDID198wbfNnOzesquo7uEePym6nnj50woRz+/cYkOmD3FLpwYPht15fNHv27IOHvurRs2zy5MlnnnnmiBEjOOfRaDSVSjlV4YIgyLLcrVs3Smk6nfb5fHl5ebFYTHX7AFTTZKZpCoLgcmuU0mQy4eztw3l76ZOzKtI0jTHGOSYEAyDOqdMUyzlHNuUcKMYYAT9w8MDLL//117/5RXNz4/vz3qusrMjLCxABud2abdtr165ZsGDB1s2ZZKrt9DOHXXH1Bf0GlGkuua62/uN1W+a8s8TUSSwcB8wuvWLiJZeeU9zNg4guB9DiD5avXL7h881HaBJCZeLki8+def1UhqLNrYe6dy9Lp+x0Eq9YumnR/LU33nDHeZNLIpFIKpVxaV7L4rbFyssrFi1a9MADbwXz4LbbJk+YeF46E/V4tZqaA3/803ObPgRVBUkEQqC5CfIL0IsvzGprC7/44qwd2w+IIpgmnHHGKb/61a9CeQV1dXWKorlcLs6RKIplZWUF+YUIEGV8/fr1S5cunzt3bk11Xf/+/adMmXLRRZP79+9vcZ6tInOUj6ORnCPOYjOb/8/qK2fhmRvlzEZucn8DADfT2TRPtnYAIYQM0xZFYlpmIhGrqamZMuXiQYMH3n//r4uKCvbu293W1grAdny5bf7896uqmr1e4LTU51dqqqv8BfCTO2dSZv791XeOVIPXR+IRWlZejhCrrTnsDcGMa88dOrzfk39cuG9PDZhA5CACkXHbH1BHnNz7R7dPK6vIa21r3rJ568uzZtfuiQSLuocPR25/sP9FF07yev3xWBpj0eP2YSyIorhw4cIpUye53eq+r3YJInK7lWQqatvWr277e0NDQ2srEwTIy5PPOH3s1KmXzp793rJly+NRUFTQMyBK8JM7fnz++ef36NFDEJS8vDy35raoVX2oZsmSJfPmLdi1a1c0Gh8yZMgF508cP378oEGD3G5vJpNJpVK+vLxs1NIpVnZoOC43kyUmN2yTS0aWquN+S4jm5t+ywTcBYQ4Akig5DZ/33HPP2++8NW7cuEmTJk2ZcvGECRMTiXhTU0vAny9LzZE2AH44bcKEi086a/zI4hJ/fkEgmKf+5cXXDlZRXx6kjca2VlPxwsSLRow6daDLLWhSsUvRLSR4XCFV8SVT8XBt7YqmjemkccNNV//udw9W723p1b8/cGZnPOXd+zz3p6WNh2MPPfRwMlrv1YKWQQ8drHniiSerqsKtTfEpUya55PyW1gYjzT2eoCjSv/3t1RkzZjTWN15/3aVXXz0tFAoFAnkBf/62rTskMT5s2PCBAwafdtppEydepCpqOpMOt8WWL1sxd+7cVatWNTa0uD2u0aNH33XX3RdddFHAnxcMBgVBMAzL6b0PBDyJjOXw4SBbGZvbJZkbszmOldwU59dPAABJPHrx3PMR4/xI/RGfzxeNhuPx+ID+/SLRyIKF83/729+2tjaXlJTMnDn9uuuuKyoq2rFjx+dfbN791fbefSr79i/FQjqebFJVWRTltpb0vPc/Wjh/YyoF06aNm3LpBcGQbFgRwIbPdepfXnxl+bJ1LU1JK2kCgpLuhZddMfG0M4b07Vf5zLNPv/z8GmCgeQRZzEvGLTUYjodhxCn5Tz/17Lq1GxYsWLjp40NEBZoBVxB+9rM7pkydXF1dBYhWVJQ1tzQGpV5r164tLi4eNmxELBZramwpLCwsLS3XNFc0Ei8rKyNIjCViO3bsnDdv3hdffLFuzQZFlcvKysaNGzd58uSBAwe73W5VcVmWRQjBWODt/WO8fYOSjnFzsvrHEZMbWnaQrQU4TjJyQ205kgEi4rma7eiZqUxaVeRUOhWNRqPRqONrE0LKy0tff/31V199dc+ePbZtl3QrPvvss8ePH99vcGnPyrKmSHV17W6EzeaW+kg4UVHehzPpww9W9ujRe+zY0+uOVIWjdYVFXt1IKJor4C/YuWP/43/4c22NdeWVZ593/riCIi/glEWTHo9n/cefPvP0osYjEApCKgmxNiitFMePv+Dqq66544479+9t8geVRFx3ueR4xBBVmDnzykmTJ3q97kQyZlmGHgNCyKBBg0pKSjHGPrc/Y2baWiOGYW3atGnTpi0bN27cvWuPruuBQKCiovt1190wYsSIvn37Ok31esYkhPh8Ps6RU0hGiCCKIkJg29SyLI4hdyLnSkluSua42POx6UfIpgk6iEEYt8eHj2+lzRKTSMVdmisSjdTX13s8HlmWCREppeFwuKKiAgA2b968atWq7du379mzp7q62hMQXG7lgoljL5x0dmlZfmFhvtfrj4TTmRR7f+4HCAljx56uaNDSWgdYx4RGos0+b1BVfLU1TemUUVxcLEogiDSZbpNkBMDygkUfr93y+O9fba6HQBBNnnzxtGnTu5WU1dYeNg36u4ce83p9Xq+/V69e5eXlhYX5AwcO6Nenj8WMcLi1MFSIAarrqg8drKmurl63bt3evV/t37+fcxQJJ4BDQWHe4MFDR48efcopo4cMGVJRXtHQ0KRpmrOY8Pl8mqboup1OpznnGJNshRjnTtkRQ2I7Mdk0jLOAtywrd6ZnXzg1glkOsvoJnyDVlRveP0a2DEtPJpMd3f9Wc3OzpmmMgqqqiUTCtpnf7w+FQgCoubm5qalp3fr1X+7c9vH6FVX7DwICbwAGDOjft8/AvGDJ6aedlR8qTGfieSFvMOSy7LRlp8qKelIKBCuppOXzBlVFtaje3HLY5ZYIgXg8XlBQLCI34zIGHIty1RuViNTc2urz5cmiktEtSVScvVgbGlr37/+qsbGxtbW5uubg9u1b9+3bV1tbp7mEdNrWNElRlKFDhlVWVhYVlQwdOrRPnz6lpeU+nw8BSSaTTme+JCmapjlKSZZlStu7ivx+D2/fHMO2LIvR9nQLwzRLlTNwTsuS4/Jm5SZXp+UQA+j4XRgBOvIqDgsCHG972l8zTjN6RhTFcDjq/D2MBNM0MRYAECEEODYMQ9d1UZQ9Ho8ka4BA1/VwtKG29uDWbZ9/vmVrbW19Iq7v21tFLRsLhNlpQJagIEqpJnoYBb8/TxQ0j9vn9/t1I40Qk2SMCRcEASMxL1gCTNYz0L2yl032SJLk8fhaW9skUWtsbN69a19tbW0sniCYOPrHpqamagMG9B84cOCgob179OglCMLQoUN9Pp/X66WUE0L0jKmqcjgcjcUSsiyrqipJkmmaiqI6QWLH93Vkxe93p9NmttklGzuhlBIC2Xr+7AnZKrLsgGaJceJgX0e2BBqho7+P8vM1M4MYp4wzwzAMw+KcYyRwzi2LmqbFOecMObkAjDHGAkJI1yWMgQggiEwQiCBiggnGYJlgmpBKpePxWCwWicXbUum4ZWVSycOGbqVSmUQ8nUymnWnLuGnblm2bpmnqupVJ00zaNg1GbchYhy3LMgzTtpiquoqLu1VW9CgsLBo0aEheXl5BQYHX6xVFUVVVn8/j9Xp0K+XkqUzDNk3T0VGMMZ8vIIqikylxnj07oHDsOiN3mueOMmpPTZrHHWz3pr65wOhb40RN3YhxyoEbhuX0DREsOmaQc3CULGPOA7TftGULTsU0Qu1F0wghAKTrJsaYYJEISBQJIZgICGOsuVo455wBAEaIEEIIkJwCNtzx4xSqoXgi5nTt2BbjHImi7HK5BIJbW2PO4o5SahiGaZrtawuRfN09RQhRyrINR7ljyii0E4NYLknZfaodvrID5LjKXyfM0a7/UWI4ABimoes6Z0gQBIQIY0wQnHq19larLDcWy8DXNmwEgNwtigAAUMd2UFbccTGzvzvSsR31pUhACGEsIEQQQhwMURSdDKtt25ZFOecA2OPxcOaMCHFUjWMncku+swUSznezS+7c5LxDTEcZSdbe8myna25rCwDIHZKRy/q/w8Q/iRx55NgxS6jDZwfEO4J1xFFoAGCwdMcj4Y4XzryjkNNV3S5nDHm0HoAcRdr+kcMxxpizo6VZjDHubM5LooIgZIc+q2Sc5QVnCBNERCwIQsenwrG30Q5JknKjUkctM84ecMY3u59Ye4gFEzhmqcGPfv27hODMGAQEIZS795lh6M4sREer2RFwjLANgIE7Wxpnew+YbVNATCAIY4KAIOTUZZNMFBAGhJynBYyJs/EuQgAEgIMzUii7FQZx8nVHd8hDCGECqqrynK1DKLMczjjNLvScri2EEALEnEg7/trGIjnrj+zKjrWLLOYdN4lxO4E8h8LvFMimHGOwbeb0c3ZYSJQdlKwItz+hYDhbD3BGgBPOOQcGwESRcLCcuU9txBhwhjlHHrfHeT7OGeMWY4xRzjmybebMBsdcYUIRpgAMcXfHX2TOxR2STNMkpF1N5bitIrcwfH1GI+ZYo2zHV8fc4rnrDKf3BQAQ5rIstyux4xpH+FEV/V0y1E4MABiGlW0g5pw7yiSXlfYpTDAA5gwDxw5T7TMS2QAMYcchIAgwACCARCqFEEeYYcyI0O5rIhA5R05nUHsfKbIAbEDUSAbB8aAIYAzt+gxY1ghn9aEzUiJSjjN4zn6U2VgWz/oeOV6Zw0q7ssIcIUTwUQOTW8GF4OhO2bnC958mCVHGnT9h2yz7Dxyy0dOsS5NVLJQL7arM0T8cAAFCYNngdOsAxwAYePvTEdnxcizGrY7iQgAQgDueGCDEANkI24BMQFRgJYyD022KEHfoAeC2bXM4GojN3hI3jneZnIF2duPFGHPOnAyVs0DB7Q15DivZ9QRjnDk6LWe8HQE65n8BOMjRh/8pHN+4lH2bSCTga8kDhJDF5OzBHIkCSr95F5Jv2xb1rR/YTsBxxCAEAJZl5c6t7AzLcYs7NU5ITHZvrtyNOTjnHKu5p2VfHO8uZy/4Lcc5t0v4n4GEjsasvm4R0Tfh293Q/xGOX76ijkBpVkfn9k1n3dOsomcdKu6E+/YI/zubb+ATRAEFIuSyAt8UWPy+kJGLb9eDybnTyQdOvI/zb+jcOQ7fbv6feBBPtH2nRI5PGmZv9Vtdv7PhhMQ49h++9iTZs49xyU4M8wS250Qg5Jsl40Rhc/L/8pSO07onkrzOBuTo9H9+HrFvYuIffJue8JMT3NAJjp9oApD/vIP0f4Kjzv4/eLzcSffNp/ETq47/tRn6/VZN3xYnjF1nvRo43oqyr58G/0hovp3MnIhgcsJ/Q/DNf/i4ghX4vlH4L2zA8O1sxre9+rcF+qH9x8h2/DCf6geA//gmP98n9dGZ8O2J4d9SyLqY+ZfQpco6KbqI6aT4F1TZtzy/S5X9S/jO/03J/zp+oMR/e2K6lN93gq5h7qToIqaToouYToouYjopuojppOgippOii5hOiv8PuKKM985bNZAAAAAASUVORK5CYII=\n",
      "text/plain": [
       "<PIL.JpegImagePlugin.JpegImageFile image mode=RGB size=136x136 at 0x7F6FB543F320>"
      ]
     },
     "metadata": {},
     "output_type": "display_data"
    },
    {
     "data": {
      "image/png": "iVBORw0KGgoAAAANSUhEUgAAAIgAAACICAIAAACz2DQFAAA0w0lEQVR4nO29aYxc13UuuvY+8zk1V/VEdpPdFClSpihrerIRQ3GQONJz4BvE8kNgyIaTIHYS2AmsawT+4SBI4NwggAEFHmTn+UZ6sOMo9nvS9RBLtiJag599RQ2JKVGkKNJUs8meu+bpzOfs9+Or2ixRbMXUlaW2Xy80GtXV1dWn9tpr+ta312FCCNqWrSf8zb6Abbm0bCtmi8q2YraobCtmi8q2YraobCtmi8q2YraobCtmi8q2YraobCtmi8q2YraobCtmi8q2YraobCtmi8q2YraobCvmtUu/30+ShIi63a7neUTkeV4YhvIFQogkSZIkSdP0ct+cbTfKXpsEQaBpGudcCMEYS5JEURT8Kooi13UZY7Ztq6pKRGmacn55NrCtmNcoURRpmkZEzWazWCzCMoQQhmGMvgxPEhE09LPLtmJeu8BWPM+zLEs+0+l0DMMwDIMxFsexEEJRlMs1F9qOMf8r0u/3iciyrJWVFQQbxlg+nzdNM01T13XTNIW7w28vSy7PvrZlVOBsXnzxxUceeaRQKDiOkyTJ7t279+/fn81mbduWrwyCYPTHn0W2FfOfyeae3jJMEvSt//HNF154gTGmquri4uLq+trHPvaxP/iDPzBNM45jxpiiKNLX/eyy7cpeu6iaJtL0yJEjqqpqmpam6eLi4okTJxYWFjqdDhFxzpGqBUFwuW++rZgLIiNBGIay8hBpmiYJXSpFisKQca5pGjRRrVYVRTlw4MADDzwwPj5ORFEU4X1M07zci9lWzECCIFAUBSWIrut4stVqMc4552kcD3QjRBKGoedRmqqckxClQiEKgvXV1U6rxYQgokqlAn0YhpGmqVTPZcl2jBmIrD8QpXu9Xi6XKxQKJOj8wsKJEydgEMVisVwuZ7PZJElmZmZM09y3b9/p06cXFxez2Wwulzu3vHTNNdd4nocCEyn1a0iXtxVzQVzXhVZarVahUPB9/4UXXvji5z6/urq6vLzsuq6iKLqu67quqqqqqtlsVlEURVHGx8enpqaEEK1WizG2b98+0zQB0iApeA2V/7ZiBuL7PrTieR6q9Hvuuee+++7rNJooRyYnJxVFCcPQ87wgCFRV9X0/SZIrr7yyXC4nSdJut4MgGBsb27Nnj6Ioo/lxGIaXG2a2FTOQOI7xXdM0y7JeeOGFz33uc77vj+WLlIrQD0I/SNMUmJimaWsrqxMTE6VSKQ6jM6d/2mq1LMvKZrOtXndlZYWIOOdxHMNQtiv/1y6ZTIaIhBCqqrbb7c985jOrq6u7d+9GkNA0Tdd1RVHiOO71eq1Wq1gsuq7bbDbn5+c7nU6apt1ud3V1tdFoPProo8ePH6dhBUpEMpv42WXbYi5IEARIAZ588snHH3/8iiuuWFhYsBQtjmMECSGEfNzpdOI4dhyn1+txzjnnqGZES5w4cWJpaenqq69GdHkNAYa2psW02204FjwmojAMoyhCmeb7PnbioOxIBaWCBIV+QILwhcdpnASen8YJCUqiOPQD+eLBVypEkookxZMqV5IoJkFf++o/tZutXCbb63QDkcScYk5eEnlJFIgkJhGmSSRS3TS8wLczTpTEvu/jmnUiS1EOP/ggiZSR4GnCGSVxSJRu8nVp2XKKSdM0n8+rqiqEiKIol8slSaLruqZp0IRpmoyxTqejKAqU1G634yiCu2i3WoHv64bR7/W4ohiGgc6VoqqKohBjQogoDAPfj8KQiBjnjHNibPAaVf3egw8+8cQTpVLp1KlTu3btSoaCAIPvuBLZByMixhgNPaGmaYuLi6HnhZ7HOKckUS4T86ctqBh8zjRNGWPw7wBx8Z2Ims0mEaEXYpom4zxfKKiaBgU4jmOYJh6kSUKMmZbVbrXcfp8x1mo2FxYW6vU6gjwxJtLUc912q9XtdIhIpOmdd97p+z62QrPZjOM4juNkROCd0ByLoggXzDnHM2maqqq6srISRZFuGMS5tP7Lki0XY5CqdjqdQqGg63qapplMpt/vf/GLXzxy5IgQ4j3vec+HP/xhy7KWlpamp6efPHLkJz/5ycmTJ6vV6qFDhw4ePHjjjTdWKpU4jjPZbJokjLF8ofD8sWP33nvv+fPnz58/n6ZpqVS64YYb3vWud91www2241i2TUS+5337298+ceLErl27VlZWCoXC/Px8JpcVQggh0jQVg0eCYC5pinYZsH3sJEVRhBC1Wu3MmTNvvf56IpKdzcuSLdoo63Q6uVyOiNCG+va3v/25z33u+PHjtVqNiN72trc9+eSTRNTr9T5xx39dWloyDCNJknq9vrq6+sEPfvATn/hEoVgkojAIHn744a985Svz8/OA5Q3DsG07TdNarRZF0TXXXHP77bf/7+9+NxH9vz/84R133EFEQRCsr69jxb3AH1UMETFBRKSqqkgSRVEcx7FtW1c1pABRFPR6vSRJPv5f7/jTP/3TNE010yT2Kp/10k5ryylG5jCSw6Aoyvvf//6FhYX/+I//2Llzp2ma8/Pz58+fz+Vy//iP//j8c8dOnDihqur4+Liqqk8//TRjbGZm5o//+I9nZ2efffbZBx54ADVjo9GA20GHkXOO/4Vi/vd///f/7d/+7bHHHjNNs9FoaJqGJM0LfFwV1ENDxTDGRJKoqioVo6qqoij9ftfzvFKpdONN/9s//Pf/TmlKnMdxpGraJp/40orZcq5sVNI0NQzj8OHDTz75pOM46GqMj4+vra29+OKLmUzm3nvv3T2zi4j6/f6pU6dyuZxhGKZpuq778MMP5/N5wzB27tzZ7XYzmcz09PTKykqz2QRSSUSoJVGd3H333c1m88CBA6dOnUIA0zSt1WrppiFGhGjQoUnTlA2fRNQhIs55FEWKomSz2bNnz3q9npXJkBBxHG+umEvLllMM57zb7UoYiogeffTRbrcry4Vf+ZVf6ff7H//4x/ft21csFpvNZrfbRZHR7XZd1923b9+NN96Yz+c9z+t2uzt37tQ0bWlpqVqt5vN5XddrtVqv12OM5XK5SqWCSNbv93fs2BFF0cGDB48fP95oNHzfLxaLfhgQEVZ/cIlDxcitLtUG4BKKP/XT0y+88MINN9yQpql5+Y2yLefKwjDUdT0MQ2QBnPOXXnrpPe95z6lTp6anp6+77jrf96vVKha03+93Wu2NjY2pqan19fW1tbXrrrtuz549mqatrq6iVldVNZfLWZbV7/drtVqapr1eL4oiy7Isy4rjQQkSBEGxWPQ8L5fLTUxMLC4unjlzJgiCVqcN1JKG/RVODHALkuVcLjc2NqYwTkSZTGZlZWl6ejoMw3qzcf3119//rW+Fnqfbr6KYX5AYg32Hx1BSFEX/9E//9OEPf9hxnOuuu04I0ev1ZmdnGWPnzp3jxKrVapqmQRCMj4+/853vzGazL730EqwHnDxN02zbRh/esiwAju12m3NuGEa73UYOhk4wotHBgwenpqaWl5fXqxsrKyutVsswDFVVPc+jVJimqSgKJ0rT1DTNYrFoGSbnXNO0anV9kLYEfqlU+tGPf0xCkPoqidkviGKIyPd9YLEo9Q3D8H3/ve9970MPPVQqlX7t135N07RGowGE6uSJF5IkUVX14MGD119//Y4dO5IkWVhY0DSt0+n0ej3f99vtdr/fdxynUqn0ej1QWOI4LhaLlUrF87y1tbV2ux1FURRFlUoFyVu322WM7Z6bRZK2uroqhCgWiypXer2eEILSlIgsy8rlco5lI1123R70HcYRET3zzDO6ZREJYptlZr84wR+Ggo8XBAH0dP/993/yk5985pln0E5PkiQMw0ajYRjGVVddZdv23NxcPp9HmRIEQa/XIyLbtoEIAMtC3V6v1z3Py+fziqLAsBBvwjBE2M9kMvV6PUmS2dnZWq1WKBTK5XKn02m1WkEQKKYFGKLvurBFZCUoRfERVFVtddpTU1OveRG2XOVPRMhl5WOEHMdxyuVyLpdTVTVJkk6nU6vV2u323NzcW9/61rm5uTiO19bW1tfXAS9GUUREAIOjKHIcx3EcMCURXaAw9FfAAev1etPT01EUQd+7du06e/YsEa2vr/u+v2fPntnZ2X6/X6/XHcfRNA2BsFKp5PN5xhhyM2AKnPNWqzU9PT3AlTc1l01ly1mMEALbFhvfsizO+enTp7/3ve89/vjjrutOT08LIRA85ubmHMd59tlnXdfduXNnqVRqtVrdbrdQKIC2gpY7Ikccx91ut9VqISlAYlYqlZDjrqys3HTTTbfddtvx48dXV1dPnTrVaDSmp6eDKIQdaJqGZn633en3+0Bl0E4OwzAMQ7kbNE3DY1VVSVEoTUn5xW8th2FoGEYcx4qipGkahuHS0tKXv/zl5eXlPXv2BEHw7LPPdjqdqakpdFCiKPrpT3+KJqOiKK7rnjlzBjZnGAYMxbKsIAiCIAjDEJSiOI5d10V2gFbK5OSkruuHDx/2ff+6666bnp6+7777bNv2PE/TNGjONM1SqaQwvry8zDkvFAooeBuNBjjmSZI4jsUYc13XcZzz589Tkggh2C+BYmD7gAIdx2m328eOHbvrrrsOHjw4OzsLLwSLWV9fZ4xxYrquy0zs4MGDiqKcP3/eNE10CkzTDMMwCAJZ+rmu6/s+EbmuW6/Xicg0zfX19Xe84x179+6t1WrPPffczMxMoVAwDEMzdM/zhBCmaQLYzmQyc3Nz586dq1QqO3fuZIz5vs8YsywLLeQ0TT3Py2az8/PzcRyrqkriVYL/peXNzMokIAZoBDE/DiNV09Ik4YpCRCvLyx/84AdRsvX7/VKpNDs7e/r06aNHj46Pj+/YscN3e5lMxvO8Wq1m2/bevXtRjpimKRn4Qgjf95vNZrvdVg2diJIkCYLA8zyYJuJWqVRSFGX//v1vfetbT5069dRTT+Xz+fFypdVq+b6P3AFLXyqVMpmMqqq6rs/Pz7uu22g0crkcY8zUjSRJarVaeaxy9uzZb37zm+/89V+PolDbtIm59bIyCbtKcMzzPMu0ojBUFEWk6cLCwm/8xm8cOHAgTdN6vd5qtZrNpmmalUrlpptuYoy1Wi1GhKoQvZN6vb6wsJCmKYrHKIo459lsNpvNOo6jKErX7cObIbsFtw+hqNlsyh8bjQYubGNjgzHGGAuCAOBxkiTVatX3/VarBdUWi8Xx8XHAB7qqITRGUaTr+o9//ON3/vqvv4bd/6ZlZciUiCgMQ2CLuq4j79R0nSvK0tLSbbfdNjY2Nj4+7nleu932PK/Vam1sbBBRqVRijC0uLk5OTlqW5fv+xsbG/Pz8Sy+91Ov18vk83jYIgna73Wg0ut1uv9/vdrvooAC7tCzLNE0kUZxz3/dd111ZWQGLDM26NE2z2SxyayJCvFlbW3v22WfRx8tms8DfGGOO40RRBKuK49i27UcffZSG6cxlyZtmMfJa0zRFDwMPAt9H0vnpT396dXX19ttvf/HFF5977rmJiQmE2XPnziFWz8zMjI2NnTn9IvJpVCe2bRcKBSICmpnP51FRYr3a7bZumQAXgMUhQwNair3CGENBY9t2HMe6pgGPwXccdmGMXXnllb/1W781OTl55syZw4cPExEgBi9y4QAQls6fPx+HoWoam63DZvImB3/f93HGBz+6rmtbdpok999//+rq6ic+8Ynvfve7Tz/9NJLd8fFx2EcURb1eb2NjA44+juNWq4Xe2tzcnKqq9Xq93W6Xy+VMJpPNZmUgYYxFaQLEE/kusHoiQhdA0zS0tE3TNAyj3+/HcdxsNtFFxh8ahlGpVBzHqVarnU6n2WxKCFUIYeoG6mJBAt5yaWlpdu8Vl7syb5piUJ3Jk1egCGmaRoLa7fbZs2dvuumm559/fn5+noiuvPLKQqGQJAlA4iRJXNcFOHbNNdeAoYqWTKlUiqIIuJa0Qrh4XdcHS/YyGJ+xYTHLGeeC0lRwQVwQS4XKuK5qQDkVReGcpXHCObdNq16tfe+BB8MwLJVK0GUcRrY9AGbiOBZskNQ8/fTTO2amdePyjOZNU4wQQpb3vV7Ptm1FUY4ePXr6xVPnzp2zLOtHP/rRAw8+kHEyV155ZbPZPHv2LPCrycnJ2dlZBI/l5eV81hFC7Nq1Cxg+EQE4KZVKRIQFZYxFUYSaXAIzgPER2GnINUDwR6GD5piu67hUeD8iwp/v3Lmz1WqBfQEqGjDser3e6XRM0wyiEPj3kSNH3vt/vO9y1+dNUwwYXEjzERXOnDnzV3/1V816Y2pqinP+4osv2pZtmma9XoczcRynUCjs3r37+uuvD8PwxIkTtVrt9OnT4+Pju3fvBmkmDEOct+t0Or7vo3BB6YfUWRIqRncGdINgwxiDMpAiAyCgYSzUdT2OY8/zzp07l8lk8vl8tVp1HMc0Tcdxut0uoOtsNusFvqZpnufNz89vnitvKm+EYmSXCfuOhp0lzjlIwHiZZVnHjh3TVS2bzZZKpZ07d7quC5q2pmnj4+Ou6yJtq1areOB5Xq26kcvlUPN3u13btnO5HAp7IAiu68rUC3ZAI5m6vDZJdEJFBTUoiqIIRoLg8VgqkjDijGUsO2PZjLHA9TKWLZKUE4Webxtmh3VkIRVFEZgkowWmPO4sH1xSfu4F5kUeQwqaToZhrK2tZTKZTCYTx/Gf/dmfzZ95aWlpSdO0ubk5z/OOHj3abrcnJiZQzSEUa5o2OztrGMby8vLEWNk0TSGEBIkBDWAoQq/Xw3Krqgr7SONklFxxgWLBGBBovBI/KorC0sH6yJfhOxCKi/rKnPNGuzXIaBSOnVculx/94eNgPBNj8JnSK3J+adv4uVsMth57BSDBOcemnpycBAn4S1/60vPPPz9/5iVU0cjBDh06dPLkSShPUZRyubx//35kDZqm7dmzh9Pg/ZE0I7bruo6ODryWdHGMMU1R5WrKphxSZF3XpcfDPiAijSviFYKPIK2fRhSG00+apoVhAEIB+uKFQiFNU64oeAEUE0WRYVxaBT93ixntSMppBNhcRITt/J3vfOfo0aOf//zn+/2+yhXkrLqu79mzB3azsLCwc+dOuHvGGIpN7GtNYZlMBlW9ZOOlaeo4DrLYMAxd1/U8L4oiIUQaJ/KqRk0EuCcQaBw7sizLMAxdUeXqi1F2mRD4FNK2kFl03f7a2pplWX3PzWQyuq77vv+vDz6w/8ABEiJOEpl9oFbVtEtnaz93i5FakT4NmwU7tN/vf/aznz127NhDDz0EeHhyYlKedvA8r1qtlsvla6+99pFHHslms2mabmxsaJp26NChiYmJer2+sbbS6/VqtVqSJPl8vlAoeJ63vr6+f/9+TdMMw0Ap4/s+FMNpsLUlDRwLio2CZK9Wq0lgn4RgQyEiwTm0EoYhCTH4LZH8AoVTVVXLsvDmvV7v+PHj+w8cIMZQJABl0Ial65ujmFGtjHISETC+//3vHzlyZGVlxff9crmsaRp2GXDcfr9frVajKJqYmJienm42m/1+v1KpzM3NXXnllWEYrqysVCoVnCFqt9tJknS73U6n02g0AB9gL3POLcuCDZmKhiXGr1B4cs5xAMw2TNswKUkD10vCiIyU1MEBF5nCSULMqH/GZqLhORuAdUAcfN//wQ9+cOONN+6enb2I9v9KDy/ljcvKpFbQFU6S5NixY1/5yleWlpaWl5eBboFOniQJkOBut4t+l6ZpBw8ePHLkSBAE6MSsra15nqcoClFq23a5XB4bG+t0Ot1uV9f1sbExVHk0BFEkTAI3BYEjko/jOEbBj00Dq5XOSr4DPoUMnFJPeAD1eJ6nm4bneWATPvfcc4899tiHPvQhYGjwn/Sqw3/e6DoGEGyv1/vMZz7juu76+vr58+eJCHhir9frtNqNZoOIioWiaZrgSKA9Uy6Xp6enbduu1Wq1Wk1RFNM0TV3t9XqGYZRKpbGxsUKhEAQBtiqsQc5IQuyxNUMutFQMEQkhZM9GAjCO44RBcNHLRlMA+by0P9M0dV0HMQGaLpfLnuf9+7//++23364rChQjM+bNgv9lo8vJJl9BEuNBs9vB437gJ0RR6DMmfK/PmCBK4yjI5TL/z//99aefOuL2u1fsmS2XCiKNFU6cCU3lUeCpjFRGaRyqnPJZR1d5q1E7vzBfKRUmxyv16vrS+YU0Djml3Xaz0+r2u2633auu19ZXN3qdvsLUrJNjguMrjUUSpZQylWuWYacKI01JFRakcZDGCSeh8oRTKBLNNhVT74d+x+vHTAiV+0nEklgkMYlYpBGJWIhYUJiykKlRqoaJEkSKGyluoLih6oWq5xRyXhxqtulHoWYaQRz5UVipVHzf1w3Dc13TNEF1F2mqvQExRlVU13OTJMllc0QURqFpmIQyStex9VRV1Q3jhRMnHnnkkRMnTiRJsmfPnptvvnlpaen48ePnzy/puqpxBVkmfMWAwcW5bdvgEKH7kslk0FqPwwT9dgD7iqKAmgyChPQtIH0JIZJ0MGUBYU/ufXCgYDfIrZGMKJrGGGOciEgmZKlIhWCCMUEJniRFMJYQEXAasDsRaZC4K4pCQ6zhImt7fRTzKiZmGYbCFSLyA58xRiL1fd9xHJGm8B2PP/74N77xjR/+8IeAWE6cOLGysnL11VfPzMwEQfD888+7rp8rZtDXQkqDnBVgV61Wa7VanHOwk/FpLcOWKTIiLRIewASZTAZqhobiONZNbXQ5ZLEJvx9FUafT6ff7yB7TNFUZIyZoyNdnjBEpTDBVR5BQUhqmzqqqqmqvG2BXwaPatg3ABh1ohJZBoHrVZvPrZjFyJ/b6PV3XdU2P4si27H6v42QyZ+fn/+Ef/uEb3/jG0tKKaeo4dAqkHS2p6elpROzID3ASlXOONAExRtd1NEuICGgVgAMv9VAPYvWRViRJsrKy4jhOPp/P5/PIXGXjkg/H8tHwVJhMovr9fqPRwOkAVVXDMGQkaJgdEBFxppDCOY+ihIhSEkPYTXDB0mTAWRgc+9N1bI5sNoteX7lcpldNxl5/xShc8XxPUZSMk/EDH//+fz7xP+sb6/l8/p577rn33q8zRm95y4FyuXz69OlKpYLYfvbs2fX19R07dqB98tQTR8BtcBzHMAwhBCIqIjn6WoyxTCYDK3F7Hl4jgzDqD7yg0Wg0Gg10zIrFIo7IjKZkWG7GWJIk4Iy12+00TZG1p2ma0CAzFoKIM0aMiFLGFEUlIk48ZQMEQWGKwpQgjvr9vmEYsp+NywYRDoq5kIkJsdnRmdczK7NMq91p65ru+z7nXNf0v/mbvzl75qcHDx50Xffd77611+stLS2pqvqbv/mbjz32WJqmzWbT90O4DmRB73znO+v1erVa7ff72P5IZOM4Bgyjqqpt2+DNNpvN6R0ziDHygCRjDJgNqOKo/GFkpmmWKkXUgDKPgivb2Njo9/s42wdSIGjTfHB+laVCUCqIKBGDteScMwWwLBJlkaZJ3+1HUZTNZovFYi6XA2kGPhaALBGxkZJoM+O5bMVsZoQY82GbFiMq5gtxHC8tLs6feanTbh89ehTY/p49e6655hps/9/7vd9TVbVWq508efL06dM4IV+v16+8Yi82O9JKHJwIwxBhCWhYGIYSTp7bPZumfFiAE+eYEsKjKOScZzK2EFYcx2EYdrvtdrsZp4PupKxv4DDr9TrazzhyJs8aMEEpowsAmeCcMyLy/ZCriiKIkSIEJckADFVVtVQqTUxMwPHCgoE8BUEwsJVhjGGbHzN/3SymUChgg6No+sEPfvC3f/u37XY7m8nUajXHcXCgy3GclZUVIBaMMZBRrr/+eiJaXFxcWlo6ffr09PQ0YywIgjiOQbpot9uO40icClEkk8mUy2W0QBCrR6s8uZKIysiyiAi8PSQUjLE0TcEFRP2LqICpSYNjumJwKJkxxkjhCifOGFOmyhVVVTXVwJskSZKmJITo+S0MAvI8DwUmjBIQGeOchl3tV480l60YULxxYBeJ4IDTRkRElmV1Op177rnnC1/4QrVa3bdvXxT6uq4HQXDFFVfMzc2BTQLkSlXVU6dOgWBvGMaBAweuu+46r9cHTQtESzgxfDwYCrwQvFmSJGmcSAhdJhTQhyz+aThshzFWLpexjsgpxLDrnMlkJIAmNSGESNJB5xutMFwJEcc6GKYWR6kQAhioECJfdjBjJkmSbDarqiq6RIqizM/Pe65r2TZXFBgN8tXXRzFIVfGfcHIVHgmYVRiGd99991//9V+/5S1vef/73//UU09pKt+5cydO93DO2+02goTv+2AbpanodruKopw7d45zvmNiUtO0fD4/MTHR7XaBldm2jaoCS4Y1hUnpmjJc+gH4w7iQvnukYkB2ejGTSMLGNEQ2L+rmkcJ1zQTb1jRNzjlLhRBC07KIHJZl8YT6/T6lwrKsXi+EP4DXhSnruo6mHzZNHEVEpGpaFEX6JpX/ZSsmCkJTN5IoZoxZphWHERFVyhUS1KjVv/CFLzz00EO//Z7/smvXrlajuX/flYrKhBCysSiEQNoThmGtVkOpCKIQAm+zVrdtu1QqlUol1DH08pF7ow/ESGtEIvkDVPjlHYcLmMqIAmgEyR9N1WjkNKxQVN2wnEzGMkzGWBQFA+SGWLPZdN0ejt2YhhEmYbXW4rohkwtsIFg5GjOSAKwbhkjT1xNdRvs6wUgVRUEQVjWtUa//3d/9Xb1ev/322xuNBsbgNJtNsI2QjGIdgUsiE8MEKVgMfiVYgm7mwsJCJpOZmZkpFovtdrvX66GRJUcaoSocXXo8kGXKRdYw1NbL2o6yY4YakA9RfYkI6Lppmraum3GaeJ7X73c91w0Cr9VqmboWx7Ef9McqxauvviqXyzWatTNnV6rVqhiOyMAb4sLkwC25b/jmIwAuWzFxFKmapqiq73lBEDiZzNLS0t///d/PzMzg/Eqj0eCcI3PPZrO9fgdpbhRF/X4fkLBt22NjY0EQOI6zsbFRr9c1TYPVj49P4EzXuXPnqtUq53x8fBzVpeM46BajJ4ZMWkZQaTRY04sUI5dDUzVZ7dMQfGTD/iO9nKHAOc9k86apM877Pbfb6XhePwiCKPRVVSkW84ahEVE2Z+Xy9q5dU7t2T03smHv00UcbjUY2m8UZEiREOIKDcRlxHGu6HkWR8ToqRggRBoFuGEEQHD58+LHHHgvDcGpqCsTUNE1B3kFLEdkOmrvInZAI9Ho9ULPRapyentY0DQ3gbDbb7/dBYwBJJQxD27aBxMjeH0pCXdeTOBguK0llyJJQaugiwxJDRpJs2KAnTcPQgsCgaRrXVCLu+2G32+25fSZS3VA11SqVpyLf03Rlenrnvr178gU7ij3G2IEDB8BTICJ8ZCICixpkIDCzLzn99H9JMZquu93u/3X33ffdd9/Y2NihQ4dQAHJdb9RqjuNMjo83Go2NZtO27azj9LweePVCCCB6QRCgnYW2P0hJnU4HalMUBWfAMplMqVSSbfxarYZmBqhiRITDLunIZh9NQEed0uivZCNVfseOHs1fkcKZpmlZVkQ8ToUXDo4GWJZhWwZjpGmKqlpTE+Nvfeuh/Vfu1XW11++6rjs/P9/v903TRCoErws/MTMzow0CvkH/2SiTy1bMt+6//6tf/erRo0dnZ2dBe0zTtF6vW5ZVKpVAwsvlcqVSqdfrVavVhBJ0JHHqHqX72NgYBungipMkWVtb03W9UChU19ZRSaDc0zQNJBgikhSkAa4cx2EY8hFXdpFuXlkoMMY4V6QOEGAk+2L0ZbAYwzAY06XBId3KZGxFoSQOD11z6LprDhVL+X63s7S8Ua2udzqd5ZVoaWkJmQsO9zLG+v0+57xcLrNhNp9iftPm6fKmZAxUJyBloeS2LOuzn/3sl7/wRdg4/hCHqXO53NTUFJBEcOzDMIS7UDSOiC3HGMlVxo9EBBuCoaDOR38enwqte855q9XCuXoQ6YjItm2vf2HWy0UaEkPiB3KEAZWAhERikiRJSOAFSZIQHxA2TcfGyvq+n8nm5ceRUCnCGwpVIQRqSTguTVPAF2w0GpVKhXO+vLy8d+/e1dXVO++886qrrkKGhnkoSZIoyqWpZZuna6qKI9hYOMuyvvWtb911112mMuiJ4vqCIMDosMXFRRwTKRQK2PJg19Ua1dG3laBhEARQ0ugKIlTKxBfLjSIR5A1siE6ngxIhiiJOCrJq27bhQBA8crmc67pI51Dx4JoN08BGgU1EaeL7fqfTKRaLOABu27ZhWdAiNgRCmhjSYgBtAN6WR3CxgTjnYeijiJEHzGZmZur1+sTEBHBbrIOkL122YojIcZxWq4X/99Of/vTOO+9st9t6vgiVsGEbCrus1WoB7Mrlcjj2CP4jIjxeBu80mC8xvEeEDAbpyCAduanxYpw/AqoBW0EGqGnaeGVC+iWc7YMaarWaruu2bReLRRgEftVpNtLhqQxN0zTTyOVyuVwujAcN7Ewmo5kGSi7TNKMhcYBeTl/CFoEljSYRaaqCALVjxw4Alzjfc/DgQcyVlYd1aRRm/tkVg4EuuVwOf/zlL3/56NGjV111VbfZInEhByUiriq6qgghgihcXV9bWVtFQozK0bIMPiQKySY8YwzESbyD1IcYYeBBYXxkCqtk3aO9jxkXL730ElBIiTHjrUC8xxIgWuACxsfHkyTxfb/f7/c8dwBsqwpW3zRNRX8Z8Iw9Ic1XstGRicBi8I9giIhPCPLYuI1GI47ja6+9VnIQZdh/lQLz1Qh/AFrW1tZOnTr1kY98pN/vq6qqsQFogcuSAKKu63LnSuIdEQmRIGZiUAHMCFcmLQbHKuCmpTmivJCP5QnVUqmEQTrdbtf3fSa4LFyk4lH2wjKw9+VaF3PZQdDSVNCdWq1Wz+1jwIXp2NgTyA+TJCE2IMqIIXgqV0witvJS4zjmnHK5XJqmq6urgEobjcbk5OTdd989PT0tFQMVEtFrcWVY/U9/+tOmaU5MTLRarYWFhbyTQdNXVnnSuuUlXmT4mIIAE5FWks/noRiAV9jvYnjIUQxvVIS3FUKAVZTNZk3TxLgenOC2TYcNhYbcKPxrsNSwK+WlbtRraO8Xi8VSqVSpVDRD19vtJEk000BKQkRcURjncRg6ji3RgdGPJnvbg2M9w0ijqnx9fR2fGihiHMc333wztAL7wwqg8bPZ4m+qmH6/Xy6XH3nkkWPHjr3jHe/41V/91WeeeSYMQ6/bA4A4KKSH6RmiNEwbto/96/vuaJUnQapWq4UlQLjGh8dWTYZ3pZAVRpIkyCmQm2GUC0prt9cffVvGSFGYEARoLgz9bjfAJkXvy7IGgHyz2XRdVzN0KDWTz0GFmqYhqUUaBieJVEWCaTJbkTEcGyKOY0VhGxsbSZJUKhX81c033/y+971POjrpA17FJOg/5S5/5CMfOXHiBPjdmqatra2deP6453kozpXh+Tkahke5eXEdSZLYpi5GRL4AGFo6pJxL0F6ikHhD6YhM08xms4wxnKnMZDKoT7NORqbjcrE456iT0BCT3hUbGW7K9/2+5+KtnFw2n89jt1m2DSCAMWYYRrPZxkyT0fOCQohCocCHA0qjKPI8D72MKAowkTOO406nc+jQoU996lNve9vbRlcVG2Wo6csnlT///PMf//jHsdfW19enpqZs26ZUtFqt5eXlarWKWk8IEQSBJOyw4cFGbOHQdyUXSfoEMbz73UX/HZuUvRy5kt8RGyTPeLAPNrl8qFyixXLTBEHA1cEZMyRm2UIe5pWmqSAqFArr6+t79+6tNepBEOSzhWKxiO7DysoKihtQcNrtNjJ4+AnDMDzPy2Yd/PlPfvKTj370o3fcccfY2Nir2sdl9mPCMKxWByUIEtBqtcoYcyw7m81effXVGCsBIFm6YLlqSI7jOLYMLX353VOwQBKcv+hX9HK4nkaUJ0ZQYXaB4HrpmdLKYJ7y4I8uOFJVEcOB47qua6aBLNwwjNW1NdB3svnc0spyJpPZ2NhYXV4rFAo4hSR7a4VCYW1trVgs1uv1yclJGAcy2PPnz996661/8Rd/0W633/KWtww9ani5U+Q3VYyu6+fOnUMdA54nwEfXdVud9iAU53OFUhGGvLi4iDICzXZVVR3T4JyHbp9GsHepAOnZpKrk6o/ayuiTYoS9Jzv2YpN75oxmBKPfEQtRspiOLccwdbrdyclJcI7HxsampqY+/elP//mf//nXvvrPS0tLs7OzoKsREY4p5/N53/cLhUK73WaMvetd7zp69Gin0/nYxz528803X3XVVajt0ed/lXrlshVDRJ1OR1VVxEmci8R5LdDpcSoedxd0HAc21G63O50O7myLMeKGcoHEJfso6QiZmr0C3Xqlf8MDiWuNRuBXmp188YhVXfDYcRzBYeqWifSdMZYKAWJNu9sxmGkYxn/7m/9GRLfddtv/+aUvIyXBEGEcGUAasr6+DvWMjY3deeedlUplaWlpbKwML41zZQAOZCfmdVAMEtbJycmNjY3FxUXQR3K5HMLD+Ph4EAQ4JmGapm3b0BDI3Z7nYewahlfJYp5GeumjYIzUyiUD3uiTF6XmQohLq2WkaGXSnaHjqXBd0yRRBs/i8qr12o4dOxzHueuuu4hoZWPt2huuX1tby+fzcRx/6EMf+uY3vwlX0e/3fd+/9957f/SjH9m2/Tu/8zuVSqXT6YyNjaFDQ0TZbJaG++Y13KNs0+CfpumXvvSl733ve/1+f3FxEY0vgGZIkMA0gMcHsIbdgRIHzeMoihbPzkuwUh1OO7hIH6Ou5qIn5frKMM6GlAkEXoVf+vpHDWu0MLRzBTl3OUmSeOgbVVXNFwtBEHz9619XVC2IAkMziEghXqvVSqXS4uLi97///X/+539eWlq64YYbbr/99ve97329Xg+kESm+7wIaB2zT6/XAA91cBZcZ/LHKOA0ku16e5yH3gORyOVkho3eC5+VHhc2BAAYuLxvpq48uIr0cj6FXxJjRxxKuZ4wp+qUTHpSlUiVwR5qmGZYlcYdkyA7UNG1q546TJ09+6lOf0lTtpXNnZ3fPElEQBRQJjA+oVCq/+7u/+yd/8ifyXwRBkMlk8D66rjcajVKphIglQz2wVDYEx3522fTVsqZrNBpra2towM3MzKCnQkS+78N1ViqVSqWCTD8ZuXctHmNQAQ1BRtmSeqXjkj6KNkkBRiUdihCb9DMYk3EeWslkMqZpBskAsZbagltbW1vDzK1OtzO3e46IvMCzDEvROA0neGF4I7jhwHbT4alzIUQ+n4+iSNMUXBhycWT/l6sVehXFpGk6MTGBM4zj4+O4gwTwHyLC5wH7dHl5ud1u79ixYzR+SCNYrdZs296xa3em08GwViUVlmVFI+d3BuAjCcZYmgoa0IUHfS0i4jhcc6FKJYVIxGmURKQqME02vBkFsqCe5xGRquqObYNZmaZpL4gMw2o2m47jWLbVarUYV8vlLBE1aivXXnvt/n0HkiRRiAshMoYThqGi60SEuWrQt7wN7KiDYsOpQTTMcSxr8FvLci5XK/+JYjDiDrdF55yDKw1GbxiG3W5XVVXQtHu93pkzZ8bGxiqVihACY6jAH0MNhHxm79693W53fX0dw/OR4EOd8Jycc98d3AyPhrseD3DrwtE6Btfpuq5Eq2SFi3RWDO9iJWtbImq322NjYxhLt2/fPl3XV1dXXdcdGxubmZmR5EU4wNdwC6vXSzZVjGEYe/fu3bdvHzgSOJhaLpcXFhYwe0j29WAlURShw4hpCuglIw7BdeBUka7rMzMzGLMPxcDbyGivqxe2obQ8Iup0Oq/EdTjnmqHK+CExOgD48vWjkDDcjnwBRr/Ytl2tVvfs2TNaaSWXf0vx11E2VYzv+5lM5tZbb11cXDx+/DjOMNRqtSuuuAJnrjFuEomgEMKyrG632+128/n81NQUyOCdTsd1XemRacTkd+3aBWwDJiWxNXl3lou+yz+Xq48kIpN1JDmfD0fxcM6xacTw+AsNm2+5nOO6LibQLywsgObZ6XRWVlbm5ubgi+RE7lefKvJzlU3TZSR82Fz33HPP1772tXPnzpXLZdd10fEGbw9NFCAxYth4R+swk8mAnQ2AD3UZkKUwDMfGxoBGy4CPRAuubDRKiSGLXlapbITLyhTCISMhBKBDCfaMbn9lOCDBMKwkSXDyf2lpCc+vra29/e1vv+uuu3BLWByEo62pGBppgsZxXK/X77///nvuuWdjYwNTjYDvypNdQG055wBmOOeO42QymUqlclFHWTZa4I6U4Ul7AojJL4zfGbUYCbjJC8aDKAnxhrLJTUNNyIpHCmPMshx4XSROi4uL5XL51ltv/cM//MP9+/cDkwZ1TbwcsnuDZVPFDO65piiKorTbbfS10jT9l3/5lyeffPKHP/zh2toahkUKIXC7W+k0+JBpjx2HQ/gYftzv91HQyAKQvZylx+kS8CW9fF6SGOm9p5RIvcpqFxUurgQn7WXLR1G0drvdbDbRcnVd95ZbbvnUpz41MTFBwxs8yb/9uSz5zyabKgb7RWJwypDbT0S+7x87duy73/3uI488glP64KmMLjeaaTg4IYRQVTWbzSLNw0EvNjxmJxGwQUGQXBqUTF/OyZPGlIh4tKdANPBsA8BmeG9Rxhj6Xe12FyQplCO//du//Ud/9EczMzNEhP1HRDgiwhiTweaNl8se8gNOt+xCPvHEE9/5zneeeOIJaAjZDkbfQwHgvYH6hr46DsDJkEAvJw2LJEX6K4SQ/WZ4SLzt6MBxIuLqYPCuxL6gDARC5PdI6MERKBRKq6ur3W73ve9971/+5V/u2rVL3pd0S8lrmb4khJANPiJK09T3/e985zuPPfbYE0880ev1EIp1Xc/lcisrK/AkQAoYY4VCATep0nUdxCJEbBhc6Ac0dEpIMfBKkDFGG3Ho5hrWoNRIhmeRMD9WDHtxcFyIi6qqJolot9t33HHHJz/5Sfxf+NitppvXYjFs85b1yZMn//Vf//WBBx44deoUCHOTk5NAk2QKgOVQhpMSgEwjHer3+7ZpQVXRUGA3ADzS9II9wQG6fh8tZCArqqriPFEmk8EdydBPghYZY5///F3vfve7acggJCLJa9xSctmKGc1VZHggoiRJrJE7caVpevjw4e9+97sPPvggVhZAADrQWHdk0tit6BoIIRzLvoAcj0ygS4fsCGXIwoVqdVODRjHonQ3Z9c1mkzGWzWY559Vq1bbtD3zgAx/96EenpnYSEYgDGHM9SvTaOvIaB8mllzreiQRULg3iDREtLCwcPnz4wQcffOaZZ5rNZiaTKRaLcRzjJD8YYqCBEZGh6bJGISKppNH2MIAGGjRRNqBvpOmMMYzZQajfsWPHLbfccssttxw4cABzZYm4DPIIYADR8czWkctWzCtTSURjtPbkk9KwMFIVq3nixImHH374oYceOnbsWJqmaKOhtSOTqNC/0IuV8L4QwrZtieEjOKGlPTE1jqgOFWIceb/f37t37+233/6BD3xgbm5ODJv8YRj2ei5uhIRbKSHI/fJYDOCTUUhVZpZyQg5h8rhtExGmJoK2Gsex67rHjh176qmnkM41Go0LA3xzedzZBQrA+yRJAuAdQ2KSJMGwgDAMU0pw2PyGG264+eabDxw4MDY2lslkrr76avwtsgZcBhERcZRoCDAAhHBhr8Nyvn7yWixm1DJGDQhzJ4GQQ3PwVKMnJaUgegPKXVxcPHnyJBHNzMwojD/33HOPP/74c889B9IQApKu6/v27SuXy7VabWNjAz1s0zRn9+yempp629ve9va3vx3UWagNGYQsaADZGYaRJAI7CXfPRNh/E+uVzWQr3tVPClIybGrUicbwVrxiyKF9s6/x5yVbTjEXIVSj9Ojh8AOiVx1a+MshW04xl8z36BWakPDaG3pxb6BsuXuUSZh59MlXkjfSET7mG3l5b5hsOcVIkbD/KJI22mKhX2qL2XKubDN5Zfvrl1t+YRQD+aUPLVK2umJkTwyItbxa6d9+WWPMVlfM/2/ll3O7/RLItmK2qGwrZovKtmK2qGwrZovKtmK2qGwrZovKtmK2qGwrZovKtmK2qGwrZovKtmK2qGwrZovKtmK2qGwrZovK/wfCbITdhhS6fwAAAABJRU5ErkJggg==\n",
      "text/plain": [
       "<PIL.JpegImagePlugin.JpegImageFile image mode=RGB size=136x136 at 0x7F6FB543F320>"
      ]
     },
     "metadata": {},
     "output_type": "display_data"
    }
   ],
   "source": [
    "sneakers = list(data_dir.glob('Sneakers/*'))\n",
    "\n",
    "for image_path in sneakers[:3]:\n",
    "    display.display(Image.open(str(image_path)))"
   ]
  },
  {
   "cell_type": "markdown",
   "metadata": {
    "colab_type": "text",
    "id": "AxS1cLzM8mEp"
   },
   "source": [
    "## Load using `tf.data`"
   ]
  },
  {
   "cell_type": "markdown",
   "metadata": {
    "colab_type": "text",
    "id": "IIG5CPaULegg"
   },
   "source": [
    "To load the files as a `tf.data.Dataset` first create a dataset of the file paths:"
   ]
  },
  {
   "cell_type": "code",
   "execution_count": 16,
   "metadata": {
    "colab": {},
    "colab_type": "code",
    "id": "lAkQp5uxoINu"
   },
   "outputs": [],
   "source": [
    "BATCH_SIZE = 128\n",
    "IMG_SIZE = 224 # All images will be resized to 224x224\n",
    "CHANNELS = 3\n",
    "STEPS_PER_EPOCH = np.ceil(image_count/BATCH_SIZE)\n",
    "\n",
    "AUTOTUNE = tf.data.experimental.AUTOTUNE # Adapt preprocessing and prefetching dynamically\n",
    "SHUFFLE_BUFFER_SIZE = 1024 # Shuffle the training data by a chunck of 1024 observations\n",
    "\n",
    "SEED = 666777\n",
    "\n"
   ]
  },
  {
   "cell_type": "code",
   "execution_count": 17,
   "metadata": {
    "colab": {},
    "colab_type": "code",
    "id": "lAkQp5uxoINu"
   },
   "outputs": [],
   "source": [
    "train_dir = 'train'\n",
    "train_dir = pathlib.Path(train_dir)\n",
    "\n",
    "val_dir = 'validate'\n",
    "val_dir = pathlib.Path(val_dir)\n",
    "\n",
    "test_dir = 'test'\n",
    "test_dir = pathlib.Path(test_dir)\n",
    "train_list_ds = tf.data.Dataset.list_files(str(train_dir/'*/*'),shuffle=True,seed=SEED)\n",
    "validate_list_ds = tf.data.Dataset.list_files(str(val_dir/'*/*'),shuffle=True,seed=SEED)\n",
    "test_list_ds = tf.data.Dataset.list_files(str(test_dir/'*/*'),shuffle=True,seed=SEED)"
   ]
  },
  {
   "cell_type": "code",
   "execution_count": 18,
   "metadata": {
    "colab": {},
    "colab_type": "code",
    "id": "coORvEH-NGwc"
   },
   "outputs": [
    {
     "name": "stdout",
     "output_type": "stream",
     "text": [
      "b'validate/Boots/7543660.239864.jpg'\n",
      "b'validate/Shoes/7794342.358542.jpg'\n",
      "b'validate/Sneakers/7887584.1001.jpg'\n",
      "b'validate/Sneakers/7901787.357827.jpg'\n",
      "b'validate/Sneakers/8044476.911.jpg'\n"
     ]
    }
   ],
   "source": [
    "for f in validate_list_ds.take(5):\n",
    "  print(f.numpy())"
   ]
  },
  {
   "cell_type": "markdown",
   "metadata": {
    "colab_type": "text",
    "id": "91CPfUUJ_8SZ"
   },
   "source": [
    "Write a short pure-tensorflow function that converts a file paths to an (image_data, label) pair:"
   ]
  },
  {
   "cell_type": "code",
   "execution_count": null,
   "metadata": {},
   "outputs": [],
   "source": []
  },
  {
   "cell_type": "code",
   "execution_count": 19,
   "metadata": {
    "colab": {},
    "colab_type": "code",
    "id": "arSQzIey-4D4"
   },
   "outputs": [],
   "source": [
    "def get_label(file_path):\n",
    "  # convert the path to a list of path components\n",
    "  parts = tf.strings.split(file_path, os.path.sep)\n",
    "  # The second to last is the class-directory\n",
    "  #out=parts.one_hot(CLASS_NAMES, 3) \n",
    "  return parts[-2] == CLASS_NAMES"
   ]
  },
  {
   "cell_type": "code",
   "execution_count": 20,
   "metadata": {
    "colab": {},
    "colab_type": "code",
    "id": "MGlq4IP4Aktb"
   },
   "outputs": [],
   "source": [
    "def decode_img(img):\n",
    "  # convert the compressed string to a 3D uint8 tensor\n",
    "  img = tf.image.decode_jpeg(img, channels=CHANNELS)\n",
    "  # Use `convert_image_dtype` to convert to floats in the [0,1] range.\n",
    "  img = tf.image.convert_image_dtype(img, tf.float32)\n",
    "  # resize the image to the desired size.\n",
    "  return tf.image.resize(img, [IMG_SIZE, IMG_SIZE])"
   ]
  },
  {
   "cell_type": "code",
   "execution_count": 21,
   "metadata": {
    "colab": {},
    "colab_type": "code",
    "id": "y3PM6GVHcC31"
   },
   "outputs": [],
   "source": [
    "def parse_function(filename, label):\n",
    "    \"\"\"Function that returns a tuple of normalized image array and labels array.\n",
    "    Args:\n",
    "        filename: string representing path to image\n",
    "        label: 0/1 one-dimensional array of size N_LABELS\n",
    "    \"\"\"\n",
    "    # Read an image from a file\n",
    "    img = tf.io.read_file(filename)\n",
    "    image_decoded = decode_img(img)\n",
    "    image_normalized = image_decoded / 255.0\n",
    "    #     label = label\n",
    "    return image_normalized, label\n"
   ]
  },
  {
   "cell_type": "code",
   "execution_count": 22,
   "metadata": {
    "colab": {},
    "colab_type": "code",
    "id": "-xhBRgvNqRRe"
   },
   "outputs": [],
   "source": [
    "def process_path(file_path):\n",
    "    label = get_label(file_path)\n",
    "    # load the raw data from the file as a string\n",
    "    return parse_function(file_path, label)\n",
    "#   img = tf.io.read_file(file_path)\n",
    "#   #img = decode_img(img)\n",
    "#   #img = (img/127.5) - 1  # center values\n",
    "#   return img, label"
   ]
  },
  {
   "cell_type": "code",
   "execution_count": 23,
   "metadata": {
    "colab": {},
    "colab_type": "code",
    "id": "nLp0XVG_Vgi2"
   },
   "outputs": [],
   "source": [
    "def show_batch(image_batch, label_batch):\n",
    "  plt.figure(figsize=(10,10))\n",
    "  for n in range(25):\n",
    "      ax = plt.subplot(5,5,n+1)\n",
    "      plt.imshow(image_batch[n])\n",
    "      plt.title(CLASS_NAMES[label_batch[n]==1][0])\n",
    "      plt.axis('off')"
   ]
  },
  {
   "cell_type": "code",
   "execution_count": 24,
   "metadata": {},
   "outputs": [
    {
     "data": {
      "text/plain": [
       "array([0, 1, 0])"
      ]
     },
     "execution_count": 24,
     "metadata": {},
     "output_type": "execute_result"
    }
   ],
   "source": [
    "(CLASS_NAMES == CLASS_NAMES[1])*1\n"
   ]
  },
  {
   "cell_type": "markdown",
   "metadata": {
    "colab_type": "text",
    "id": "S9a5GpsUOBx8"
   },
   "source": [
    "Use `Dataset.map` to create a dataset of `image, label` pairs:"
   ]
  },
  {
   "cell_type": "markdown",
   "metadata": {
    "colab_type": "text",
    "id": "v77rlkCKW0IJ"
   },
   "source": [
    "\n",
    "## Data preprocessing"
   ]
  },
  {
   "cell_type": "markdown",
   "metadata": {
    "colab_type": "text",
    "id": "o29EfE-p0g5X"
   },
   "source": [
    "The resulting `tf.data.Dataset` objects contain `(image, label)` pairs where the images have variable shape and 3 channels, and the label is a scalar."
   ]
  },
  {
   "cell_type": "markdown",
   "metadata": {
    "colab_type": "text",
    "id": "yO1Q2JaW5sIy"
   },
   "source": [
    "print(train_ds)\n",
    "Show the first two images and labels from the training set:"
   ]
  },
  {
   "cell_type": "markdown",
   "metadata": {
    "colab_type": "text",
    "id": "wvidPx6jeFzf"
   },
   "source": [
    "### Format the Data\n",
    "\n",
    "Use the `tf.image` module to format the images for the task.\n",
    "\n",
    "Resize the images to a fixed input size, and rescale the input channels to a range of `[-1,1]`\n",
    "\n",
    "<!-- TODO(markdaoust): fix the keras_applications preprocessing functions to work in tf2 -->"
   ]
  },
  {
   "cell_type": "code",
   "execution_count": 25,
   "metadata": {
    "colab": {},
    "colab_type": "code",
    "id": "3SDhbo8lOBQv"
   },
   "outputs": [],
   "source": [
    "# # Set `num_parallel_calls` so multiple images are loaded/processed in parallel.\n",
    "# train_labeled_ds = train_list_ds.map(process_path, num_parallel_calls=AUTOTUNE)\n",
    "\n",
    "\n",
    "# validate_labeled_ds = validate_list_ds.map(process_path, num_parallel_calls=AUTOTUNE)\n",
    "# test_labeled_ds = test_list_ds.map(process_path, num_parallel_calls=AUTOTUNE)"
   ]
  },
  {
   "cell_type": "markdown",
   "metadata": {
    "colab_type": "text",
    "id": "vYGCgJuR_9Qp"
   },
   "source": [
    "### Basic methods for training"
   ]
  },
  {
   "cell_type": "code",
   "execution_count": 26,
   "metadata": {
    "colab": {},
    "colab_type": "code",
    "id": "3SDhbo8lOBQv"
   },
   "outputs": [],
   "source": [
    "BATCH_SIZE = 128\n",
    "IMG_HEIGHT = 224\n",
    "IMG_WIDTH = 224\n",
    "STEPS_PER_EPOCH = np.ceil(image_count/BATCH_SIZE)\n",
    "#SHUFFLE_BUFFER_SIZE = 1000\n",
    "\n",
    "    \n",
    "# def batch_dataset(dataset, is_training=True):\n",
    "#     \"\"\"Load and parse dataset.\n",
    "#     Args:\n",
    "#         filenames: list of image paths\n",
    "#         labels: numpy array of shape (BATCH_SIZE, N_LABELS)\n",
    "#         is_training: boolean to indicate training mode\n",
    "#     \"\"\"\n",
    "#     dataset.map(process_path, num_parallel_calls=AUTOTUNE)\n",
    "    \n",
    "#     if is_training == True:\n",
    "#         # This is a small dataset, only load it once, and keep it in memory.\n",
    "#         dataset = dataset.cache()\n",
    "            \n",
    "#     # Batch the data for multiple steps\n",
    "#     dataset = dataset.batch(BATCH_SIZE)\n",
    "#     # Fetch batches in the background while the model is training.\n",
    "#     dataset = dataset.prefetch(buffer_size=AUTOTUNE)\n",
    "    \n",
    "#     return dataset"
   ]
  },
  {
   "cell_type": "markdown",
   "metadata": {
    "colab_type": "text",
    "id": "wwZavzgsIytz"
   },
   "source": [
    "To train a model with this dataset you will want the data:\n",
    "\n",
    "* To be well shuffled.\n",
    "* To be batched.\n",
    "* Batches to be available as soon as possible.\n",
    "\n",
    "These features can be easily added using the `tf.data` api."
   ]
  },
  {
   "cell_type": "code",
   "execution_count": 27,
   "metadata": {
    "colab": {},
    "colab_type": "code",
    "id": "uZmZJx8ePw_5"
   },
   "outputs": [],
   "source": [
    "train = train_list_ds.map(process_path, num_parallel_calls=AUTOTUNE)\n",
    "validation = validate_list_ds.map(process_path, num_parallel_calls=AUTOTUNE)\n",
    "test = test_list_ds.map(process_path, num_parallel_calls=AUTOTUNE)"
   ]
  },
  {
   "cell_type": "code",
   "execution_count": 28,
   "metadata": {
    "colab": {},
    "colab_type": "code",
    "id": "uZmZJx8ePw_5"
   },
   "outputs": [],
   "source": [
    "train = train.cache()\n",
    "train_batches = train.batch(BATCH_SIZE)\n",
    "train_batches = train_batches.prefetch(buffer_size=AUTOTUNE)"
   ]
  },
  {
   "cell_type": "code",
   "execution_count": 29,
   "metadata": {
    "colab": {},
    "colab_type": "code",
    "id": "uZmZJx8ePw_5"
   },
   "outputs": [],
   "source": [
    "    \n",
    "validation_batches = validation.batch(BATCH_SIZE)\n",
    "test_batches = test.batch(BATCH_SIZE)"
   ]
  },
  {
   "cell_type": "code",
   "execution_count": null,
   "metadata": {
    "colab": {},
    "colab_type": "code",
    "id": "uZmZJx8ePw_5"
   },
   "outputs": [],
   "source": []
  },
  {
   "cell_type": "code",
   "execution_count": null,
   "metadata": {
    "colab": {},
    "colab_type": "code",
    "id": "GIys1_zY1S9b"
   },
   "outputs": [],
   "source": [
    "\n"
   ]
  },
  {
   "cell_type": "markdown",
   "metadata": {
    "colab_type": "text",
    "id": "i2MRh_AeBtOM"
   },
   "source": [
    "Apply this function to each item in the dataset using the map method:\n",
    "This will also shuffle and batch"
   ]
  },
  {
   "cell_type": "markdown",
   "metadata": {
    "colab_type": "text",
    "id": "OkH-kazQecHB"
   },
   "source": [
    "## Create the base model from the pre-trained convnets\n",
    "You will create the base model from the **MobileNet V2** model developed at Google. This is pre-trained on the ImageNet dataset, a large dataset consisting of 1.4M images and 1000 classes. ImageNet is a research training dataset with a wide variety of categories like `jackfruit` and `syringe`. This base of knowledge will help us classify cats and dogs from our specific dataset.\n",
    "\n",
    "First, you need to pick which layer of MobileNet V2 you will use for feature extraction. The very last classification layer (on \"top\", as most diagrams of machine learning models go from bottom to top) is not very useful.  Instead, you will follow the common practice to depend on the very last layer before the flatten operation. This layer is called the \"bottleneck layer\". The bottleneck layer features retain more generality as compared to the final/top layer.\n",
    "\n",
    "First, instantiate a MobileNet V2 model pre-loaded with weights trained on ImageNet. By specifying the **include_top=False** argument, you load a network that doesn't include the classification layers at the top, which is ideal for feature extraction."
   ]
  },
  {
   "cell_type": "code",
   "execution_count": 30,
   "metadata": {
    "colab": {},
    "colab_type": "code",
    "id": "19IQ2gqneqmS"
   },
   "outputs": [
    {
     "name": "stdout",
     "output_type": "stream",
     "text": [
      "(224, 224, 3)\n"
     ]
    }
   ],
   "source": [
    "IMG_SHAPE = (IMG_HEIGHT, IMG_WIDTH, 3)\n",
    "print(IMG_SHAPE)"
   ]
  },
  {
   "cell_type": "code",
   "execution_count": 31,
   "metadata": {
    "colab": {},
    "colab_type": "code",
    "id": "19IQ2gqneqmS"
   },
   "outputs": [
    {
     "name": "stdout",
     "output_type": "stream",
     "text": [
      "Downloading data from https://github.com/JonathanCMitchell/mobilenet_v2_keras/releases/download/v1.1/mobilenet_v2_weights_tf_dim_ordering_tf_kernels_1.0_224_no_top.h5\n",
      "9412608/9406464 [==============================] - 1s 0us/step\n"
     ]
    }
   ],
   "source": [
    "# Create the base model from the pre-trained model MobileNet V2\n",
    "base_model = tf.keras.applications.MobileNetV2(input_shape=IMG_SHAPE,\n",
    "                                               include_top=False,\n",
    "                                               weights='imagenet') #pooling = 'avg'"
   ]
  },
  {
   "cell_type": "markdown",
   "metadata": {
    "colab_type": "text",
    "id": "AqcsxoJIEVXZ"
   },
   "source": [
    "This feature extractor converts each `224x224x3` image into a `7x7x1280` block of features. See what it does to the example batch of images:"
   ]
  },
  {
   "cell_type": "code",
   "execution_count": 32,
   "metadata": {
    "colab": {},
    "colab_type": "code",
    "id": "Y-2LJL0EEUcx"
   },
   "outputs": [
    {
     "data": {
      "text/plain": [
       "<DatasetV1Adapter shapes: ((None, 224, 224, 3), (None, 3)), types: (tf.float32, tf.bool)>"
      ]
     },
     "execution_count": 32,
     "metadata": {},
     "output_type": "execute_result"
    }
   ],
   "source": [
    "train_batches.take(1)"
   ]
  },
  {
   "cell_type": "code",
   "execution_count": 33,
   "metadata": {
    "colab": {},
    "colab_type": "code",
    "id": "Y-2LJL0EEUcx"
   },
   "outputs": [
    {
     "data": {
      "text/plain": [
       "TensorShape([128, 224, 224, 3])"
      ]
     },
     "execution_count": 33,
     "metadata": {},
     "output_type": "execute_result"
    }
   ],
   "source": [
    "for image_batch, label_batch in train_batches.take(1):\n",
    "   pass\n",
    "\n",
    "image_batch.shape"
   ]
  },
  {
   "cell_type": "code",
   "execution_count": 34,
   "metadata": {
    "colab": {},
    "colab_type": "code",
    "id": "Y-2LJL0EEUcx"
   },
   "outputs": [
    {
     "name": "stdout",
     "output_type": "stream",
     "text": [
      "(128, 7, 7, 1280)\n"
     ]
    }
   ],
   "source": [
    "feature_batch = base_model(image_batch)\n",
    "print(feature_batch.shape)"
   ]
  },
  {
   "cell_type": "markdown",
   "metadata": {
    "colab_type": "text",
    "id": "rlx56nQtfe8Y"
   },
   "source": [
    "## Feature extraction\n",
    "In this step, you will freeze the convolutional base created from the previous step and to use as a feature extractor. Additionally, you add a classifier on top of it and train the top-level classifier."
   ]
  },
  {
   "cell_type": "markdown",
   "metadata": {
    "colab_type": "text",
    "id": "CnMLieHBCwil"
   },
   "source": [
    "### Freeze the convolutional base\n",
    "\n",
    "It is important to freeze the convolutional base before you compile and train the model. Freezing (by setting layer.trainable = False) prevents the weights in a given layer from being updated during training. MobileNet V2 has many layers, so setting the entire model's trainable flag to False will freeze all the layers."
   ]
  },
  {
   "cell_type": "code",
   "execution_count": 35,
   "metadata": {
    "colab": {},
    "colab_type": "code",
    "id": "OTCJH4bphOeo"
   },
   "outputs": [],
   "source": [
    "base_model.trainable = False"
   ]
  },
  {
   "cell_type": "code",
   "execution_count": 36,
   "metadata": {
    "colab": {},
    "colab_type": "code",
    "id": "KpbzSmPkDa-N"
   },
   "outputs": [
    {
     "name": "stdout",
     "output_type": "stream",
     "text": [
      "Model: \"mobilenetv2_1.00_224\"\n",
      "__________________________________________________________________________________________________\n",
      "Layer (type)                    Output Shape         Param #     Connected to                     \n",
      "==================================================================================================\n",
      "input_1 (InputLayer)            [(None, 224, 224, 3) 0                                            \n",
      "__________________________________________________________________________________________________\n",
      "Conv1_pad (ZeroPadding2D)       (None, 225, 225, 3)  0           input_1[0][0]                    \n",
      "__________________________________________________________________________________________________\n",
      "Conv1 (Conv2D)                  (None, 112, 112, 32) 864         Conv1_pad[0][0]                  \n",
      "__________________________________________________________________________________________________\n",
      "bn_Conv1 (BatchNormalization)   (None, 112, 112, 32) 128         Conv1[0][0]                      \n",
      "__________________________________________________________________________________________________\n",
      "Conv1_relu (ReLU)               (None, 112, 112, 32) 0           bn_Conv1[0][0]                   \n",
      "__________________________________________________________________________________________________\n",
      "expanded_conv_depthwise (Depthw (None, 112, 112, 32) 288         Conv1_relu[0][0]                 \n",
      "__________________________________________________________________________________________________\n",
      "expanded_conv_depthwise_BN (Bat (None, 112, 112, 32) 128         expanded_conv_depthwise[0][0]    \n",
      "__________________________________________________________________________________________________\n",
      "expanded_conv_depthwise_relu (R (None, 112, 112, 32) 0           expanded_conv_depthwise_BN[0][0] \n",
      "__________________________________________________________________________________________________\n",
      "expanded_conv_project (Conv2D)  (None, 112, 112, 16) 512         expanded_conv_depthwise_relu[0][0\n",
      "__________________________________________________________________________________________________\n",
      "expanded_conv_project_BN (Batch (None, 112, 112, 16) 64          expanded_conv_project[0][0]      \n",
      "__________________________________________________________________________________________________\n",
      "block_1_expand (Conv2D)         (None, 112, 112, 96) 1536        expanded_conv_project_BN[0][0]   \n",
      "__________________________________________________________________________________________________\n",
      "block_1_expand_BN (BatchNormali (None, 112, 112, 96) 384         block_1_expand[0][0]             \n",
      "__________________________________________________________________________________________________\n",
      "block_1_expand_relu (ReLU)      (None, 112, 112, 96) 0           block_1_expand_BN[0][0]          \n",
      "__________________________________________________________________________________________________\n",
      "block_1_pad (ZeroPadding2D)     (None, 113, 113, 96) 0           block_1_expand_relu[0][0]        \n",
      "__________________________________________________________________________________________________\n",
      "block_1_depthwise (DepthwiseCon (None, 56, 56, 96)   864         block_1_pad[0][0]                \n",
      "__________________________________________________________________________________________________\n",
      "block_1_depthwise_BN (BatchNorm (None, 56, 56, 96)   384         block_1_depthwise[0][0]          \n",
      "__________________________________________________________________________________________________\n",
      "block_1_depthwise_relu (ReLU)   (None, 56, 56, 96)   0           block_1_depthwise_BN[0][0]       \n",
      "__________________________________________________________________________________________________\n",
      "block_1_project (Conv2D)        (None, 56, 56, 24)   2304        block_1_depthwise_relu[0][0]     \n",
      "__________________________________________________________________________________________________\n",
      "block_1_project_BN (BatchNormal (None, 56, 56, 24)   96          block_1_project[0][0]            \n",
      "__________________________________________________________________________________________________\n",
      "block_2_expand (Conv2D)         (None, 56, 56, 144)  3456        block_1_project_BN[0][0]         \n",
      "__________________________________________________________________________________________________\n",
      "block_2_expand_BN (BatchNormali (None, 56, 56, 144)  576         block_2_expand[0][0]             \n",
      "__________________________________________________________________________________________________\n",
      "block_2_expand_relu (ReLU)      (None, 56, 56, 144)  0           block_2_expand_BN[0][0]          \n",
      "__________________________________________________________________________________________________\n",
      "block_2_depthwise (DepthwiseCon (None, 56, 56, 144)  1296        block_2_expand_relu[0][0]        \n",
      "__________________________________________________________________________________________________\n",
      "block_2_depthwise_BN (BatchNorm (None, 56, 56, 144)  576         block_2_depthwise[0][0]          \n",
      "__________________________________________________________________________________________________\n",
      "block_2_depthwise_relu (ReLU)   (None, 56, 56, 144)  0           block_2_depthwise_BN[0][0]       \n",
      "__________________________________________________________________________________________________\n",
      "block_2_project (Conv2D)        (None, 56, 56, 24)   3456        block_2_depthwise_relu[0][0]     \n",
      "__________________________________________________________________________________________________\n",
      "block_2_project_BN (BatchNormal (None, 56, 56, 24)   96          block_2_project[0][0]            \n",
      "__________________________________________________________________________________________________\n",
      "block_2_add (Add)               (None, 56, 56, 24)   0           block_1_project_BN[0][0]         \n",
      "                                                                 block_2_project_BN[0][0]         \n",
      "__________________________________________________________________________________________________\n",
      "block_3_expand (Conv2D)         (None, 56, 56, 144)  3456        block_2_add[0][0]                \n",
      "__________________________________________________________________________________________________\n",
      "block_3_expand_BN (BatchNormali (None, 56, 56, 144)  576         block_3_expand[0][0]             \n",
      "__________________________________________________________________________________________________\n",
      "block_3_expand_relu (ReLU)      (None, 56, 56, 144)  0           block_3_expand_BN[0][0]          \n",
      "__________________________________________________________________________________________________\n",
      "block_3_pad (ZeroPadding2D)     (None, 57, 57, 144)  0           block_3_expand_relu[0][0]        \n",
      "__________________________________________________________________________________________________\n",
      "block_3_depthwise (DepthwiseCon (None, 28, 28, 144)  1296        block_3_pad[0][0]                \n",
      "__________________________________________________________________________________________________\n",
      "block_3_depthwise_BN (BatchNorm (None, 28, 28, 144)  576         block_3_depthwise[0][0]          \n",
      "__________________________________________________________________________________________________\n",
      "block_3_depthwise_relu (ReLU)   (None, 28, 28, 144)  0           block_3_depthwise_BN[0][0]       \n",
      "__________________________________________________________________________________________________\n",
      "block_3_project (Conv2D)        (None, 28, 28, 32)   4608        block_3_depthwise_relu[0][0]     \n",
      "__________________________________________________________________________________________________\n",
      "block_3_project_BN (BatchNormal (None, 28, 28, 32)   128         block_3_project[0][0]            \n",
      "__________________________________________________________________________________________________\n",
      "block_4_expand (Conv2D)         (None, 28, 28, 192)  6144        block_3_project_BN[0][0]         \n",
      "__________________________________________________________________________________________________\n",
      "block_4_expand_BN (BatchNormali (None, 28, 28, 192)  768         block_4_expand[0][0]             \n",
      "__________________________________________________________________________________________________\n",
      "block_4_expand_relu (ReLU)      (None, 28, 28, 192)  0           block_4_expand_BN[0][0]          \n",
      "__________________________________________________________________________________________________\n",
      "block_4_depthwise (DepthwiseCon (None, 28, 28, 192)  1728        block_4_expand_relu[0][0]        \n",
      "__________________________________________________________________________________________________\n",
      "block_4_depthwise_BN (BatchNorm (None, 28, 28, 192)  768         block_4_depthwise[0][0]          \n",
      "__________________________________________________________________________________________________\n",
      "block_4_depthwise_relu (ReLU)   (None, 28, 28, 192)  0           block_4_depthwise_BN[0][0]       \n",
      "__________________________________________________________________________________________________\n",
      "block_4_project (Conv2D)        (None, 28, 28, 32)   6144        block_4_depthwise_relu[0][0]     \n",
      "__________________________________________________________________________________________________\n",
      "block_4_project_BN (BatchNormal (None, 28, 28, 32)   128         block_4_project[0][0]            \n",
      "__________________________________________________________________________________________________\n",
      "block_4_add (Add)               (None, 28, 28, 32)   0           block_3_project_BN[0][0]         \n",
      "                                                                 block_4_project_BN[0][0]         \n",
      "__________________________________________________________________________________________________\n",
      "block_5_expand (Conv2D)         (None, 28, 28, 192)  6144        block_4_add[0][0]                \n",
      "__________________________________________________________________________________________________\n",
      "block_5_expand_BN (BatchNormali (None, 28, 28, 192)  768         block_5_expand[0][0]             \n",
      "__________________________________________________________________________________________________\n",
      "block_5_expand_relu (ReLU)      (None, 28, 28, 192)  0           block_5_expand_BN[0][0]          \n",
      "__________________________________________________________________________________________________\n",
      "block_5_depthwise (DepthwiseCon (None, 28, 28, 192)  1728        block_5_expand_relu[0][0]        \n",
      "__________________________________________________________________________________________________\n",
      "block_5_depthwise_BN (BatchNorm (None, 28, 28, 192)  768         block_5_depthwise[0][0]          \n",
      "__________________________________________________________________________________________________\n",
      "block_5_depthwise_relu (ReLU)   (None, 28, 28, 192)  0           block_5_depthwise_BN[0][0]       \n",
      "__________________________________________________________________________________________________\n",
      "block_5_project (Conv2D)        (None, 28, 28, 32)   6144        block_5_depthwise_relu[0][0]     \n",
      "__________________________________________________________________________________________________\n",
      "block_5_project_BN (BatchNormal (None, 28, 28, 32)   128         block_5_project[0][0]            \n",
      "__________________________________________________________________________________________________\n",
      "block_5_add (Add)               (None, 28, 28, 32)   0           block_4_add[0][0]                \n",
      "                                                                 block_5_project_BN[0][0]         \n",
      "__________________________________________________________________________________________________\n",
      "block_6_expand (Conv2D)         (None, 28, 28, 192)  6144        block_5_add[0][0]                \n",
      "__________________________________________________________________________________________________\n",
      "block_6_expand_BN (BatchNormali (None, 28, 28, 192)  768         block_6_expand[0][0]             \n",
      "__________________________________________________________________________________________________\n",
      "block_6_expand_relu (ReLU)      (None, 28, 28, 192)  0           block_6_expand_BN[0][0]          \n",
      "__________________________________________________________________________________________________\n",
      "block_6_pad (ZeroPadding2D)     (None, 29, 29, 192)  0           block_6_expand_relu[0][0]        \n",
      "__________________________________________________________________________________________________\n",
      "block_6_depthwise (DepthwiseCon (None, 14, 14, 192)  1728        block_6_pad[0][0]                \n",
      "__________________________________________________________________________________________________\n",
      "block_6_depthwise_BN (BatchNorm (None, 14, 14, 192)  768         block_6_depthwise[0][0]          \n",
      "__________________________________________________________________________________________________\n",
      "block_6_depthwise_relu (ReLU)   (None, 14, 14, 192)  0           block_6_depthwise_BN[0][0]       \n",
      "__________________________________________________________________________________________________\n",
      "block_6_project (Conv2D)        (None, 14, 14, 64)   12288       block_6_depthwise_relu[0][0]     \n",
      "__________________________________________________________________________________________________\n",
      "block_6_project_BN (BatchNormal (None, 14, 14, 64)   256         block_6_project[0][0]            \n",
      "__________________________________________________________________________________________________\n",
      "block_7_expand (Conv2D)         (None, 14, 14, 384)  24576       block_6_project_BN[0][0]         \n",
      "__________________________________________________________________________________________________\n",
      "block_7_expand_BN (BatchNormali (None, 14, 14, 384)  1536        block_7_expand[0][0]             \n",
      "__________________________________________________________________________________________________\n",
      "block_7_expand_relu (ReLU)      (None, 14, 14, 384)  0           block_7_expand_BN[0][0]          \n",
      "__________________________________________________________________________________________________\n",
      "block_7_depthwise (DepthwiseCon (None, 14, 14, 384)  3456        block_7_expand_relu[0][0]        \n",
      "__________________________________________________________________________________________________\n",
      "block_7_depthwise_BN (BatchNorm (None, 14, 14, 384)  1536        block_7_depthwise[0][0]          \n",
      "__________________________________________________________________________________________________\n",
      "block_7_depthwise_relu (ReLU)   (None, 14, 14, 384)  0           block_7_depthwise_BN[0][0]       \n",
      "__________________________________________________________________________________________________\n",
      "block_7_project (Conv2D)        (None, 14, 14, 64)   24576       block_7_depthwise_relu[0][0]     \n",
      "__________________________________________________________________________________________________\n",
      "block_7_project_BN (BatchNormal (None, 14, 14, 64)   256         block_7_project[0][0]            \n",
      "__________________________________________________________________________________________________\n",
      "block_7_add (Add)               (None, 14, 14, 64)   0           block_6_project_BN[0][0]         \n",
      "                                                                 block_7_project_BN[0][0]         \n",
      "__________________________________________________________________________________________________\n",
      "block_8_expand (Conv2D)         (None, 14, 14, 384)  24576       block_7_add[0][0]                \n",
      "__________________________________________________________________________________________________\n",
      "block_8_expand_BN (BatchNormali (None, 14, 14, 384)  1536        block_8_expand[0][0]             \n",
      "__________________________________________________________________________________________________\n",
      "block_8_expand_relu (ReLU)      (None, 14, 14, 384)  0           block_8_expand_BN[0][0]          \n",
      "__________________________________________________________________________________________________\n",
      "block_8_depthwise (DepthwiseCon (None, 14, 14, 384)  3456        block_8_expand_relu[0][0]        \n",
      "__________________________________________________________________________________________________\n",
      "block_8_depthwise_BN (BatchNorm (None, 14, 14, 384)  1536        block_8_depthwise[0][0]          \n",
      "__________________________________________________________________________________________________\n",
      "block_8_depthwise_relu (ReLU)   (None, 14, 14, 384)  0           block_8_depthwise_BN[0][0]       \n",
      "__________________________________________________________________________________________________\n",
      "block_8_project (Conv2D)        (None, 14, 14, 64)   24576       block_8_depthwise_relu[0][0]     \n",
      "__________________________________________________________________________________________________\n",
      "block_8_project_BN (BatchNormal (None, 14, 14, 64)   256         block_8_project[0][0]            \n",
      "__________________________________________________________________________________________________\n",
      "block_8_add (Add)               (None, 14, 14, 64)   0           block_7_add[0][0]                \n",
      "                                                                 block_8_project_BN[0][0]         \n",
      "__________________________________________________________________________________________________\n",
      "block_9_expand (Conv2D)         (None, 14, 14, 384)  24576       block_8_add[0][0]                \n",
      "__________________________________________________________________________________________________\n",
      "block_9_expand_BN (BatchNormali (None, 14, 14, 384)  1536        block_9_expand[0][0]             \n",
      "__________________________________________________________________________________________________\n",
      "block_9_expand_relu (ReLU)      (None, 14, 14, 384)  0           block_9_expand_BN[0][0]          \n",
      "__________________________________________________________________________________________________\n",
      "block_9_depthwise (DepthwiseCon (None, 14, 14, 384)  3456        block_9_expand_relu[0][0]        \n",
      "__________________________________________________________________________________________________\n",
      "block_9_depthwise_BN (BatchNorm (None, 14, 14, 384)  1536        block_9_depthwise[0][0]          \n",
      "__________________________________________________________________________________________________\n",
      "block_9_depthwise_relu (ReLU)   (None, 14, 14, 384)  0           block_9_depthwise_BN[0][0]       \n",
      "__________________________________________________________________________________________________\n",
      "block_9_project (Conv2D)        (None, 14, 14, 64)   24576       block_9_depthwise_relu[0][0]     \n",
      "__________________________________________________________________________________________________\n",
      "block_9_project_BN (BatchNormal (None, 14, 14, 64)   256         block_9_project[0][0]            \n",
      "__________________________________________________________________________________________________\n",
      "block_9_add (Add)               (None, 14, 14, 64)   0           block_8_add[0][0]                \n",
      "                                                                 block_9_project_BN[0][0]         \n",
      "__________________________________________________________________________________________________\n",
      "block_10_expand (Conv2D)        (None, 14, 14, 384)  24576       block_9_add[0][0]                \n",
      "__________________________________________________________________________________________________\n",
      "block_10_expand_BN (BatchNormal (None, 14, 14, 384)  1536        block_10_expand[0][0]            \n",
      "__________________________________________________________________________________________________\n",
      "block_10_expand_relu (ReLU)     (None, 14, 14, 384)  0           block_10_expand_BN[0][0]         \n",
      "__________________________________________________________________________________________________\n",
      "block_10_depthwise (DepthwiseCo (None, 14, 14, 384)  3456        block_10_expand_relu[0][0]       \n",
      "__________________________________________________________________________________________________\n",
      "block_10_depthwise_BN (BatchNor (None, 14, 14, 384)  1536        block_10_depthwise[0][0]         \n",
      "__________________________________________________________________________________________________\n",
      "block_10_depthwise_relu (ReLU)  (None, 14, 14, 384)  0           block_10_depthwise_BN[0][0]      \n",
      "__________________________________________________________________________________________________\n",
      "block_10_project (Conv2D)       (None, 14, 14, 96)   36864       block_10_depthwise_relu[0][0]    \n",
      "__________________________________________________________________________________________________\n",
      "block_10_project_BN (BatchNorma (None, 14, 14, 96)   384         block_10_project[0][0]           \n",
      "__________________________________________________________________________________________________\n",
      "block_11_expand (Conv2D)        (None, 14, 14, 576)  55296       block_10_project_BN[0][0]        \n",
      "__________________________________________________________________________________________________\n",
      "block_11_expand_BN (BatchNormal (None, 14, 14, 576)  2304        block_11_expand[0][0]            \n",
      "__________________________________________________________________________________________________\n",
      "block_11_expand_relu (ReLU)     (None, 14, 14, 576)  0           block_11_expand_BN[0][0]         \n",
      "__________________________________________________________________________________________________\n",
      "block_11_depthwise (DepthwiseCo (None, 14, 14, 576)  5184        block_11_expand_relu[0][0]       \n",
      "__________________________________________________________________________________________________\n",
      "block_11_depthwise_BN (BatchNor (None, 14, 14, 576)  2304        block_11_depthwise[0][0]         \n",
      "__________________________________________________________________________________________________\n",
      "block_11_depthwise_relu (ReLU)  (None, 14, 14, 576)  0           block_11_depthwise_BN[0][0]      \n",
      "__________________________________________________________________________________________________\n",
      "block_11_project (Conv2D)       (None, 14, 14, 96)   55296       block_11_depthwise_relu[0][0]    \n",
      "__________________________________________________________________________________________________\n",
      "block_11_project_BN (BatchNorma (None, 14, 14, 96)   384         block_11_project[0][0]           \n",
      "__________________________________________________________________________________________________\n",
      "block_11_add (Add)              (None, 14, 14, 96)   0           block_10_project_BN[0][0]        \n",
      "                                                                 block_11_project_BN[0][0]        \n",
      "__________________________________________________________________________________________________\n",
      "block_12_expand (Conv2D)        (None, 14, 14, 576)  55296       block_11_add[0][0]               \n",
      "__________________________________________________________________________________________________\n",
      "block_12_expand_BN (BatchNormal (None, 14, 14, 576)  2304        block_12_expand[0][0]            \n",
      "__________________________________________________________________________________________________\n",
      "block_12_expand_relu (ReLU)     (None, 14, 14, 576)  0           block_12_expand_BN[0][0]         \n",
      "__________________________________________________________________________________________________\n",
      "block_12_depthwise (DepthwiseCo (None, 14, 14, 576)  5184        block_12_expand_relu[0][0]       \n",
      "__________________________________________________________________________________________________\n",
      "block_12_depthwise_BN (BatchNor (None, 14, 14, 576)  2304        block_12_depthwise[0][0]         \n",
      "__________________________________________________________________________________________________\n",
      "block_12_depthwise_relu (ReLU)  (None, 14, 14, 576)  0           block_12_depthwise_BN[0][0]      \n",
      "__________________________________________________________________________________________________\n",
      "block_12_project (Conv2D)       (None, 14, 14, 96)   55296       block_12_depthwise_relu[0][0]    \n",
      "__________________________________________________________________________________________________\n",
      "block_12_project_BN (BatchNorma (None, 14, 14, 96)   384         block_12_project[0][0]           \n",
      "__________________________________________________________________________________________________\n",
      "block_12_add (Add)              (None, 14, 14, 96)   0           block_11_add[0][0]               \n",
      "                                                                 block_12_project_BN[0][0]        \n",
      "__________________________________________________________________________________________________\n",
      "block_13_expand (Conv2D)        (None, 14, 14, 576)  55296       block_12_add[0][0]               \n",
      "__________________________________________________________________________________________________\n",
      "block_13_expand_BN (BatchNormal (None, 14, 14, 576)  2304        block_13_expand[0][0]            \n",
      "__________________________________________________________________________________________________\n",
      "block_13_expand_relu (ReLU)     (None, 14, 14, 576)  0           block_13_expand_BN[0][0]         \n",
      "__________________________________________________________________________________________________\n",
      "block_13_pad (ZeroPadding2D)    (None, 15, 15, 576)  0           block_13_expand_relu[0][0]       \n",
      "__________________________________________________________________________________________________\n",
      "block_13_depthwise (DepthwiseCo (None, 7, 7, 576)    5184        block_13_pad[0][0]               \n",
      "__________________________________________________________________________________________________\n",
      "block_13_depthwise_BN (BatchNor (None, 7, 7, 576)    2304        block_13_depthwise[0][0]         \n",
      "__________________________________________________________________________________________________\n",
      "block_13_depthwise_relu (ReLU)  (None, 7, 7, 576)    0           block_13_depthwise_BN[0][0]      \n",
      "__________________________________________________________________________________________________\n",
      "block_13_project (Conv2D)       (None, 7, 7, 160)    92160       block_13_depthwise_relu[0][0]    \n",
      "__________________________________________________________________________________________________\n",
      "block_13_project_BN (BatchNorma (None, 7, 7, 160)    640         block_13_project[0][0]           \n",
      "__________________________________________________________________________________________________\n",
      "block_14_expand (Conv2D)        (None, 7, 7, 960)    153600      block_13_project_BN[0][0]        \n",
      "__________________________________________________________________________________________________\n",
      "block_14_expand_BN (BatchNormal (None, 7, 7, 960)    3840        block_14_expand[0][0]            \n",
      "__________________________________________________________________________________________________\n",
      "block_14_expand_relu (ReLU)     (None, 7, 7, 960)    0           block_14_expand_BN[0][0]         \n",
      "__________________________________________________________________________________________________\n",
      "block_14_depthwise (DepthwiseCo (None, 7, 7, 960)    8640        block_14_expand_relu[0][0]       \n",
      "__________________________________________________________________________________________________\n",
      "block_14_depthwise_BN (BatchNor (None, 7, 7, 960)    3840        block_14_depthwise[0][0]         \n",
      "__________________________________________________________________________________________________\n",
      "block_14_depthwise_relu (ReLU)  (None, 7, 7, 960)    0           block_14_depthwise_BN[0][0]      \n",
      "__________________________________________________________________________________________________\n",
      "block_14_project (Conv2D)       (None, 7, 7, 160)    153600      block_14_depthwise_relu[0][0]    \n",
      "__________________________________________________________________________________________________\n",
      "block_14_project_BN (BatchNorma (None, 7, 7, 160)    640         block_14_project[0][0]           \n",
      "__________________________________________________________________________________________________\n",
      "block_14_add (Add)              (None, 7, 7, 160)    0           block_13_project_BN[0][0]        \n",
      "                                                                 block_14_project_BN[0][0]        \n",
      "__________________________________________________________________________________________________\n",
      "block_15_expand (Conv2D)        (None, 7, 7, 960)    153600      block_14_add[0][0]               \n",
      "__________________________________________________________________________________________________\n",
      "block_15_expand_BN (BatchNormal (None, 7, 7, 960)    3840        block_15_expand[0][0]            \n",
      "__________________________________________________________________________________________________\n",
      "block_15_expand_relu (ReLU)     (None, 7, 7, 960)    0           block_15_expand_BN[0][0]         \n",
      "__________________________________________________________________________________________________\n",
      "block_15_depthwise (DepthwiseCo (None, 7, 7, 960)    8640        block_15_expand_relu[0][0]       \n",
      "__________________________________________________________________________________________________\n",
      "block_15_depthwise_BN (BatchNor (None, 7, 7, 960)    3840        block_15_depthwise[0][0]         \n",
      "__________________________________________________________________________________________________\n",
      "block_15_depthwise_relu (ReLU)  (None, 7, 7, 960)    0           block_15_depthwise_BN[0][0]      \n",
      "__________________________________________________________________________________________________\n",
      "block_15_project (Conv2D)       (None, 7, 7, 160)    153600      block_15_depthwise_relu[0][0]    \n",
      "__________________________________________________________________________________________________\n",
      "block_15_project_BN (BatchNorma (None, 7, 7, 160)    640         block_15_project[0][0]           \n",
      "__________________________________________________________________________________________________\n",
      "block_15_add (Add)              (None, 7, 7, 160)    0           block_14_add[0][0]               \n",
      "                                                                 block_15_project_BN[0][0]        \n",
      "__________________________________________________________________________________________________\n",
      "block_16_expand (Conv2D)        (None, 7, 7, 960)    153600      block_15_add[0][0]               \n",
      "__________________________________________________________________________________________________\n",
      "block_16_expand_BN (BatchNormal (None, 7, 7, 960)    3840        block_16_expand[0][0]            \n",
      "__________________________________________________________________________________________________\n",
      "block_16_expand_relu (ReLU)     (None, 7, 7, 960)    0           block_16_expand_BN[0][0]         \n",
      "__________________________________________________________________________________________________\n",
      "block_16_depthwise (DepthwiseCo (None, 7, 7, 960)    8640        block_16_expand_relu[0][0]       \n",
      "__________________________________________________________________________________________________\n",
      "block_16_depthwise_BN (BatchNor (None, 7, 7, 960)    3840        block_16_depthwise[0][0]         \n",
      "__________________________________________________________________________________________________\n",
      "block_16_depthwise_relu (ReLU)  (None, 7, 7, 960)    0           block_16_depthwise_BN[0][0]      \n",
      "__________________________________________________________________________________________________\n",
      "block_16_project (Conv2D)       (None, 7, 7, 320)    307200      block_16_depthwise_relu[0][0]    \n",
      "__________________________________________________________________________________________________\n",
      "block_16_project_BN (BatchNorma (None, 7, 7, 320)    1280        block_16_project[0][0]           \n",
      "__________________________________________________________________________________________________\n",
      "Conv_1 (Conv2D)                 (None, 7, 7, 1280)   409600      block_16_project_BN[0][0]        \n",
      "__________________________________________________________________________________________________\n",
      "Conv_1_bn (BatchNormalization)  (None, 7, 7, 1280)   5120        Conv_1[0][0]                     \n",
      "__________________________________________________________________________________________________\n",
      "out_relu (ReLU)                 (None, 7, 7, 1280)   0           Conv_1_bn[0][0]                  \n",
      "==================================================================================================\n",
      "Total params: 2,257,984\n",
      "Trainable params: 0\n",
      "Non-trainable params: 2,257,984\n",
      "__________________________________________________________________________________________________\n"
     ]
    }
   ],
   "source": [
    "# Let's take a look at the base model architecture\n",
    "base_model.summary()"
   ]
  },
  {
   "cell_type": "markdown",
   "metadata": {
    "colab_type": "text",
    "id": "wdMRM8YModbk"
   },
   "source": [
    "### Add a classification head"
   ]
  },
  {
   "cell_type": "markdown",
   "metadata": {
    "colab_type": "text",
    "id": "QBc31c4tMOdH"
   },
   "source": [
    "To generate predictions from the block of features, average over the spatial `5x5` spatial locations, using a `tf.keras.layers.GlobalAveragePooling2D` layer to convert the features to  a single 1280-element vector per image."
   ]
  },
  {
   "cell_type": "code",
   "execution_count": 37,
   "metadata": {
    "colab": {},
    "colab_type": "code",
    "id": "dLnpMF5KOALm"
   },
   "outputs": [
    {
     "name": "stdout",
     "output_type": "stream",
     "text": [
      "Model: \"sequential\"\n",
      "_________________________________________________________________\n",
      "Layer (type)                 Output Shape              Param #   \n",
      "=================================================================\n",
      "mobilenetv2_1.00_224 (Model) (None, 7, 7, 1280)        2257984   \n",
      "_________________________________________________________________\n",
      "global_average_pooling2d (Gl (None, 1280)              0         \n",
      "_________________________________________________________________\n",
      "hidden_layer (Dense)         (None, 1024)              1311744   \n",
      "_________________________________________________________________\n",
      "output (Dense)               (None, 3)                 3075      \n",
      "=================================================================\n",
      "Total params: 3,572,803\n",
      "Trainable params: 1,314,819\n",
      "Non-trainable params: 2,257,984\n",
      "_________________________________________________________________\n"
     ]
    }
   ],
   "source": [
    "global_average_layer = tf.keras.layers.GlobalAveragePooling2D()\n",
    "#feature_batch_average = global_average_layer(feature_batch)\n",
    "#print(feature_batch_average.shape)\n",
    "\n",
    "N_LABELS = 3\n",
    "model = tf.keras.Sequential([\n",
    "    base_model,\n",
    "    global_average_layer,  # this is to make sure the output \n",
    "    tf.keras.layers.Dense(1024, activation='relu', name='hidden_layer'),\n",
    "    tf.keras.layers.Dense(N_LABELS, activation='sigmoid', name='output')\n",
    "])\n",
    "\n",
    "model.summary()\n",
    "\n"
   ]
  },
  {
   "cell_type": "markdown",
   "metadata": {
    "colab_type": "text",
    "id": "0iqnBeZrfoIc"
   },
   "source": [
    "Now stack the feature extractor, and these two layers using a `tf.keras.Sequential` model:"
   ]
  },
  {
   "cell_type": "code",
   "execution_count": 38,
   "metadata": {
    "colab": {},
    "colab_type": "code",
    "id": "eApvroIyn1K0"
   },
   "outputs": [],
   "source": [
    "# model = tf.keras.Sequential([\n",
    "#   base_model,\n",
    "#   global_average_layer,\n",
    "#   prediction_layer\n",
    "# ])"
   ]
  },
  {
   "cell_type": "code",
   "execution_count": 43,
   "metadata": {
    "colab": {},
    "colab_type": "code",
    "id": "eApvroIyn1K0"
   },
   "outputs": [],
   "source": [
    "# definethe batch F1 to measure performance... might not have big enough batch sizes for this....\n",
    "@tf.function\n",
    "def macro_soft_f1(y, y_hat):\n",
    "    \"\"\"Compute the macro soft F1-score as a cost (average 1 - soft-F1 across all labels).\n",
    "    Use probability values instead of binary predictions.\n",
    "    \n",
    "    Args:\n",
    "        y (int32 Tensor): targets array of shape (BATCH_SIZE, N_LABELS)\n",
    "        y_hat (float32 Tensor): probability matrix from forward propagation of shape (BATCH_SIZE, N_LABELS)\n",
    "        \n",
    "    Returns:\n",
    "        cost (scalar Tensor): value of the cost function for the batch\n",
    "    \"\"\"\n",
    "    y = tf.cast(y, tf.float32)\n",
    "    y_hat = tf.cast(y_hat, tf.float32)\n",
    "    tp = tf.reduce_sum(y_hat * y, axis=0)\n",
    "    fp = tf.reduce_sum(y_hat * (1 - y), axis=0)\n",
    "    fn = tf.reduce_sum((1 - y_hat) * y, axis=0)\n",
    "    soft_f1 = 2*tp / (2*tp + fn + fp + 1e-16)\n",
    "    cost = 1 - soft_f1 # reduce 1 - soft-f1 in order to increase soft-f1\n",
    "    macro_cost = tf.reduce_mean(cost) # average on all labels\n",
    "    return macro_cost\n",
    "\n",
    "@tf.function\n",
    "def macro_f1(y, y_hat, thresh=0.5):\n",
    "    \"\"\"Compute the macro F1-score on a batch of observations (average F1 across labels)\n",
    "    \n",
    "    Args:\n",
    "        y (int32 Tensor): labels array of shape (BATCH_SIZE, N_LABELS)\n",
    "        y_hat (float32 Tensor): probability matrix from forward propagation of shape (BATCH_SIZE, N_LABELS)\n",
    "        thresh: probability value above which we predict positive\n",
    "        model = tf.keras.Sequential([\n",
    "#   base_model,\n",
    "#   global_average_layer,\n",
    "#   prediction_layer\n",
    "# ])\n",
    "    Returns:\n",
    "        macro_f1 (scalar Tensor): value of macro F1 for the batch\n",
    "    \"\"\"\n",
    "    y_pred = tf.cast(tf.greater(y_hat, thresh), tf.float32)\n",
    "    tp = tf.cast(tf.math.count_nonzero(y_pred * y, axis=0), tf.float32)\n",
    "    fp = tf.cast(tf.math.count_nonzero(y_pred * (1 - y), axis=0), tf.float32)\n",
    "    fn = tf.cast(tf.math.count_nonzero((1 - y_pred) * y, axis=0), tf.float32)\n",
    "    f1 = 2*tp / (2*tp + fn + fp + 1e-16)\n",
    "    macro_f1 = tf.reduce_mean(f1)\n",
    "    return macro_f1"
   ]
  },
  {
   "cell_type": "code",
   "execution_count": null,
   "metadata": {},
   "outputs": [],
   "source": []
  },
  {
   "cell_type": "code",
   "execution_count": 41,
   "metadata": {},
   "outputs": [],
   "source": [
    "@tf.function\n",
    "def macro_soft_f1(y, y_hat):\n",
    "    \"\"\"Compute the macro soft F1-score as a cost (average 1 - soft-F1 across all labels).\n",
    "    Use probability values instead of binary predictions.\n",
    "    \n",
    "    Args:\n",
    "        y (int32 Tensor): targets array of shape (BATCH_SIZE, N_LABELS)\n",
    "        y_hat (float32 Tensor): probability matrix from forward propagation of shape (BATCH_SIZE, N_LABELS)\n",
    "        \n",
    "    Returns:\n",
    "        cost (scalar Tensor): value of the cost function for the batch\n",
    "    \"\"\"\n",
    "    y = tf.cast(y, tf.float32)\n",
    "    y_hat = tf.cast(y_hat, tf.float32)\n",
    "    tp = tf.reduce_sum(y_hat * y, axis=0)\n",
    "    fp = tf.reduce_sum(y_hat * (1 - y), axis=0)\n",
    "    fn = tf.reduce_sum((1 - y_hat) * y, axis=0)\n",
    "    soft_f1 = 2*tp / (2*tp + fn + fp + 1e-16)\n",
    "    cost = 1 - soft_f1 # reduce 1 - soft-f1 in order to increase soft-f1\n",
    "    macro_cost = tf.reduce_mean(cost) # average on all labels\n",
    "    return macro_cost"
   ]
  },
  {
   "cell_type": "markdown",
   "metadata": {
    "colab_type": "text",
    "id": "g0ylJXE_kRLi"
   },
   "source": [
    "### Compile the model\n",
    "\n",
    "You must compile the model before training it.  Since there are three classes, lets use KL divergence `kullback_leibler_divergence`... if we move on to variational autoencoders we'll definatley want this"
   ]
  },
  {
   "cell_type": "code",
   "execution_count": 40,
   "metadata": {
    "colab": {},
    "colab_type": "code",
    "id": "RpR8HdyMhukJ"
   },
   "outputs": [],
   "source": [
    "#base_learning_rate = 0.001\n",
    "#model.compile(optimizer=tf.keras.optimizers.RMSprop(lr=base_learning_rate),\n",
    "#              loss = tf.keras.losses.kullback_leibler_divergence,#loss=tf.keras.losses.BinaryCrossentropy(from_logits=True),\n",
    "#              metrics=['accuracy'])\n",
    "\n",
    "# model.compile(\n",
    "#   optimizer=tf.keras.optimizers.Adam(),\n",
    "#   loss='categorical_crossentropy',\n",
    "#   metrics=['acc'])\n"
   ]
  },
  {
   "cell_type": "code",
   "execution_count": 41,
   "metadata": {
    "colab": {},
    "colab_type": "code",
    "id": "RpR8HdyMhukJ"
   },
   "outputs": [
    {
     "ename": "NameError",
     "evalue": "name 'EPOCHS' is not defined",
     "output_type": "error",
     "traceback": [
      "\u001b[0;31m---------------------------------------------------------------------------\u001b[0m",
      "\u001b[0;31mNameError\u001b[0m                                 Traceback (most recent call last)",
      "\u001b[0;32m<ipython-input-41-cfdb7d1f8192>\u001b[0m in \u001b[0;36m<module>\u001b[0;34m()\u001b[0m\n\u001b[1;32m      1\u001b[0m \u001b[0;31m#start = time()\u001b[0m\u001b[0;34m\u001b[0m\u001b[0;34m\u001b[0m\u001b[0m\n\u001b[1;32m      2\u001b[0m history = model.fit(train_batches,\n\u001b[0;32m----> 3\u001b[0;31m                     epochs=EPOCHS)\n\u001b[0m\u001b[1;32m      4\u001b[0m \u001b[0;31m#print('\\nTraining took {}'.format(print_time(time()-start)))\u001b[0m\u001b[0;34m\u001b[0m\u001b[0;34m\u001b[0m\u001b[0m\n",
      "\u001b[0;31mNameError\u001b[0m: name 'EPOCHS' is not defined"
     ]
    }
   ],
   "source": [
    "#start = time()\n",
    "history = model.fit(train_batches,\n",
    "                    epochs=EPOCHS)\n",
    "#print('\\nTraining took {}'.format(print_time(time()-start)))"
   ]
  },
  {
   "cell_type": "code",
<<<<<<< HEAD
   "execution_count": 44,
=======
   "execution_count": 42,
>>>>>>> 0747259c61d51213a9fd47f267419effc2b9c4fa
   "metadata": {
    "colab": {},
    "colab_type": "code",
    "id": "RpR8HdyMhukJ"
   },
   "outputs": [],
   "source": [
    "LR = 1e-5 # Keep it small when transfer learning\n",
    "EPOCHS = 30\n",
    "\n",
    "model.compile(\n",
    "    optimizer=tf.keras.optimizers.Adam(learning_rate=LR),\n",
    "    loss=tf.keras.metrics.binary_crossentropy,\n",
    "    metrics=[macro_f1, keras.metrics.mae, keras.metrics.categorical_accuracy,macro_soft_f1]\n",
    "    #loss=macro_soft_f1,\n",
    ")"
   ]
  },
  {
   "cell_type": "code",
<<<<<<< HEAD
   "execution_count": 46,
=======
   "execution_count": 48,
>>>>>>> 0747259c61d51213a9fd47f267419effc2b9c4fa
   "metadata": {
    "colab": {},
    "colab_type": "code",
    "id": "RpR8HdyMhukJ"
   },
   "outputs": [
    {
     "name": "stdout",
     "output_type": "stream",
     "text": [
      "Epoch 1/30\n",
      "211/211 [==============================] - 44s 207ms/step - loss: 0.4702 - macro_f1: 0.5592 - mean_absolute_error: 0.3427 - categorical_accuracy: 0.7193 - macro_soft_f1: 0.5130 - val_loss: 0.0000e+00 - val_macro_f1: 0.0000e+00 - val_mean_absolute_error: 0.0000e+00 - val_categorical_accuracy: 0.0000e+00 - val_macro_soft_f1: 0.0000e+00\n",
      "Epoch 2/30\n",
      "211/211 [==============================] - 36s 172ms/step - loss: 0.2892 - macro_f1: 0.8340 - mean_absolute_error: 0.2161 - categorical_accuracy: 0.8671 - macro_soft_f1: 0.3277 - val_loss: 1.2149 - val_macro_f1: 0.1532 - val_mean_absolute_error: 0.4711 - val_categorical_accuracy: 0.2997 - val_macro_soft_f1: 0.7346\n",
      "Epoch 3/30\n",
      "211/211 [==============================] - 36s 173ms/step - loss: 0.2332 - macro_f1: 0.8666 - mean_absolute_error: 0.1684 - categorical_accuracy: 0.8845 - macro_soft_f1: 0.2558 - val_loss: 1.3992 - val_macro_f1: 0.1534 - val_mean_absolute_error: 0.4724 - val_categorical_accuracy: 0.2997 - val_macro_soft_f1: 0.7465\n",
      "Epoch 4/30\n",
      "211/211 [==============================] - 37s 174ms/step - loss: 0.2077 - macro_f1: 0.8795 - mean_absolute_error: 0.1454 - categorical_accuracy: 0.8932 - macro_soft_f1: 0.2210 - val_loss: 1.5117 - val_macro_f1: 0.1542 - val_mean_absolute_error: 0.4732 - val_categorical_accuracy: 0.2997 - val_macro_soft_f1: 0.7496\n",
      "Epoch 5/30\n",
      "211/211 [==============================] - 37s 175ms/step - loss: 0.1930 - macro_f1: 0.8871 - mean_absolute_error: 0.1321 - categorical_accuracy: 0.8990 - macro_soft_f1: 0.2009 - val_loss: 1.6092 - val_macro_f1: 0.1535 - val_mean_absolute_error: 0.4739 - val_categorical_accuracy: 0.2997 - val_macro_soft_f1: 0.7510\n",
      "Epoch 6/30\n",
      "211/211 [==============================] - 37s 176ms/step - loss: 0.1832 - macro_f1: 0.8918 - mean_absolute_error: 0.1233 - categorical_accuracy: 0.9018 - macro_soft_f1: 0.1877 - val_loss: 1.6853 - val_macro_f1: 0.1526 - val_mean_absolute_error: 0.4746 - val_categorical_accuracy: 0.2997 - val_macro_soft_f1: 0.7511\n",
      "Epoch 7/30\n",
      "211/211 [==============================] - 37s 176ms/step - loss: 0.1761 - macro_f1: 0.8951 - mean_absolute_error: 0.1171 - categorical_accuracy: 0.9056 - macro_soft_f1: 0.1783 - val_loss: 1.7306 - val_macro_f1: 0.1523 - val_mean_absolute_error: 0.4751 - val_categorical_accuracy: 0.2997 - val_macro_soft_f1: 0.7505\n",
      "Epoch 8/30\n",
      "211/211 [==============================] - 37s 176ms/step - loss: 0.1705 - macro_f1: 0.8984 - mean_absolute_error: 0.1124 - categorical_accuracy: 0.9072 - macro_soft_f1: 0.1713 - val_loss: 1.7803 - val_macro_f1: 0.1545 - val_mean_absolute_error: 0.4754 - val_categorical_accuracy: 0.2997 - val_macro_soft_f1: 0.7487\n",
      "Epoch 9/30\n",
      "211/211 [==============================] - 37s 176ms/step - loss: 0.1661 - macro_f1: 0.9014 - mean_absolute_error: 0.1087 - categorical_accuracy: 0.9099 - macro_soft_f1: 0.1657 - val_loss: 1.8143 - val_macro_f1: 0.1542 - val_mean_absolute_error: 0.4757 - val_categorical_accuracy: 0.2997 - val_macro_soft_f1: 0.7481\n",
      "Epoch 10/30\n",
      "211/211 [==============================] - 37s 176ms/step - loss: 0.1623 - macro_f1: 0.9035 - mean_absolute_error: 0.1057 - categorical_accuracy: 0.9122 - macro_soft_f1: 0.1612 - val_loss: 1.8577 - val_macro_f1: 0.1519 - val_mean_absolute_error: 0.4760 - val_categorical_accuracy: 0.2997 - val_macro_soft_f1: 0.7494\n",
      "Epoch 11/30\n",
      "211/211 [==============================] - 37s 176ms/step - loss: 0.1591 - macro_f1: 0.9055 - mean_absolute_error: 0.1032 - categorical_accuracy: 0.9135 - macro_soft_f1: 0.1574 - val_loss: 1.8841 - val_macro_f1: 0.1540 - val_mean_absolute_error: 0.4762 - val_categorical_accuracy: 0.2997 - val_macro_soft_f1: 0.7474\n",
      "Epoch 12/30\n",
      "211/211 [==============================] - 37s 176ms/step - loss: 0.1563 - macro_f1: 0.9072 - mean_absolute_error: 0.1010 - categorical_accuracy: 0.9152 - macro_soft_f1: 0.1541 - val_loss: 1.9110 - val_macro_f1: 0.1527 - val_mean_absolute_error: 0.4764 - val_categorical_accuracy: 0.2997 - val_macro_soft_f1: 0.7484\n",
      "Epoch 13/30\n",
      "211/211 [==============================] - 37s 176ms/step - loss: 0.1538 - macro_f1: 0.9088 - mean_absolute_error: 0.0991 - categorical_accuracy: 0.9165 - macro_soft_f1: 0.1513 - val_loss: 1.9403 - val_macro_f1: 0.1521 - val_mean_absolute_error: 0.4765 - val_categorical_accuracy: 0.2997 - val_macro_soft_f1: 0.7489\n",
      "Epoch 14/30\n",
      "211/211 [==============================] - 37s 176ms/step - loss: 0.1515 - macro_f1: 0.9102 - mean_absolute_error: 0.0975 - categorical_accuracy: 0.9177 - macro_soft_f1: 0.1489 - val_loss: 1.9582 - val_macro_f1: 0.1521 - val_mean_absolute_error: 0.4765 - val_categorical_accuracy: 0.2997 - val_macro_soft_f1: 0.7490\n",
      "Epoch 15/30\n",
      "211/211 [==============================] - 37s 176ms/step - loss: 0.1495 - macro_f1: 0.9118 - mean_absolute_error: 0.0960 - categorical_accuracy: 0.9187 - macro_soft_f1: 0.1466 - val_loss: 1.9719 - val_macro_f1: 0.1538 - val_mean_absolute_error: 0.4765 - val_categorical_accuracy: 0.2997 - val_macro_soft_f1: 0.7482\n",
      "Epoch 16/30\n",
      "211/211 [==============================] - 37s 175ms/step - loss: 0.1476 - macro_f1: 0.9126 - mean_absolute_error: 0.0946 - categorical_accuracy: 0.9202 - macro_soft_f1: 0.1446 - val_loss: 1.9854 - val_macro_f1: 0.1532 - val_mean_absolute_error: 0.4765 - val_categorical_accuracy: 0.2997 - val_macro_soft_f1: 0.7489\n",
      "Epoch 17/30\n",
      "211/211 [==============================] - 37s 176ms/step - loss: 0.1458 - macro_f1: 0.9138 - mean_absolute_error: 0.0934 - categorical_accuracy: 0.9211 - macro_soft_f1: 0.1428 - val_loss: 2.0011 - val_macro_f1: 0.1538 - val_mean_absolute_error: 0.4765 - val_categorical_accuracy: 0.2997 - val_macro_soft_f1: 0.7488\n",
      "Epoch 18/30\n",
      "211/211 [==============================] - 37s 176ms/step - loss: 0.1441 - macro_f1: 0.9145 - mean_absolute_error: 0.0923 - categorical_accuracy: 0.9219 - macro_soft_f1: 0.1411 - val_loss: 2.0056 - val_macro_f1: 0.1540 - val_mean_absolute_error: 0.4765 - val_categorical_accuracy: 0.2997 - val_macro_soft_f1: 0.7491\n",
      "Epoch 19/30\n",
      "211/211 [==============================] - 37s 175ms/step - loss: 0.1425 - macro_f1: 0.9156 - mean_absolute_error: 0.0912 - categorical_accuracy: 0.9227 - macro_soft_f1: 0.1395 - val_loss: 2.0277 - val_macro_f1: 0.1531 - val_mean_absolute_error: 0.4764 - val_categorical_accuracy: 0.2997 - val_macro_soft_f1: 0.7506\n",
      "Epoch 20/30\n",
      "211/211 [==============================] - 37s 176ms/step - loss: 0.1410 - macro_f1: 0.9164 - mean_absolute_error: 0.0902 - categorical_accuracy: 0.9233 - macro_soft_f1: 0.1380 - val_loss: 2.0263 - val_macro_f1: 0.1533 - val_mean_absolute_error: 0.4763 - val_categorical_accuracy: 0.2997 - val_macro_soft_f1: 0.7512\n",
      "Epoch 21/30\n",
      "211/211 [==============================] - 37s 176ms/step - loss: 0.1396 - macro_f1: 0.9171 - mean_absolute_error: 0.0893 - categorical_accuracy: 0.9243 - macro_soft_f1: 0.1366 - val_loss: 2.0400 - val_macro_f1: 0.1529 - val_mean_absolute_error: 0.4762 - val_categorical_accuracy: 0.2997 - val_macro_soft_f1: 0.7521\n",
      "Epoch 22/30\n",
      "211/211 [==============================] - 37s 176ms/step - loss: 0.1382 - macro_f1: 0.9182 - mean_absolute_error: 0.0884 - categorical_accuracy: 0.9251 - macro_soft_f1: 0.1353 - val_loss: 2.0581 - val_macro_f1: 0.1516 - val_mean_absolute_error: 0.4762 - val_categorical_accuracy: 0.2997 - val_macro_soft_f1: 0.7541\n",
      "Epoch 23/30\n",
      "211/211 [==============================] - 37s 175ms/step - loss: 0.1369 - macro_f1: 0.9189 - mean_absolute_error: 0.0876 - categorical_accuracy: 0.9264 - macro_soft_f1: 0.1341 - val_loss: 2.0617 - val_macro_f1: 0.1517 - val_mean_absolute_error: 0.4761 - val_categorical_accuracy: 0.2997 - val_macro_soft_f1: 0.7545\n",
      "Epoch 24/30\n",
      "211/211 [==============================] - 37s 175ms/step - loss: 0.1356 - macro_f1: 0.9196 - mean_absolute_error: 0.0868 - categorical_accuracy: 0.9269 - macro_soft_f1: 0.1329 - val_loss: 2.0557 - val_macro_f1: 0.1531 - val_mean_absolute_error: 0.4760 - val_categorical_accuracy: 0.2997 - val_macro_soft_f1: 0.7536\n",
      "Epoch 25/30\n",
      "211/211 [==============================] - 37s 175ms/step - loss: 0.1344 - macro_f1: 0.9204 - mean_absolute_error: 0.0860 - categorical_accuracy: 0.9276 - macro_soft_f1: 0.1317 - val_loss: 2.0640 - val_macro_f1: 0.1540 - val_mean_absolute_error: 0.4760 - val_categorical_accuracy: 0.2997 - val_macro_soft_f1: 0.7537\n",
      "Epoch 26/30\n",
      "211/211 [==============================] - 37s 176ms/step - loss: 0.1332 - macro_f1: 0.9212 - mean_absolute_error: 0.0853 - categorical_accuracy: 0.9286 - macro_soft_f1: 0.1307 - val_loss: 2.0760 - val_macro_f1: 0.1527 - val_mean_absolute_error: 0.4759 - val_categorical_accuracy: 0.2997 - val_macro_soft_f1: 0.7552\n",
      "Epoch 27/30\n",
      "211/211 [==============================] - 37s 176ms/step - loss: 0.1320 - macro_f1: 0.9222 - mean_absolute_error: 0.0846 - categorical_accuracy: 0.9293 - macro_soft_f1: 0.1296 - val_loss: 2.0793 - val_macro_f1: 0.1527 - val_mean_absolute_error: 0.4759 - val_categorical_accuracy: 0.2997 - val_macro_soft_f1: 0.7557\n",
      "Epoch 28/30\n",
      "211/211 [==============================] - 37s 176ms/step - loss: 0.1309 - macro_f1: 0.9229 - mean_absolute_error: 0.0839 - categorical_accuracy: 0.9300 - macro_soft_f1: 0.1286 - val_loss: 2.0693 - val_macro_f1: 0.1535 - val_mean_absolute_error: 0.4758 - val_categorical_accuracy: 0.2997 - val_macro_soft_f1: 0.7551\n",
      "Epoch 29/30\n",
      "211/211 [==============================] - 37s 176ms/step - loss: 0.1298 - macro_f1: 0.9237 - mean_absolute_error: 0.0832 - categorical_accuracy: 0.9303 - macro_soft_f1: 0.1276 - val_loss: 2.0744 - val_macro_f1: 0.1543 - val_mean_absolute_error: 0.4757 - val_categorical_accuracy: 0.2997 - val_macro_soft_f1: 0.7552\n",
      "Epoch 30/30\n",
      "211/211 [==============================] - 37s 176ms/step - loss: 0.1288 - macro_f1: 0.9244 - mean_absolute_error: 0.0826 - categorical_accuracy: 0.9311 - macro_soft_f1: 0.1266 - val_loss: 2.0785 - val_macro_f1: 0.1540 - val_mean_absolute_error: 0.4757 - val_categorical_accuracy: 0.2997 - val_macro_soft_f1: 0.7558\n"
     ]
    },
    {
     "ename": "NameError",
     "evalue": "name 'print_time' is not defined",
     "output_type": "error",
     "traceback": [
      "\u001b[0;31m---------------------------------------------------------------------------\u001b[0m",
      "\u001b[0;31mNameError\u001b[0m                                 Traceback (most recent call last)",
      "\u001b[0;32m<ipython-input-46-2e947e10ec66>\u001b[0m in \u001b[0;36m<module>\u001b[0;34m()\u001b[0m\n\u001b[1;32m      4\u001b[0m                     \u001b[0mepochs\u001b[0m\u001b[0;34m=\u001b[0m\u001b[0mEPOCHS\u001b[0m\u001b[0;34m,\u001b[0m\u001b[0;34m\u001b[0m\u001b[0m\n\u001b[1;32m      5\u001b[0m                     validation_data=validation_batches)\n\u001b[0;32m----> 6\u001b[0;31m \u001b[0mprint\u001b[0m\u001b[0;34m(\u001b[0m\u001b[0;34m'\\nTraining took {}'\u001b[0m\u001b[0;34m.\u001b[0m\u001b[0mformat\u001b[0m\u001b[0;34m(\u001b[0m\u001b[0mprint_time\u001b[0m\u001b[0;34m(\u001b[0m\u001b[0mtime\u001b[0m\u001b[0;34m(\u001b[0m\u001b[0;34m)\u001b[0m\u001b[0;34m-\u001b[0m\u001b[0mstart\u001b[0m\u001b[0;34m)\u001b[0m\u001b[0;34m)\u001b[0m\u001b[0;34m)\u001b[0m\u001b[0;34m\u001b[0m\u001b[0m\n\u001b[0m",
      "\u001b[0;31mNameError\u001b[0m: name 'print_time' is not defined"
     ]
    }
   ],
   "source": [
    "from time import time\n",
<<<<<<< HEAD
=======
    "\n"
   ]
  },
  {
   "cell_type": "code",
   "execution_count": 49,
   "metadata": {
    "colab": {},
    "colab_type": "code",
    "id": "RpR8HdyMhukJ"
   },
   "outputs": [
    {
     "name": "stdout",
     "output_type": "stream",
     "text": [
      "Epoch 1/30\n",
      "211/211 [==============================] - 707s 3s/step - loss: 0.4457 - macro_f1: 0.5926 - mean_absolute_error: 0.3271 - categorical_accuracy: 0.7509 - macro_soft_f1: 0.4964 - val_loss: 0.0000e+00 - val_macro_f1: 0.0000e+00 - val_mean_absolute_error: 0.0000e+00 - val_categorical_accuracy: 0.0000e+00 - val_macro_soft_f1: 0.0000e+00\n",
      "Epoch 2/30\n",
      "211/211 [==============================] - 673s 3s/step - loss: 0.2780 - macro_f1: 0.8429 - mean_absolute_error: 0.2078 - categorical_accuracy: 0.8734 - macro_soft_f1: 0.3150 - val_loss: 1.0344 - val_macro_f1: 0.1532 - val_mean_absolute_error: 0.4721 - val_categorical_accuracy: 0.2997 - val_macro_soft_f1: 0.7168\n",
      "Epoch 3/30\n",
      "211/211 [==============================] - 669s 3s/step - loss: 0.2260 - macro_f1: 0.8706 - mean_absolute_error: 0.1628 - categorical_accuracy: 0.8872 - macro_soft_f1: 0.2472 - val_loss: 1.2022 - val_macro_f1: 0.1534 - val_mean_absolute_error: 0.4705 - val_categorical_accuracy: 0.2997 - val_macro_soft_f1: 0.7432\n",
      "Epoch 4/30\n",
      "211/211 [==============================] - 657s 3s/step - loss: 0.2026 - macro_f1: 0.8818 - mean_absolute_error: 0.1414 - categorical_accuracy: 0.8947 - macro_soft_f1: 0.2149 - val_loss: 1.3148 - val_macro_f1: 0.1542 - val_mean_absolute_error: 0.4698 - val_categorical_accuracy: 0.2997 - val_macro_soft_f1: 0.7560\n",
      "Epoch 5/30\n",
      "211/211 [==============================] - 672s 3s/step - loss: 0.1893 - macro_f1: 0.8890 - mean_absolute_error: 0.1290 - categorical_accuracy: 0.8993 - macro_soft_f1: 0.1963 - val_loss: 1.4086 - val_macro_f1: 0.1535 - val_mean_absolute_error: 0.4697 - val_categorical_accuracy: 0.2997 - val_macro_soft_f1: 0.7637\n",
      "Epoch 6/30\n",
      "211/211 [==============================] - 651s 3s/step - loss: 0.1804 - macro_f1: 0.8932 - mean_absolute_error: 0.1210 - categorical_accuracy: 0.9036 - macro_soft_f1: 0.1842 - val_loss: 1.4810 - val_macro_f1: 0.1526 - val_mean_absolute_error: 0.4697 - val_categorical_accuracy: 0.2997 - val_macro_soft_f1: 0.7683\n",
      "Epoch 7/30\n",
      " 28/211 [==>...........................] - ETA: 8:39 - loss: 0.1750 - macro_f1: 0.8979 - mean_absolute_error: 0.1167 - categorical_accuracy: 0.9103 - macro_soft_f1: 0.1772"
     ]
    },
    {
     "ename": "KeyboardInterrupt",
     "evalue": "",
     "output_type": "error",
     "traceback": [
      "\u001b[0;31m---------------------------------------------------------------------------\u001b[0m",
      "\u001b[0;31mKeyboardInterrupt\u001b[0m                         Traceback (most recent call last)",
      "\u001b[0;32m<ipython-input-49-ac99881bd137>\u001b[0m in \u001b[0;36m<module>\u001b[0;34m\u001b[0m\n\u001b[1;32m      2\u001b[0m history = model.fit(train_batches,\n\u001b[1;32m      3\u001b[0m                     \u001b[0mepochs\u001b[0m\u001b[0;34m=\u001b[0m\u001b[0mEPOCHS\u001b[0m\u001b[0;34m,\u001b[0m\u001b[0;34m\u001b[0m\u001b[0;34m\u001b[0m\u001b[0m\n\u001b[0;32m----> 4\u001b[0;31m                     validation_data=validation_batches)\n\u001b[0m\u001b[1;32m      5\u001b[0m \u001b[0mprint\u001b[0m\u001b[0;34m(\u001b[0m\u001b[0;34m'\\nTraining took {}'\u001b[0m\u001b[0;34m.\u001b[0m\u001b[0mformat\u001b[0m\u001b[0;34m(\u001b[0m\u001b[0mprint_time\u001b[0m\u001b[0;34m(\u001b[0m\u001b[0mtime\u001b[0m\u001b[0;34m(\u001b[0m\u001b[0;34m)\u001b[0m\u001b[0;34m-\u001b[0m\u001b[0mstart\u001b[0m\u001b[0;34m)\u001b[0m\u001b[0;34m)\u001b[0m\u001b[0;34m)\u001b[0m\u001b[0;34m\u001b[0m\u001b[0;34m\u001b[0m\u001b[0m\n",
      "\u001b[0;32m~/anaconda3/envs/tf2/lib/python3.7/site-packages/tensorflow_core/python/keras/engine/training.py\u001b[0m in \u001b[0;36mfit\u001b[0;34m(self, x, y, batch_size, epochs, verbose, callbacks, validation_split, validation_data, shuffle, class_weight, sample_weight, initial_epoch, steps_per_epoch, validation_steps, validation_freq, max_queue_size, workers, use_multiprocessing, **kwargs)\u001b[0m\n\u001b[1;32m    726\u001b[0m         \u001b[0mmax_queue_size\u001b[0m\u001b[0;34m=\u001b[0m\u001b[0mmax_queue_size\u001b[0m\u001b[0;34m,\u001b[0m\u001b[0;34m\u001b[0m\u001b[0;34m\u001b[0m\u001b[0m\n\u001b[1;32m    727\u001b[0m         \u001b[0mworkers\u001b[0m\u001b[0;34m=\u001b[0m\u001b[0mworkers\u001b[0m\u001b[0;34m,\u001b[0m\u001b[0;34m\u001b[0m\u001b[0;34m\u001b[0m\u001b[0m\n\u001b[0;32m--> 728\u001b[0;31m         use_multiprocessing=use_multiprocessing)\n\u001b[0m\u001b[1;32m    729\u001b[0m \u001b[0;34m\u001b[0m\u001b[0m\n\u001b[1;32m    730\u001b[0m   def evaluate(self,\n",
      "\u001b[0;32m~/anaconda3/envs/tf2/lib/python3.7/site-packages/tensorflow_core/python/keras/engine/training_v2.py\u001b[0m in \u001b[0;36mfit\u001b[0;34m(self, model, x, y, batch_size, epochs, verbose, callbacks, validation_split, validation_data, shuffle, class_weight, sample_weight, initial_epoch, steps_per_epoch, validation_steps, validation_freq, **kwargs)\u001b[0m\n\u001b[1;32m    322\u001b[0m                 \u001b[0mmode\u001b[0m\u001b[0;34m=\u001b[0m\u001b[0mModeKeys\u001b[0m\u001b[0;34m.\u001b[0m\u001b[0mTRAIN\u001b[0m\u001b[0;34m,\u001b[0m\u001b[0;34m\u001b[0m\u001b[0;34m\u001b[0m\u001b[0m\n\u001b[1;32m    323\u001b[0m                 \u001b[0mtraining_context\u001b[0m\u001b[0;34m=\u001b[0m\u001b[0mtraining_context\u001b[0m\u001b[0;34m,\u001b[0m\u001b[0;34m\u001b[0m\u001b[0;34m\u001b[0m\u001b[0m\n\u001b[0;32m--> 324\u001b[0;31m                 total_epochs=epochs)\n\u001b[0m\u001b[1;32m    325\u001b[0m             \u001b[0mcbks\u001b[0m\u001b[0;34m.\u001b[0m\u001b[0mmake_logs\u001b[0m\u001b[0;34m(\u001b[0m\u001b[0mmodel\u001b[0m\u001b[0;34m,\u001b[0m \u001b[0mepoch_logs\u001b[0m\u001b[0;34m,\u001b[0m \u001b[0mtraining_result\u001b[0m\u001b[0;34m,\u001b[0m \u001b[0mModeKeys\u001b[0m\u001b[0;34m.\u001b[0m\u001b[0mTRAIN\u001b[0m\u001b[0;34m)\u001b[0m\u001b[0;34m\u001b[0m\u001b[0;34m\u001b[0m\u001b[0m\n\u001b[1;32m    326\u001b[0m \u001b[0;34m\u001b[0m\u001b[0m\n",
      "\u001b[0;32m~/anaconda3/envs/tf2/lib/python3.7/site-packages/tensorflow_core/python/keras/engine/training_v2.py\u001b[0m in \u001b[0;36mrun_one_epoch\u001b[0;34m(model, iterator, execution_function, dataset_size, batch_size, strategy, steps_per_epoch, num_samples, mode, training_context, total_epochs)\u001b[0m\n\u001b[1;32m    121\u001b[0m         step=step, mode=mode, size=current_batch_size) as batch_logs:\n\u001b[1;32m    122\u001b[0m       \u001b[0;32mtry\u001b[0m\u001b[0;34m:\u001b[0m\u001b[0;34m\u001b[0m\u001b[0;34m\u001b[0m\u001b[0m\n\u001b[0;32m--> 123\u001b[0;31m         \u001b[0mbatch_outs\u001b[0m \u001b[0;34m=\u001b[0m \u001b[0mexecution_function\u001b[0m\u001b[0;34m(\u001b[0m\u001b[0miterator\u001b[0m\u001b[0;34m)\u001b[0m\u001b[0;34m\u001b[0m\u001b[0;34m\u001b[0m\u001b[0m\n\u001b[0m\u001b[1;32m    124\u001b[0m       \u001b[0;32mexcept\u001b[0m \u001b[0;34m(\u001b[0m\u001b[0mStopIteration\u001b[0m\u001b[0;34m,\u001b[0m \u001b[0merrors\u001b[0m\u001b[0;34m.\u001b[0m\u001b[0mOutOfRangeError\u001b[0m\u001b[0;34m)\u001b[0m\u001b[0;34m:\u001b[0m\u001b[0;34m\u001b[0m\u001b[0;34m\u001b[0m\u001b[0m\n\u001b[1;32m    125\u001b[0m         \u001b[0;31m# TODO(kaftan): File bug about tf function and errors.OutOfRangeError?\u001b[0m\u001b[0;34m\u001b[0m\u001b[0;34m\u001b[0m\u001b[0;34m\u001b[0m\u001b[0m\n",
      "\u001b[0;32m~/anaconda3/envs/tf2/lib/python3.7/site-packages/tensorflow_core/python/keras/engine/training_v2_utils.py\u001b[0m in \u001b[0;36mexecution_function\u001b[0;34m(input_fn)\u001b[0m\n\u001b[1;32m     84\u001b[0m     \u001b[0;31m# `numpy` translates Tensors to values in Eager mode.\u001b[0m\u001b[0;34m\u001b[0m\u001b[0;34m\u001b[0m\u001b[0;34m\u001b[0m\u001b[0m\n\u001b[1;32m     85\u001b[0m     return nest.map_structure(_non_none_constant_value,\n\u001b[0;32m---> 86\u001b[0;31m                               distributed_function(input_fn))\n\u001b[0m\u001b[1;32m     87\u001b[0m \u001b[0;34m\u001b[0m\u001b[0m\n\u001b[1;32m     88\u001b[0m   \u001b[0;32mreturn\u001b[0m \u001b[0mexecution_function\u001b[0m\u001b[0;34m\u001b[0m\u001b[0;34m\u001b[0m\u001b[0m\n",
      "\u001b[0;32m~/anaconda3/envs/tf2/lib/python3.7/site-packages/tensorflow_core/python/eager/def_function.py\u001b[0m in \u001b[0;36m__call__\u001b[0;34m(self, *args, **kwds)\u001b[0m\n\u001b[1;32m    455\u001b[0m \u001b[0;34m\u001b[0m\u001b[0m\n\u001b[1;32m    456\u001b[0m     \u001b[0mtracing_count\u001b[0m \u001b[0;34m=\u001b[0m \u001b[0mself\u001b[0m\u001b[0;34m.\u001b[0m\u001b[0m_get_tracing_count\u001b[0m\u001b[0;34m(\u001b[0m\u001b[0;34m)\u001b[0m\u001b[0;34m\u001b[0m\u001b[0;34m\u001b[0m\u001b[0m\n\u001b[0;32m--> 457\u001b[0;31m     \u001b[0mresult\u001b[0m \u001b[0;34m=\u001b[0m \u001b[0mself\u001b[0m\u001b[0;34m.\u001b[0m\u001b[0m_call\u001b[0m\u001b[0;34m(\u001b[0m\u001b[0;34m*\u001b[0m\u001b[0margs\u001b[0m\u001b[0;34m,\u001b[0m \u001b[0;34m**\u001b[0m\u001b[0mkwds\u001b[0m\u001b[0;34m)\u001b[0m\u001b[0;34m\u001b[0m\u001b[0;34m\u001b[0m\u001b[0m\n\u001b[0m\u001b[1;32m    458\u001b[0m     \u001b[0;32mif\u001b[0m \u001b[0mtracing_count\u001b[0m \u001b[0;34m==\u001b[0m \u001b[0mself\u001b[0m\u001b[0;34m.\u001b[0m\u001b[0m_get_tracing_count\u001b[0m\u001b[0;34m(\u001b[0m\u001b[0;34m)\u001b[0m\u001b[0;34m:\u001b[0m\u001b[0;34m\u001b[0m\u001b[0;34m\u001b[0m\u001b[0m\n\u001b[1;32m    459\u001b[0m       \u001b[0mself\u001b[0m\u001b[0;34m.\u001b[0m\u001b[0m_call_counter\u001b[0m\u001b[0;34m.\u001b[0m\u001b[0mcalled_without_tracing\u001b[0m\u001b[0;34m(\u001b[0m\u001b[0;34m)\u001b[0m\u001b[0;34m\u001b[0m\u001b[0;34m\u001b[0m\u001b[0m\n",
      "\u001b[0;32m~/anaconda3/envs/tf2/lib/python3.7/site-packages/tensorflow_core/python/eager/def_function.py\u001b[0m in \u001b[0;36m_call\u001b[0;34m(self, *args, **kwds)\u001b[0m\n\u001b[1;32m    485\u001b[0m       \u001b[0;31m# In this case we have created variables on the first call, so we run the\u001b[0m\u001b[0;34m\u001b[0m\u001b[0;34m\u001b[0m\u001b[0;34m\u001b[0m\u001b[0m\n\u001b[1;32m    486\u001b[0m       \u001b[0;31m# defunned version which is guaranteed to never create variables.\u001b[0m\u001b[0;34m\u001b[0m\u001b[0;34m\u001b[0m\u001b[0;34m\u001b[0m\u001b[0m\n\u001b[0;32m--> 487\u001b[0;31m       \u001b[0;32mreturn\u001b[0m \u001b[0mself\u001b[0m\u001b[0;34m.\u001b[0m\u001b[0m_stateless_fn\u001b[0m\u001b[0;34m(\u001b[0m\u001b[0;34m*\u001b[0m\u001b[0margs\u001b[0m\u001b[0;34m,\u001b[0m \u001b[0;34m**\u001b[0m\u001b[0mkwds\u001b[0m\u001b[0;34m)\u001b[0m  \u001b[0;31m# pylint: disable=not-callable\u001b[0m\u001b[0;34m\u001b[0m\u001b[0;34m\u001b[0m\u001b[0m\n\u001b[0m\u001b[1;32m    488\u001b[0m     \u001b[0;32melif\u001b[0m \u001b[0mself\u001b[0m\u001b[0;34m.\u001b[0m\u001b[0m_stateful_fn\u001b[0m \u001b[0;32mis\u001b[0m \u001b[0;32mnot\u001b[0m \u001b[0;32mNone\u001b[0m\u001b[0;34m:\u001b[0m\u001b[0;34m\u001b[0m\u001b[0;34m\u001b[0m\u001b[0m\n\u001b[1;32m    489\u001b[0m       \u001b[0;31m# Release the lock early so that multiple threads can perform the call\u001b[0m\u001b[0;34m\u001b[0m\u001b[0;34m\u001b[0m\u001b[0;34m\u001b[0m\u001b[0m\n",
      "\u001b[0;32m~/anaconda3/envs/tf2/lib/python3.7/site-packages/tensorflow_core/python/eager/function.py\u001b[0m in \u001b[0;36m__call__\u001b[0;34m(self, *args, **kwargs)\u001b[0m\n\u001b[1;32m   1821\u001b[0m     \u001b[0;34m\"\"\"Calls a graph function specialized to the inputs.\"\"\"\u001b[0m\u001b[0;34m\u001b[0m\u001b[0;34m\u001b[0m\u001b[0m\n\u001b[1;32m   1822\u001b[0m     \u001b[0mgraph_function\u001b[0m\u001b[0;34m,\u001b[0m \u001b[0margs\u001b[0m\u001b[0;34m,\u001b[0m \u001b[0mkwargs\u001b[0m \u001b[0;34m=\u001b[0m \u001b[0mself\u001b[0m\u001b[0;34m.\u001b[0m\u001b[0m_maybe_define_function\u001b[0m\u001b[0;34m(\u001b[0m\u001b[0margs\u001b[0m\u001b[0;34m,\u001b[0m \u001b[0mkwargs\u001b[0m\u001b[0;34m)\u001b[0m\u001b[0;34m\u001b[0m\u001b[0;34m\u001b[0m\u001b[0m\n\u001b[0;32m-> 1823\u001b[0;31m     \u001b[0;32mreturn\u001b[0m \u001b[0mgraph_function\u001b[0m\u001b[0;34m.\u001b[0m\u001b[0m_filtered_call\u001b[0m\u001b[0;34m(\u001b[0m\u001b[0margs\u001b[0m\u001b[0;34m,\u001b[0m \u001b[0mkwargs\u001b[0m\u001b[0;34m)\u001b[0m  \u001b[0;31m# pylint: disable=protected-access\u001b[0m\u001b[0;34m\u001b[0m\u001b[0;34m\u001b[0m\u001b[0m\n\u001b[0m\u001b[1;32m   1824\u001b[0m \u001b[0;34m\u001b[0m\u001b[0m\n\u001b[1;32m   1825\u001b[0m   \u001b[0;34m@\u001b[0m\u001b[0mproperty\u001b[0m\u001b[0;34m\u001b[0m\u001b[0;34m\u001b[0m\u001b[0m\n",
      "\u001b[0;32m~/anaconda3/envs/tf2/lib/python3.7/site-packages/tensorflow_core/python/eager/function.py\u001b[0m in \u001b[0;36m_filtered_call\u001b[0;34m(self, args, kwargs)\u001b[0m\n\u001b[1;32m   1139\u001b[0m          if isinstance(t, (ops.Tensor,\n\u001b[1;32m   1140\u001b[0m                            resource_variable_ops.BaseResourceVariable))),\n\u001b[0;32m-> 1141\u001b[0;31m         self.captured_inputs)\n\u001b[0m\u001b[1;32m   1142\u001b[0m \u001b[0;34m\u001b[0m\u001b[0m\n\u001b[1;32m   1143\u001b[0m   \u001b[0;32mdef\u001b[0m \u001b[0m_call_flat\u001b[0m\u001b[0;34m(\u001b[0m\u001b[0mself\u001b[0m\u001b[0;34m,\u001b[0m \u001b[0margs\u001b[0m\u001b[0;34m,\u001b[0m \u001b[0mcaptured_inputs\u001b[0m\u001b[0;34m,\u001b[0m \u001b[0mcancellation_manager\u001b[0m\u001b[0;34m=\u001b[0m\u001b[0;32mNone\u001b[0m\u001b[0;34m)\u001b[0m\u001b[0;34m:\u001b[0m\u001b[0;34m\u001b[0m\u001b[0;34m\u001b[0m\u001b[0m\n",
      "\u001b[0;32m~/anaconda3/envs/tf2/lib/python3.7/site-packages/tensorflow_core/python/eager/function.py\u001b[0m in \u001b[0;36m_call_flat\u001b[0;34m(self, args, captured_inputs, cancellation_manager)\u001b[0m\n\u001b[1;32m   1222\u001b[0m     \u001b[0;32mif\u001b[0m \u001b[0mexecuting_eagerly\u001b[0m\u001b[0;34m:\u001b[0m\u001b[0;34m\u001b[0m\u001b[0;34m\u001b[0m\u001b[0m\n\u001b[1;32m   1223\u001b[0m       flat_outputs = forward_function.call(\n\u001b[0;32m-> 1224\u001b[0;31m           ctx, args, cancellation_manager=cancellation_manager)\n\u001b[0m\u001b[1;32m   1225\u001b[0m     \u001b[0;32melse\u001b[0m\u001b[0;34m:\u001b[0m\u001b[0;34m\u001b[0m\u001b[0;34m\u001b[0m\u001b[0m\n\u001b[1;32m   1226\u001b[0m       \u001b[0mgradient_name\u001b[0m \u001b[0;34m=\u001b[0m \u001b[0mself\u001b[0m\u001b[0;34m.\u001b[0m\u001b[0m_delayed_rewrite_functions\u001b[0m\u001b[0;34m.\u001b[0m\u001b[0mregister\u001b[0m\u001b[0;34m(\u001b[0m\u001b[0;34m)\u001b[0m\u001b[0;34m\u001b[0m\u001b[0;34m\u001b[0m\u001b[0m\n",
      "\u001b[0;32m~/anaconda3/envs/tf2/lib/python3.7/site-packages/tensorflow_core/python/eager/function.py\u001b[0m in \u001b[0;36mcall\u001b[0;34m(self, ctx, args, cancellation_manager)\u001b[0m\n\u001b[1;32m    509\u001b[0m               \u001b[0minputs\u001b[0m\u001b[0;34m=\u001b[0m\u001b[0margs\u001b[0m\u001b[0;34m,\u001b[0m\u001b[0;34m\u001b[0m\u001b[0;34m\u001b[0m\u001b[0m\n\u001b[1;32m    510\u001b[0m               \u001b[0mattrs\u001b[0m\u001b[0;34m=\u001b[0m\u001b[0;34m(\u001b[0m\u001b[0;34m\"executor_type\"\u001b[0m\u001b[0;34m,\u001b[0m \u001b[0mexecutor_type\u001b[0m\u001b[0;34m,\u001b[0m \u001b[0;34m\"config_proto\"\u001b[0m\u001b[0;34m,\u001b[0m \u001b[0mconfig\u001b[0m\u001b[0;34m)\u001b[0m\u001b[0;34m,\u001b[0m\u001b[0;34m\u001b[0m\u001b[0;34m\u001b[0m\u001b[0m\n\u001b[0;32m--> 511\u001b[0;31m               ctx=ctx)\n\u001b[0m\u001b[1;32m    512\u001b[0m         \u001b[0;32melse\u001b[0m\u001b[0;34m:\u001b[0m\u001b[0;34m\u001b[0m\u001b[0;34m\u001b[0m\u001b[0m\n\u001b[1;32m    513\u001b[0m           outputs = execute.execute_with_cancellation(\n",
      "\u001b[0;32m~/anaconda3/envs/tf2/lib/python3.7/site-packages/tensorflow_core/python/eager/execute.py\u001b[0m in \u001b[0;36mquick_execute\u001b[0;34m(op_name, num_outputs, inputs, attrs, ctx, name)\u001b[0m\n\u001b[1;32m     59\u001b[0m     tensors = pywrap_tensorflow.TFE_Py_Execute(ctx._handle, device_name,\n\u001b[1;32m     60\u001b[0m                                                \u001b[0mop_name\u001b[0m\u001b[0;34m,\u001b[0m \u001b[0minputs\u001b[0m\u001b[0;34m,\u001b[0m \u001b[0mattrs\u001b[0m\u001b[0;34m,\u001b[0m\u001b[0;34m\u001b[0m\u001b[0;34m\u001b[0m\u001b[0m\n\u001b[0;32m---> 61\u001b[0;31m                                                num_outputs)\n\u001b[0m\u001b[1;32m     62\u001b[0m   \u001b[0;32mexcept\u001b[0m \u001b[0mcore\u001b[0m\u001b[0;34m.\u001b[0m\u001b[0m_NotOkStatusException\u001b[0m \u001b[0;32mas\u001b[0m \u001b[0me\u001b[0m\u001b[0;34m:\u001b[0m\u001b[0;34m\u001b[0m\u001b[0;34m\u001b[0m\u001b[0m\n\u001b[1;32m     63\u001b[0m     \u001b[0;32mif\u001b[0m \u001b[0mname\u001b[0m \u001b[0;32mis\u001b[0m \u001b[0;32mnot\u001b[0m \u001b[0;32mNone\u001b[0m\u001b[0;34m:\u001b[0m\u001b[0;34m\u001b[0m\u001b[0;34m\u001b[0m\u001b[0m\n",
      "\u001b[0;31mKeyboardInterrupt\u001b[0m: "
     ]
    }
   ],
   "source": [
>>>>>>> 0747259c61d51213a9fd47f267419effc2b9c4fa
    "start = time()\n",
    "history = model.fit(train_batches,\n",
    "                    epochs=EPOCHS,\n",
    "                    validation_data=validation_batches)\n",
    "print('\\nTraining took {}'.format(print_time(time()-start)))"
   ]
  },
  {
   "cell_type": "code",
   "execution_count": 52,
   "metadata": {
    "colab": {},
    "colab_type": "code",
    "id": "RpR8HdyMhukJ"
   },
   "outputs": [],
   "source": [
    "losses, val_losses, macro_f1s, val_macro_f1s = learning_curves(history)\n",
    "\n",
    "# loss=tf.keras.metrics.binary_crossentropy,\n",
    "#    metrics=[macro_f1, keras.metrics.mae, keras.metrics.categorical_accuracy,macro_soft_f1]"
   ]
  },
  {
   "cell_type": "code",
   "execution_count": 60,
   "metadata": {
    "colab": {},
    "colab_type": "code",
    "id": "RpR8HdyMhukJ"
   },
   "outputs": [
    {
     "data": {
      "text/plain": [
       "[0.71925074,\n",
       " 0.8670994,\n",
       " 0.8844585,\n",
       " 0.8932493,\n",
       " 0.8989614,\n",
       " 0.9018175,\n",
       " 0.9055638,\n",
       " 0.90719587,\n",
       " 0.90986645,\n",
       " 0.9121662,\n",
       " 0.9135015,\n",
       " 0.91520774,\n",
       " 0.916543,\n",
       " 0.91765577,\n",
       " 0.91865724,\n",
       " 0.92021513,\n",
       " 0.92114246,\n",
       " 0.9218843,\n",
       " 0.9227003,\n",
       " 0.9232567,\n",
       " 0.9242582,\n",
       " 0.9251113,\n",
       " 0.9263724,\n",
       " 0.92692876,\n",
       " 0.9275594,\n",
       " 0.9285979,\n",
       " 0.9293027,\n",
       " 0.9300074,\n",
       " 0.93034124,\n",
       " 0.9310831]"
      ]
     },
     "execution_count": 60,
     "metadata": {},
     "output_type": "execute_result"
    }
   ],
   "source": [
    "history.history['categorical_accuracy']"
   ]
  },
  {
   "cell_type": "code",
   "execution_count": 52,
   "metadata": {
    "colab": {},
    "colab_type": "code",
    "id": "RpR8HdyMhukJ"
   },
   "outputs": [
    {
     "data": {
      "image/png": "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\n",
      "text/plain": [
       "<Figure size 576x576 with 2 Axes>"
      ]
     },
     "metadata": {},
     "output_type": "display_data"
    },
    {
     "name": "stdout",
     "output_type": "stream",
     "text": [
      "Macro soft-F1 loss: 2.08\n",
      "Macro F1-score: 0.15\n"
     ]
    }
   ],
   "source": [
    "print(\"Macro soft-F1 loss: %.2f\" %val_losses[-1])\n",
    "print(\"Macro F1-score: %.2f\" %val_macro_f1s[-1])"
   ]
  },
  {
   "cell_type": "code",
   "execution_count": 50,
   "metadata": {
    "colab": {},
    "colab_type": "code",
    "id": "RpR8HdyMhukJ"
   },
   "outputs": [],
   "source": [
    "# Save the model\n",
    "model.save('path_to_my_model.h5')\n",
    "\n",
    "# # Recreate the exact same model purely from the file\n",
    "# new_model = keras.models.load_model('path_to_my_model.h5')\n",
    "\n",
    "\n",
    "import pickle"
   ]
  },
  {
   "cell_type": "code",
   "execution_count": 50,
   "metadata": {
    "colab": {},
    "colab_type": "code",
    "id": "RpR8HdyMhukJ"
   },
   "outputs": [],
   "source": [
    "# confustion matrixes are something like this....\n",
    "y_pred=model.predict_classes(test_images)\n",
    "con_mat = tf.math.confusion_matrix(labels=y_true, predictions=y_pred).numpy()"
   ]
  },
  {
   "cell_type": "markdown",
   "metadata": {
    "colab": {},
    "colab_type": "code",
    "id": "RpR8HdyMhukJ"
   },
   "source": [
    "Normalization Confusion Matrix to the interpretation of which class is being misclassified."
   ]
  },
  {
   "cell_type": "code",
   "execution_count": 50,
   "metadata": {
    "colab": {},
    "colab_type": "code",
    "id": "RpR8HdyMhukJ"
   },
   "outputs": [],
   "source": [
    "con_mat_norm = np.around(con_mat.astype('float') / con_mat.sum(axis=1)[:, np.newaxis], decimals=2)\n",
    "\n",
    "con_mat_df = pd.DataFrame(con_mat_norm,\n",
    "                     index = classes, \n",
    "                     columns = classes)\n"
   ]
  },
  {
   "cell_type": "code",
   "execution_count": 51,
   "metadata": {
    "colab": {},
    "colab_type": "code",
    "id": "RpR8HdyMhukJ"
   },
   "outputs": [],
   "source": [
    "with open('text3', 'wb') as f:\n",
    "    pickle.dump(history.history, f)\n",
    "    "
   ]
  },
  {
   "cell_type": "code",
   "execution_count": null,
   "metadata": {},
   "outputs": [],
   "source": [
    "initial_epochs = 10\n",
    "validation_steps=20\n",
    "\n",
    "\n",
    "\n",
    "model.compile(\n",
    "    optimizer=tf.keras.optimizers.Adam(lr=5e-4),\n",
    "    loss=tf.keras.metrics.binary_crossentropy,\n",
    "    metrics=[macro_f1, metrics.mae, metrics.categorical_accuracy]\n",
    ")\n",
    "\n",
    "loss0,accuracy0 = model.evaluate(validation_batches, steps = validation_steps)"
   ]
  },
  {
   "cell_type": "code",
   "execution_count": 49,
   "metadata": {},
   "outputs": [],
   "source": [
    "\n",
    "import os\n",
    "import shutil\n",
    "import urllib.error\n",
    "import urllib.request\n",
    "\n",
    "import matplotlib.pyplot as plt\n",
    "import matplotlib.style as style\n",
    "import multiprocessing\n",
    "\n",
    "import numpy as np\n",
    "import pandas as pd\n",
    "import tensorflow as tf\n",
    "\n",
    "from joblib import Parallel, delayed\n",
    "from time import time\n",
    "#from tqdm import tqdm\n",
    "\n",
    "\n",
    "def download_parallel(movies, image_dir):\n",
    "    \"\"\"Downloads images from Internet in parallel.\n",
    "    \n",
    "    Args:\n",
    "        movies (dataframe): must contain 'imdbId' and 'Poster' url columns\n",
    "        image_dir (string): path to destination directory\n",
    "    \n",
    "    Returns:\n",
    "        movies (dataframe): input dataframe without posters that failed to download\n",
    "    \"\"\"\n",
    "    \n",
    "    # Create list of filenames\n",
    "    filenames = movies['imdbId'].apply(lambda imbdId : os.path.join(image_dir, str(imbdId)+'.jpg'))\n",
    "    # Create list of image urls\n",
    "    urls = movies['Poster']\n",
    "\n",
    "    # Create destination directory\n",
    "    if os.path.exists(image_dir):\n",
    "        print(\"Directory '{}' already exists and will be deleted.\".format(image_dir))\n",
    "        shutil.rmtree(image_dir)\n",
    "    print(\"Created new directory '{}'\".format(image_dir))\n",
    "    os.makedirs(image_dir)\n",
    "    \n",
    "    # Define function to download one single image\n",
    "    def download_image(url, filename):\n",
    "        try:\n",
    "            urllib.request.urlretrieve(url, filename)\n",
    "            return 0\n",
    "        except:\n",
    "            return os.path.basename(filename).split('.')[0]\n",
    "    \n",
    "    # Download images in parallel\n",
    "    start = time()\n",
    "    print(\"\\nDownloading...\")\n",
    "    num_cores = multiprocessing.cpu_count()\n",
    "    ko_list = Parallel(n_jobs=num_cores)(delayed(download_image)(u, f) for f, u in zip(filenames, urls))\n",
    "    \n",
    "    print(\"\\nDownload in parallel mode took %d seconds.\" %(time()-start))\n",
    "    print(\"Success:\", len([i for i in ko_list if i==0]))\n",
    "    print(\"Errors:\", len([i for i in ko_list if i!=0]))\n",
    "    \n",
    "    # Remove not downloaded posters from the dataframe\n",
    "    ko_index = movies[movies['imdbId'].isin(ko_list)].index\n",
    "    movies = movies.drop(ko_index)\n",
    "    \n",
    "    return movies\n",
    "    \n",
    "\n",
    "def download_sequential(movies, image_dir):\n",
    "    \"\"\"Downloads images from Internet sequentially.\n",
    "    \n",
    "    Args:\n",
    "        movies (dataframe): must contain 'imdbId' and 'Poster' columns\n",
    "        image_dir (string): path to destination directory\n",
    "        \n",
    "    Returns:\n",
    "        movies (dataframe): input dataframe without posters that failed to download\n",
    "    \"\"\"\n",
    "    \n",
    "    # Create list of filenames\n",
    "    filenames = movies['imdbId'].apply(lambda imbdId : os.path.join(image_dir, str(imbdId)+'.jpg'))\n",
    "    # Create list of image urls\n",
    "    urls = movies['Poster']\n",
    "\n",
    "    # Create destination directory\n",
    "    if os.path.exists(image_dir):\n",
    "        print(\"Directory '{}' already exists and will be deleted.\".format(image_dir))\n",
    "        shutil.rmtree(image_dir)\n",
    "    print(\"Created new directory '{}'\".format(image_dir))\n",
    "    os.makedirs(image_dir)\n",
    "    \n",
    "    # Define function to download one single image\n",
    "    def download_image(image_path, filename):\n",
    "        urllib.request.urlretrieve(image_path, filename)\n",
    "    \n",
    "    # Download images sequentially\n",
    "    start = time()\n",
    "    print(\"\\nDownloading...\")\n",
    "    ko_list = []\n",
    "    for i in tqdm(range(len(filenames))):\n",
    "        filename = filenames.iloc[i]\n",
    "        url = urls.iloc[i]\n",
    "        try:\n",
    "            download_image(url, filename)\n",
    "        except:\n",
    "            img_id = os.path.basename(filename).split('.')[0]\n",
    "            ko_list.append(img_id)\n",
    "            pass\n",
    "    \n",
    "    print(\"\\nDownload in sequential mode took %d seconds.\" %(time()-start))\n",
    "    print(\"Success:\", (len(filenames)-len(ko_list)))\n",
    "    print(\"Errors:\", len(ko_list))\n",
    "    \n",
    "    # Remove not downloaded posters from the dataframe\n",
    "    ko_index = movies[movies['imdbId'].isin(ko_list)].index\n",
    "    movies = movies.drop(ko_index)\n",
    "    \n",
    "    return movies\n",
    "\n",
    "\n",
    "def micro_bce(y, y_hat):\n",
    "    \"\"\"Compute the micro binary cross-entropy on a batch of observations.\n",
    "    \n",
    "    Args:\n",
    "        y (int32 Tensor): targets array of shape (BATCH_SIZE, N_LABELS)      \n",
    "        y_hat (float32 Tensor): probability matrix output from forward propagation of shape (BATCH_SIZE, N_LABELS)\n",
    "        \n",
    "    Returns:\n",
    "        cost (scalar Tensor): value of the cost function for the batch\n",
    "    \"\"\"\n",
    "    # Convert the target array to float32\n",
    "    y = tf.cast(y, tf.float32)\n",
    "    # Implement cross entropy loss for each observation and label\n",
    "    cross_entropy = - y * tf.math.log(tf.maximum(y_hat, 1e-16)) - (1-y) * tf.math.log(tf.maximum(1-y_hat, 1e-16))\n",
    "    # Average binary cross entropy across all batch observations and labels\n",
    "    cost = tf.reduce_mean(cross_entropy)\n",
    "    return cost\n",
    "\n",
    "\n",
    "def macro_bce(y, y_hat):\n",
    "    \"\"\"Compute the macro binary cross-entropy on a batch of observations (average across all labels).\n",
    "    \n",
    "    Args:\n",
    "        y (int32 Tensor): targets array of shape (BATCH_SIZE, N_LABELS)      \n",
    "        y_hat (float32 Tensor): probability matrix from forward propagation of shape (BATCH_SIZE, N_LABELS)\n",
    "        \n",
    "    Returns:\n",
    "        cost (scalar Tensor): value of the cost function for the batch\n",
    "    \"\"\"\n",
    "    # Convert the target array to float32\n",
    "    y = tf.cast(y, tf.float32)\n",
    "    # Implement cross entropy loss for each observation and label\n",
    "    cross_entropy = - y * tf.math.log(tf.maximum(y_hat, 1e-16)) - (1-y) * tf.math.log(tf.maximum(1-y_hat, 1e-16))\n",
    "    # Average all binary cross entropy losses over the whole batch for each label\n",
    "    cost = tf.reduce_mean(cross_entropy, axis=0)\n",
    "    # Average all binary cross entropy losses over labels within the batch\n",
    "    cost = tf.reduce_mean(cost)\n",
    "    return cost\n",
    "\n",
    "\n",
    "def macro_double_soft_f1(y, y_hat):\n",
    "    \"\"\"Compute the macro soft F1-score as a cost (average 1 - soft-F1 across all labels).\n",
    "    Use probability values instead of binary predictions.\n",
    "    This version uses the computation of soft-F1 for both positive and negative class for each label.\n",
    "    \n",
    "    Args:\n",
    "        y (int32 Tensor): targets array of shape (BATCH_SIZE, N_LABELS)\n",
    "        y_hat (float32 Tensor): probability matrix from forward propagation of shape (BATCH_SIZE, N_LABELS)\n",
    "        \n",
    "    Returns:\n",
    "        cost (scalar Tensor): value of the cost function for the batch\n",
    "    \"\"\"\n",
    "    y = tf.cast(y, tf.float32)\n",
    "    y_hat = tf.cast(y_hat, tf.float32)\n",
    "    tp = tf.reduce_sum(y_hat * y, axis=0)\n",
    "    fp = tf.reduce_sum(y_hat * (1 - y), axis=0)\n",
    "    fn = tf.reduce_sum((1 - y_hat) * y, axis=0)\n",
    "    tn = tf.reduce_sum((1 - y_hat) * (1 - y), axis=0)\n",
    "    soft_f1_class1 = 2*tp / (2*tp + fn + fp + 1e-16)\n",
    "    soft_f1_class0 = 2*tn / (2*tn + fn + fp + 1e-16)\n",
    "    cost_class1 = 1 - soft_f1_class1 # reduce 1 - soft-f1_class1 in order to increase soft-f1 on class 1\n",
    "    cost_class0 = 1 - soft_f1_class0 # reduce 1 - soft-f1_class0 in order to increase soft-f1 on class 0\n",
    "    cost = 0.5 * (cost_class1 + cost_class0) # take into account both class 1 and class 0\n",
    "    macro_cost = tf.reduce_mean(cost) # average on all labels\n",
    "    return macro_cost\n",
    "\n",
    "\n",
    "def learning_curves(history):\n",
    "    \"\"\"Plot the learning curves of loss and macro f1 score \n",
    "    for the training and validation datasets.\n",
    "    \n",
    "    Args:\n",
    "        history: history callback of fitting a tensorflow keras model \n",
    "    \"\"\"\n",
    "    \n",
    "    \n",
    "    #loss=tf.keras.metrics.binary_crossentropy,\n",
    "    #metrics=[macro_f1, keras.metrics.mae, keras.metrics.categorical_accuracy,macro_soft_f1]\n",
    "\n",
    "    \n",
    "    loss = history.history['loss']\n",
    "    val_loss = history.history['val_loss']\n",
    "\n",
    "    macro_f1 = history.history['macro_f1']\n",
    "    val_macro_f1 = history.history['val_macro_f1']\n",
    "    \n",
    "    epochs = len(loss)\n",
    "\n",
    "    style.use(\"bmh\")\n",
    "    plt.figure(figsize=(8, 8))\n",
    "\n",
    "    plt.subplot(2, 1, 1)\n",
    "    plt.plot(range(1, epochs+1), loss, label='Training Loss')\n",
    "    plt.plot(range(1, epochs+1), val_loss, label='Validation Loss')\n",
    "    plt.legend(loc='upper right')\n",
    "    plt.ylabel('Loss')\n",
    "    plt.title('Training and Validation Loss')\n",
    "\n",
    "    plt.subplot(2, 1, 2)\n",
    "    plt.plot(range(1, epochs+1), macro_f1, label='Training Macro F1-score')\n",
    "    plt.plot(range(1, epochs+1), val_macro_f1, label='Validation Macro F1-score')\n",
    "    plt.legend(loc='lower right')\n",
    "    plt.ylabel('Macro F1-score')\n",
    "    plt.title('Training and Validation Macro F1-score')\n",
    "    plt.xlabel('epoch')\n",
    "\n",
    "    plt.show()\n",
    "    \n",
    "    return loss, val_loss, macro_f1, val_macro_f1\n",
    "\n",
    "\n",
    "def perf_grid(ds, target, label_names, model, n_thresh=100):\n",
    "    \"\"\"Computes the performance table containing target, label names,\n",
    "    label frequencies, thresholds between 0 and 1, number of tp, fp, fn,\n",
    "    precision, recall and f-score metrics for each label.\n",
    "    \n",
    "    Args:\n",
    "        ds (tf.data.Datatset): contains the features array\n",
    "        target (numpy array): target matrix of shape (BATCH_SIZE, N_LABELS)\n",
    "        label_names (list of strings): column names in target matrix\n",
    "        model (tensorflow keras model): model to use for prediction\n",
    "        n_thresh (int) : number of thresholds to try\n",
    "        \n",
    "    Returns:\n",
    "        grid (Pandas dataframe): performance table \n",
    "    \"\"\"\n",
    "    \n",
    "    # Get predictions\n",
    "    y_hat_val = model.predict(ds)\n",
    "    # Define target matrix\n",
    "    y_val = target\n",
    "    # Find label frequencies in the validation set\n",
    "    label_freq = target.sum(axis=0)\n",
    "    # Get label indexes\n",
    "    label_index = [i for i in range(len(label_names))]\n",
    "    # Define thresholds\n",
    "    thresholds = np.linspace(0,1,n_thresh+1).astype(np.float32)\n",
    "    \n",
    "    # Compute all metrics for all labels\n",
    "    ids, labels, freqs, tps, fps, fns, precisions, recalls, f1s = [], [], [], [], [], [], [], [], []\n",
    "    for l in label_index:\n",
    "        for thresh in thresholds:   \n",
    "            ids.append(l)\n",
    "            labels.append(label_names[l])\n",
    "            freqs.append(round(label_freq[l]/len(y_val),2))\n",
    "            y_hat = y_hat_val[:,l]\n",
    "            y = y_val[:,l]\n",
    "            y_pred = y_hat > thresh\n",
    "            tp = np.count_nonzero(y_pred  * y)\n",
    "            fp = np.count_nonzero(y_pred * (1-y))\n",
    "            fn = np.count_nonzero((1-y_pred) * y)\n",
    "            precision = tp / (tp + fp + 1e-16)\n",
    "            recall = tp / (tp + fn + 1e-16)\n",
    "            f1 = 2*tp / (2*tp + fn + fp + 1e-16)\n",
    "            tps.append(tp)\n",
    "            fps.append(fp)\n",
    "            fns.append(fn)\n",
    "            precisions.append(precision)\n",
    "            recalls.append(recall)\n",
    "            f1s.append(f1)\n",
    "            \n",
    "    # Create the performance dataframe\n",
    "    grid = pd.DataFrame({\n",
    "        'id':ids,\n",
    "        'label':labels,\n",
    "        'freq':freqs,\n",
    "        'threshold':list(thresholds)*len(label_index),\n",
    "        'tp':tps,\n",
    "        'fp':fps,\n",
    "        'fn':fns,\n",
    "        'precision':precisions,\n",
    "        'recall':recalls,\n",
    "        'f1':f1s})\n",
    "    \n",
    "    grid = grid[['id', 'label', 'freq', 'threshold',\n",
    "                 'tp', 'fn', 'fp', 'precision', 'recall', 'f1']]\n",
    "    \n",
    "    return grid\n",
    "\n",
    "\n",
    "def print_time(t):\n",
    "    \"\"\"Function that converts time period in seconds into %h:%m:%s expression.\n",
    "    Args:\n",
    "        t (int): time period in seconds\n",
    "    Returns:\n",
    "        s (string): time period formatted\n",
    "    \"\"\"\n",
    "    h = t//3600\n",
    "    m = (t%3600)//60\n",
    "    s = (t%3600)%60\n",
    "    return '%dh:%dm:%ds'%(h,m,s)\n"
   ]
  },
  {
   "cell_type": "markdown",
   "metadata": {
    "colab_type": "text",
    "id": "RxvgOYTDSWTx"
   },
   "source": [
    "### Train the model\n",
    "\n",
    "After training for 10 epochs, you should see ~96% accuracy.\n"
   ]
  },
  {
   "cell_type": "code",
   "execution_count": null,
   "metadata": {},
   "outputs": [],
   "source": [
    "print(\"initial loss: {:.2f}\".format(loss0))\n",
    "print(\"initial accuracy: {:.2f}\".format(accuracy0))"
   ]
  },
  {
   "cell_type": "code",
   "execution_count": null,
   "metadata": {},
   "outputs": [],
   "source": [
    "history = model.fit(train_batches,\n",
    "                    epochs=initial_epochs,\n",
    "                    validation_data=validation_batches)\n",
    "\n"
   ]
  },
  {
   "cell_type": "code",
   "execution_count": null,
   "metadata": {},
   "outputs": [],
   "source": [
    "history.history['macro_f1']"
   ]
  },
  {
   "cell_type": "markdown",
   "metadata": {
    "colab_type": "text",
    "id": "Hd94CKImf8vi"
   },
   "source": [
    "### Learning curves\n",
    "\n",
    "Let's take a look at the learning curves of the training and validation accuracy/loss when using the MobileNet V2 base model as a fixed feature extractor."
   ]
  },
  {
   "cell_type": "code",
   "execution_count": null,
   "metadata": {
    "colab": {},
    "colab_type": "code",
    "id": "53OTCh3jnbwV"
   },
   "outputs": [],
   "source": [
    "acc = history.history['accuracy']\n",
    "val_acc = history.history['val_accuracy']\n",
    "\n",
    "loss = history.history['loss']\n",
    "val_loss = history.history['val_loss']\n",
    "\n",
    "plt.figure(figsize=(8, 8))\n",
    "plt.subplot(2, 1, 1)\n",
    "plt.plot(acc, label='Training Accuracy')\n",
    "plt.plot(val_acc, label='Validation Accuracy')\n",
    "plt.legend(loc='lower right')\n",
    "plt.ylabel('Accuracy')\n",
    "plt.ylim([min(plt.ylim()),1])\n",
    "plt.title('Training and Validation Accuracy')\n",
    "\n",
    "plt.subplot(2, 1, 2)\n",
    "plt.plot(loss, label='Training Loss')\n",
    "plt.plot(val_loss, label='Validation Loss')\n",
    "plt.legend(loc='upper right')\n",
    "plt.ylabel('Cross Entropy')\n",
    "plt.ylim([0,1.0])\n",
    "plt.title('Training and Validation Loss')\n",
    "plt.xlabel('epoch')\n",
    "plt.show()"
   ]
  },
  {
   "cell_type": "code",
   "execution_count": null,
   "metadata": {
    "colab": {},
    "colab_type": "code",
    "id": "RpR8HdyMhukJ"
   },
   "outputs": [],
   "source": [
    "#kullback_leibler_divergence\n",
    "\n",
    "class CollectBatchStats(tf.keras.callbacks.Callback):\n",
    "  def __init__(self):\n",
    "    self.batch_losses = []\n",
    "    self.batch_acc = []\n",
    "\n",
    "  def on_train_batch_end(self, batch, logs=None):\n",
    "    self.batch_losses.append(logs['loss'])\n",
    "    self.batch_acc.append(logs['acc'])\n",
    "    self.model.reset_metrics()\n",
    "\n",
    "    \n",
    "steps_per_epoch = np.ceil(image_data.samples/image_data.batch_size)\n",
    "\n",
    "batch_stats_callback = CollectBatchStats()\n",
    "\n",
    "history = model.fit_generator(image_data, epochs=2,\n",
    "                              steps_per_epoch=steps_per_epoch,\n",
    "                              callbacks = [batch_stats_callback])\n",
    "\n",
    "\n",
    "plt.figure()\n",
    "plt.ylabel(\"Loss\")\n",
    "plt.xlabel(\"Training Steps\")\n",
    "plt.ylim([0,2])\n",
    "plt.plot(batch_stats_callback.batch_losses)"
   ]
  },
  {
   "cell_type": "code",
   "execution_count": null,
   "metadata": {
    "colab": {},
    "colab_type": "code",
    "id": "iknFo3ELBVho"
   },
   "outputs": [],
   "source": [
    "validation = prepare_for_training2(validate_labeled_ds,is_training=False) #, cache=\"./shoestest.tfcache\")\n",
    "test       = prepare_for_training2(test_labeled_ds,is_training=False) #, cache=\"./shoestest.tfcache\")\n",
    "\n",
    "\n",
    "for image_batch, label_batch in train.take(1):\n",
    "    pass\n",
    "\n",
    "image_batch.shape\n",
    "\n",
    "for image_batch, label_batch in test.take(1):\n",
    "    pass\n",
    "\n",
    "image_batch.shape"
   ]
  },
  {
   "cell_type": "code",
   "execution_count": null,
   "metadata": {
    "colab": {},
    "colab_type": "code",
    "id": "I8ARiyMFsgbH"
   },
   "outputs": [],
   "source": [
    "model.summary()"
   ]
  },
  {
   "cell_type": "markdown",
   "metadata": {
    "colab_type": "text",
    "id": "lxOcmVr0ydFZ"
   },
   "source": [
    "The 2.5M parameters in MobileNet are frozen, but there are 1.2K _trainable_ parameters in the Dense layer.  These are divided between two `tf.Variable` objects, the weights and biases."
   ]
  },
  {
   "cell_type": "code",
   "execution_count": null,
   "metadata": {
    "colab": {},
    "colab_type": "code",
    "id": "krvBumovycVA"
   },
   "outputs": [],
   "source": [
    "len(model.trainable_variables)"
   ]
  },
  {
   "cell_type": "markdown",
   "metadata": {
    "colab_type": "text",
    "id": "RxvgOYTDSWTx"
   },
   "source": [
    "### Train the model\n",
    "\n",
    "After training for 10 epochs, you should see ~96% accuracy.\n"
   ]
  },
  {
   "cell_type": "code",
   "execution_count": null,
   "metadata": {
    "colab": {},
    "colab_type": "code",
    "id": "Om4O3EESkab1"
   },
   "outputs": [],
   "source": [
    "initial_epochs = 10\n",
    "\n",
    "validation_steps=20\n",
    "\n",
    "loss0,accuracy0 = model.evaluate(validation, steps = validation_steps)"
   ]
  },
  {
   "cell_type": "code",
   "execution_count": null,
   "metadata": {
    "colab": {},
    "colab_type": "code",
    "id": "8cYT1c48CuSd"
   },
   "outputs": [],
   "source": [
    "print(\"initial loss: {:.2f}\".format(loss0))\n",
    "print(\"initial accuracy: {:.2f}\".format(accuracy0))"
   ]
  },
  {
   "cell_type": "code",
   "execution_count": null,
   "metadata": {
    "colab": {},
    "colab_type": "code",
    "id": "JsaRFlZ9B6WK"
   },
   "outputs": [],
   "source": [
    "history = model.fit(train,\n",
    "                    epochs=initial_epochs,\n",
    "                    validation_data=validation,\n",
    "                    validation_steps = validation_steps,\n",
    "                    steps_per_epoch=STEPS_PER_EPOCH)"
   ]
  },
  {
   "cell_type": "markdown",
   "metadata": {
    "colab_type": "text",
    "id": "Hd94CKImf8vi"
   },
   "source": [
    "### Learning curves\n",
    "\n",
    "Let's take a look at the learning curves of the training and validation accuracy/loss when using the MobileNet V2 base model as a fixed feature extractor."
   ]
  },
  {
   "cell_type": "code",
   "execution_count": null,
   "metadata": {
    "colab": {},
    "colab_type": "code",
    "id": "53OTCh3jnbwV"
   },
   "outputs": [],
   "source": [
    "acc = history.history['accuracy']\n",
    "val_acc = history.history['val_accuracy']\n",
    "\n",
    "loss = history.history['loss']\n",
    "val_loss = history.history['val_loss']"
   ]
  },
  {
   "cell_type": "code",
   "execution_count": null,
   "metadata": {
    "colab": {},
    "colab_type": "code",
    "id": "53OTCh3jnbwV"
   },
   "outputs": [],
   "source": [
    "loss"
   ]
  },
  {
   "cell_type": "code",
   "execution_count": null,
   "metadata": {
    "colab": {},
    "colab_type": "code",
    "id": "53OTCh3jnbwV"
   },
   "outputs": [],
   "source": [
    "plt.figure(figsize=(8, 8))\n",
    "plt.subplot(2, 1, 1)\n",
    "plt.plot(acc, label='Training Accuracy')\n",
    "plt.plot(val_acc, label='Validation Accuracy')\n",
    "plt.legend(loc='lower right')\n",
    "plt.ylabel('Accuracy')\n",
    "plt.ylim([0,.3])\n",
    "plt.title('Training and Validation Accuracy')\n",
    "\n",
    "plt.subplot(2, 1, 2)\n",
    "plt.plot(loss, label='Training Loss')\n",
    "plt.plot(val_loss, label='Validation Loss')\n",
    "plt.legend(loc='upper right')\n",
    "plt.ylabel('Cross Entropy')\n",
    "plt.ylim([0,.5])\n",
    "plt.title('Training and Validation Loss')\n",
    "plt.xlabel('epoch')\n",
    "plt.show()"
   ]
  },
  {
   "cell_type": "markdown",
   "metadata": {
    "colab_type": "text",
    "id": "foWMyyUHbc1j"
   },
   "source": [
    "Note: If you are wondering why the validation metrics are clearly better than the training metrics, the main factor is because layers like `tf.keras.layers.BatchNormalization` and `tf.keras.layers.Dropout` affect accuracy during training. They are turned off when calculating validation loss.\n",
    "\n",
    "To a lesser extent, it is also because training metrics report the average for an epoch, while validation metrics are evaluated after the epoch, so validation metrics see a model that has trained slightly longer."
   ]
  },
  {
   "cell_type": "markdown",
   "metadata": {
    "colab_type": "text",
    "id": "CqwV-CRdS6Nv"
   },
   "source": [
    "## Fine tuning\n",
    "In the feature extraction experiment, you were only training a few layers on top of an MobileNet V2 base model. The weights of the pre-trained network were **not** updated during training.\n",
    "\n",
    "One way to increase performance even further is to train (or \"fine-tune\") the weights of the top layers of the pre-trained model alongside the training of the classifier you added. The training process will force the weights to be tuned from generic feature maps to features associated specifically with the dataset.\n",
    "\n",
    "Note: This should only be attempted after you have trained the top-level classifier with the pre-trained model set to non-trainable. If you add a randomly initialized classifier on top of a pre-trained model and attempt to train all layers jointly, the magnitude of the gradient updates will be too large (due to the random weights from the classifier) and your pre-trained model will forget what it has learned.\n",
    "\n",
    "Also, you should try to fine-tune a small number of top layers rather than the whole MobileNet model. In most convolutional networks, the higher up a layer is, the more specialized it is. The first few layers learn very simple and generic features that generalize to almost all types of images. As you go higher up, the features are increasingly more specific to the dataset on which the model was trained. The goal of fine-tuning is to adapt these specialized features to work with the new dataset, rather than overwrite the generic learning."
   ]
  },
  {
   "cell_type": "markdown",
   "metadata": {
    "colab_type": "text",
    "id": "CPXnzUK0QonF"
   },
   "source": [
    "### Un-freeze the top layers of the model\n"
   ]
  },
  {
   "cell_type": "markdown",
   "metadata": {
    "colab_type": "text",
    "id": "rfxv_ifotQak"
   },
   "source": [
    "All you need to do is unfreeze the `base_model` and set the bottom layers to be un-trainable. Then, you should recompile the model (necessary for these changes to take effect), and resume training."
   ]
  },
  {
   "cell_type": "code",
   "execution_count": null,
   "metadata": {
    "colab": {},
    "colab_type": "code",
    "id": "4nzcagVitLQm"
   },
   "outputs": [],
   "source": [
    "base_model.trainable = True"
   ]
  },
  {
   "cell_type": "code",
   "execution_count": null,
   "metadata": {
    "colab": {},
    "colab_type": "code",
    "id": "-4HgVAacRs5v"
   },
   "outputs": [],
   "source": [
    "# Let's take a look to see how many layers are in the base model\n",
    "print(\"Number of layers in the base model: \", len(base_model.layers))\n",
    "\n",
    "# Fine-tune from this layer onwards\n",
    "fine_tune_at = 100\n",
    "200\n",
    "# Freeze all the layers before the `fine_tune_at` layer\n",
    "for layer in base_model.layers[:fine_tune_at]:\n",
    "  layer.trainable =  False"
   ]
  },
  {
   "cell_type": "markdown",
   "metadata": {
    "colab_type": "text",
    "id": "4Uk1dgsxT0IS"
   },
   "source": [
    "### Compile the model\n",
    "\n",
    "Compile the model using a much lower learning rate."
   ]
  },
  {
   "cell_type": "code",
   "execution_count": null,
   "metadata": {
    "colab": {},
    "colab_type": "code",
    "id": "NtUnaz0WUDva"
   },
   "outputs": [],
   "source": [
    "model.compile(loss=tf.keras.losses.BinaryCrossentropy(from_logits=True),\n",
    "              optimizer = tf.keras.optimizers.RMSprop(lr=base_learning_rate/10),\n",
    "              metrics=['accuracy'])"
   ]
  },
  {
   "cell_type": "code",
   "execution_count": null,
   "metadata": {
    "colab": {},
    "colab_type": "code",
    "id": "WwBWy7J2kZvA"
   },
   "outputs": [],
   "source": [
    "model.summary()"
   ]
  },
  {
   "cell_type": "code",
   "execution_count": null,
   "metadata": {
    "colab": {},
    "colab_type": "code",
    "id": "bNXelbMQtonr"
   },
   "outputs": [],
   "source": [
    "len(model.trainable_variables)"
   ]
  },
  {
   "cell_type": "markdown",
   "metadata": {
    "colab_type": "text",
    "id": "4G5O4jd6TuAG"
   },
   "source": [
    "### Continue training the model"
   ]
  },
  {
   "cell_type": "markdown",
   "metadata": {
    "colab_type": "text",
    "id": "0foWUN-yDLo_"
   },
   "source": [
    "If you trained to convergence earlier, this step will improve your accuracy by a few percentage points."
   ]
  },
  {
   "cell_type": "code",
   "execution_count": null,
   "metadata": {
    "colab": {},
    "colab_type": "code",
    "id": "ECQLkAsFTlun"
   },
   "outputs": [],
   "source": [
    "fine_tune_epochs = 10\n",
    "total_epochs =  initial_epochs + fine_tune_epochs\n",
    "\n",
    "history_fine = model.fit(train,\n",
    "                         epochs=total_epochs,\n",
    "                         initial_epoch =  history.epoch[-1],\n",
    "                         validation_data=validation)"
   ]
  },
  {
   "cell_type": "markdown",
   "metadata": {
    "colab_type": "text",
    "id": "TfXEmsxQf6eP"
   },
   "source": [
    "Let's take a look at the learning curves of the training and validation accuracy/loss when fine-tuning the last few layers of the MobileNet V2 base model and training the classifier on top of it. The validation loss is much higher than the training loss, so you may get some overfitting.\n",
    "\n",
    "You may also get some overfitting as the new training set is relatively small and similar to the original MobileNet V2 datasets.\n"
   ]
  },
  {
   "cell_type": "markdown",
   "metadata": {
    "colab_type": "text",
    "id": "DNtfNZKlInGT"
   },
   "source": [
    "After fine tuning the model nearly reaches 98% accuracy."
   ]
  },
  {
   "cell_type": "code",
   "execution_count": null,
   "metadata": {
    "colab": {},
    "colab_type": "code",
    "id": "PpA8PlpQKygw"
   },
   "outputs": [],
   "source": [
    "acc += history_fine.history['accuracy']\n",
    "val_acc += history_fine.history['val_accuracy']\n",
    "\n",
    "loss += history_fine.history['loss']\n",
    "val_loss += history_fine.history['val_loss']"
   ]
  },
  {
   "cell_type": "code",
   "execution_count": null,
   "metadata": {
    "colab": {},
    "colab_type": "code",
    "id": "chW103JUItdk"
   },
   "outputs": [],
   "source": [
    "plt.figure(figsize=(8, 8))\n",
    "plt.subplot(2, 1, 1)\n",
    "plt.plot(acc, label='Training Accuracy')\n",
    "plt.plot(val_acc, label='Validation Accuracy')\n",
    "plt.ylim([0.8, 1])\n",
    "plt.plot([initial_epochs-1,initial_epochs-1],\n",
    "          plt.ylim(), label='Start Fine Tuning')\n",
    "plt.legend(loc='lower right')\n",
    "plt.title('Training and Validation Accuracy')\n",
    "\n",
    "plt.subplot(2, 1, 2)\n",
    "plt.plot(loss, label='Training Loss')\n",
    "plt.plot(val_loss, label='Validation Loss')\n",
    "plt.ylim([0, 1.0])\n",
    "plt.plot([initial_epochs-1,initial_epochs-1],\n",
    "         plt.ylim(), label='Start Fine Tuning')\n",
    "plt.legend(loc='upper right')\n",
    "plt.title('Training and Validation Loss')\n",
    "plt.xlabel('epoch')\n",
    "plt.show()"
   ]
  },
  {
   "cell_type": "markdown",
   "metadata": {
    "colab_type": "text",
    "id": "_TZTwG7nhm0C"
   },
   "source": [
    "## Summary:\n",
    "\n",
    "* **Using a pre-trained model for feature extraction**:  When working with a small dataset, it is a common practice to take advantage of features learned by a model trained on a larger dataset in the same domain. This is done by instantiating the pre-trained model and adding a fully-connected classifier on top. The pre-trained model is \"frozen\" and only the weights of the classifier get updated during training.\n",
    "In this case, the convolutional base extracted all the features associated with each image and you just trained a classifier that determines the image class given that set of extracted features.\n",
    "\n",
    "* **Fine-tuning a pre-trained model**: To further improve performance, one might want to repurpose the top-level layers of the pre-trained models to the new dataset via fine-tuning.\n",
    "In this case, you tuned your weights such that your model learned high-level features specific to the dataset. This technique is usually recommended when the training dataset is large and very similar to the original dataset that the pre-trained model was trained on.\n"
   ]
  },
  {
   "cell_type": "code",
   "execution_count": null,
   "metadata": {},
   "outputs": [],
   "source": []
  },
  {
   "cell_type": "code",
   "execution_count": null,
   "metadata": {},
   "outputs": [],
   "source": []
  },
  {
   "cell_type": "code",
   "execution_count": null,
   "metadata": {},
   "outputs": [],
   "source": []
  },
  {
   "cell_type": "code",
   "execution_count": null,
   "metadata": {},
   "outputs": [],
   "source": []
  },
  {
   "cell_type": "code",
   "execution_count": null,
   "metadata": {
    "colab": {},
    "colab_type": "code",
    "id": "iknFo3ELBVho"
   },
   "outputs": [],
   "source": [
    "### CROSS VALIDATION WOULD BE KEWL.... \n",
    "\n",
    "from sklearn.model_selection import KFold\n",
    "\n",
    "# Parameters\n",
    "learning_rate = 0.01\n",
    "batch_size = 500\n",
    "\n",
    "train_x_all = mnist.train.images\n",
    "train_y_all = mnist.train.labels\n",
    "test_x = mnist.test.images\n",
    "test_y = mnist.test.labels\n",
    "\n",
    "def run_train(session, train_x, train_y):\n",
    "  print \"\\nStart training\"\n",
    "  session.run(init)\n",
    "  for epoch in range(10):\n",
    "    total_batch = int(train_x.shape[0] / batch_size)\n",
    "    for i in range(total_batch):\n",
    "      batch_x = train_x[i*batch_size:(i+1)*batch_size]\n",
    "      batch_y = train_y[i*batch_size:(i+1)*batch_size]\n",
    "      _, c = session.run([optimizer, cost], feed_dict={x: batch_x, y: batch_y})\n",
    "      if i % 50 == 0:\n",
    "        print \"Epoch #%d step=%d cost=%f\" % (epoch, i, c)\n",
    "\n",
    "\n",
    "def cross_validate(session, split_size=5):\n",
    "  results = []\n",
    "  kf = KFold(n_splits=split_size)\n",
    "  for train_idx, val_idx in kf.split(train_x_all, train_y_all):\n",
    "    train_x = train_x_all[train_idx]\n",
    "    train_y = train_y_all[train_idx]\n",
    "    val_x = train_x_all[val_idx]\n",
    "    val_y = train_y_all[val_idx]\n",
    "    run_train(session, train_x, train_y)\n",
    "    results.append(session.run(accuracy, feed_dict={x: val_x, y: val_y}))\n",
    "\n",
    "  return results\n",
    "\n",
    "with tf.Session() as session:\n",
    "  result = cross_validate(session)\n",
    "  print \"Cross-validation result: %s\" % result\n",
    "  print \"Test accuracy: %f\" % session.run(accuracy, feed_dict={x: test_x, y: test_y})\n",
    "\n"
   ]
  },
  {
   "cell_type": "markdown",
   "metadata": {
    "colab_type": "text",
    "id": "6jobDTUs8Wxu"
   },
   "source": [
    "## Load using `keras.preprocessing`"
   ]
  },
  {
   "cell_type": "markdown",
   "metadata": {
    "colab_type": "text",
    "id": "ehhW308g8soJ"
   },
   "source": [
    "A simple way to load images is to use `tf.keras.preprocessing`."
   ]
  },
  {
   "cell_type": "code",
   "execution_count": null,
   "metadata": {
    "colab": {},
    "colab_type": "code",
    "id": "syDdF_LWVrWE"
   },
   "outputs": [],
   "source": [
    "# The 1./255 is to convert from uint8 to float32 in range [0,1].\n",
    "image_generator = tf.keras.preprocessing.image.ImageDataGenerator(rescale=1./255)"
   ]
  },
  {
   "cell_type": "markdown",
   "metadata": {
    "colab_type": "text",
    "id": "lAmtzsnjDNhB"
   },
   "source": [
    "Define some parameters for the loader:"
   ]
  },
  {
   "cell_type": "code",
   "execution_count": null,
   "metadata": {
    "colab": {},
    "colab_type": "code",
    "id": "1zf695or-Flq"
   },
   "outputs": [],
   "source": [
    "BATCH_SIZE = 32\n",
    "IMG_HEIGHT = 224\n",
    "IMG_WIDTH = 224\n",
    "STEPS_PER_EPOCH = np.ceil(image_count/BATCH_SIZE)\n",
    "\n",
    "train_dir = 'train'\n",
    "train_dir = pathlib.Path(train_dir)\n",
    "\n",
    "test_dir = 'test'\n",
    "test_dir = pathlib.Path(test_dir)\n"
   ]
  },
  {
   "cell_type": "code",
   "execution_count": null,
   "metadata": {
    "colab": {},
    "colab_type": "code",
    "id": "Pw94ajOOVrWI"
   },
   "outputs": [],
   "source": [
    "train_data_gen = image_generator.flow_from_directory(directory=str(train_dir),\n",
    "                                                     batch_size=BATCH_SIZE,\n",
    "                                                     shuffle=True,\n",
    "                                                     target_size=(IMG_HEIGHT, IMG_WIDTH),\n",
    "                                                     c200lasses = list(CLASS_NAMES))"
   ]
  },
  {
   "cell_type": "code",
   "execution_count": null,
   "metadata": {
    "colab": {},
    "colab_type": "code",
    "id": "Pw94ajOOVrWI"
   },
   "outputs": [],
   "source": [
    "test_data_gen = image_generator.flow_from_directory(directory=str(test_dir),\n",
    "                                                     batch_size=BATCH_SIZE,\n",
    "                                                     shuffle=True,\n",
    "                                                     target_size=(IMG_HEIGHT, IMG_WIDTH),\n",
    "                                                     classes = list(CLASS_NAMES))"
   ]
  },
  {
   "cell_type": "markdown",
   "metadata": {
    "colab_type": "text",
    "id": "2ZgIZeXaDUsF"
   },
   "source": [
    "Inspect a batch:"
   ]
  },
  {
   "cell_type": "code",
   "execution_count": null,
   "metadata": {
    "colab": {},
    "colab_type": "code",
    "id": "suh6Sjv68rY3"
   },
   "outputs": [],
   "source": [
    "image_batch, label_batch = next(train_data_gen)\n",
    "show_batch(image_batch, label_batch)"
   ]
  },
  {
   "cell_type": "markdown",
   "metadata": {
    "colab_type": "text",
    "id": "Ylj9fgkamgWZ"
   },
   "source": [
    "The above `keras.preprocessing` method is convienient, but has three downsides: \n",
    "\n",
    "1. It's slow. See the performance section below.\n",
    "1. It lacks fine-grained control.\n",
    "1. It is not well integrated with the rest of TensorFlow."
   ]
  }
 ],
 "metadata": {
  "accelerator": "GPU",
  "colab": {
   "collapsed_sections": [],
   "name": "transfer_learning.ipynb",
   "private_outputs": true,
   "provenance": [],
   "toc_visible": true
  },
  "kernelspec": {
   "display_name": "Python [conda env:tensorflow2_p36] *",
   "language": "python",
   "name": "conda-env-tensorflow2_p36-py"
  },
  "language_info": {
   "codemirror_mode": {
    "name": "ipython",
    "version": 3
   },
   "file_extension": ".py",
   "mimetype": "text/x-python",
   "name": "python",
   "nbconvert_exporter": "python",
   "pygments_lexer": "ipython3",
   "version": "3.6.5"
  },
  "toc": {
   "base_numbering": 1,
   "nav_menu": {},
   "number_sections": true,
   "sideBar": true,
   "skip_h1_title": false,
   "title_cell": "Table of Contents",
   "title_sidebar": "Contents",
   "toc_cell": false,
   "toc_position": {},
   "toc_section_display": true,
   "toc_window_display": false
  },
  "varInspector": {
   "cols": {
    "lenName": 16,
    "lenType": 16,
    "lenVar": 40
   },
   "kernels_config": {
    "python": {
     "delete_cmd_postfix": "",
     "delete_cmd_prefix": "del ",
     "library": "var_list.py",
     "varRefreshCmd": "print(var_dic_list())"
    },
    "r": {
     "delete_cmd_postfix": ") ",
     "delete_cmd_prefix": "rm(",
     "library": "var_list.r",
     "varRefreshCmd": "cat(var_dic_list()) "
    }
   },
   "types_to_exclude": [
    "module",
    "function",
    "builtin_function_or_method",
    "instance",
    "_Feature"
   ],
   "window_display": false
  }
 },
 "nbformat": 4,
 "nbformat_minor": 4
}
